{
 "cells": [
  {
   "cell_type": "code",
   "execution_count": 1,
   "id": "9836179a",
   "metadata": {},
   "outputs": [],
   "source": [
    "import pandas as pd"
   ]
  },
  {
   "cell_type": "code",
   "execution_count": 2,
   "id": "74e1beff",
   "metadata": {},
   "outputs": [],
   "source": [
    "df=pd.read_csv(\"Dataset.csv\")"
   ]
  },
  {
   "cell_type": "code",
   "execution_count": 3,
   "id": "1609eaa8",
   "metadata": {
    "scrolled": true
   },
   "outputs": [
    {
     "data": {
      "text/html": [
       "<div>\n",
       "<style scoped>\n",
       "    .dataframe tbody tr th:only-of-type {\n",
       "        vertical-align: middle;\n",
       "    }\n",
       "\n",
       "    .dataframe tbody tr th {\n",
       "        vertical-align: top;\n",
       "    }\n",
       "\n",
       "    .dataframe thead th {\n",
       "        text-align: right;\n",
       "    }\n",
       "</style>\n",
       "<table border=\"1\" class=\"dataframe\">\n",
       "  <thead>\n",
       "    <tr style=\"text-align: right;\">\n",
       "      <th></th>\n",
       "      <th>sku</th>\n",
       "      <th>national_inv</th>\n",
       "      <th>lead_time</th>\n",
       "      <th>in_transit_qty</th>\n",
       "      <th>forecast_3_month</th>\n",
       "      <th>forecast_6_month</th>\n",
       "      <th>forecast_9_month</th>\n",
       "      <th>sales_1_month</th>\n",
       "      <th>sales_3_month</th>\n",
       "      <th>sales_6_month</th>\n",
       "      <th>...</th>\n",
       "      <th>pieces_past_due</th>\n",
       "      <th>perf_6_month_avg</th>\n",
       "      <th>perf_12_month_avg</th>\n",
       "      <th>local_bo_qty</th>\n",
       "      <th>deck_risk</th>\n",
       "      <th>oe_constraint</th>\n",
       "      <th>ppap_risk</th>\n",
       "      <th>stop_auto_buy</th>\n",
       "      <th>rev_stop</th>\n",
       "      <th>went_on_backorder</th>\n",
       "    </tr>\n",
       "  </thead>\n",
       "  <tbody>\n",
       "    <tr>\n",
       "      <th>0</th>\n",
       "      <td>1888279</td>\n",
       "      <td>117</td>\n",
       "      <td>NaN</td>\n",
       "      <td>0</td>\n",
       "      <td>0</td>\n",
       "      <td>0</td>\n",
       "      <td>0</td>\n",
       "      <td>0</td>\n",
       "      <td>0</td>\n",
       "      <td>15</td>\n",
       "      <td>...</td>\n",
       "      <td>0</td>\n",
       "      <td>-99.00</td>\n",
       "      <td>-99.00</td>\n",
       "      <td>0</td>\n",
       "      <td>No</td>\n",
       "      <td>No</td>\n",
       "      <td>Yes</td>\n",
       "      <td>Yes</td>\n",
       "      <td>No</td>\n",
       "      <td>No</td>\n",
       "    </tr>\n",
       "    <tr>\n",
       "      <th>1</th>\n",
       "      <td>1870557</td>\n",
       "      <td>7</td>\n",
       "      <td>2.0</td>\n",
       "      <td>0</td>\n",
       "      <td>0</td>\n",
       "      <td>0</td>\n",
       "      <td>0</td>\n",
       "      <td>0</td>\n",
       "      <td>0</td>\n",
       "      <td>0</td>\n",
       "      <td>...</td>\n",
       "      <td>0</td>\n",
       "      <td>0.50</td>\n",
       "      <td>0.28</td>\n",
       "      <td>0</td>\n",
       "      <td>Yes</td>\n",
       "      <td>No</td>\n",
       "      <td>No</td>\n",
       "      <td>Yes</td>\n",
       "      <td>No</td>\n",
       "      <td>No</td>\n",
       "    </tr>\n",
       "    <tr>\n",
       "      <th>2</th>\n",
       "      <td>1475481</td>\n",
       "      <td>258</td>\n",
       "      <td>15.0</td>\n",
       "      <td>10</td>\n",
       "      <td>10</td>\n",
       "      <td>77</td>\n",
       "      <td>184</td>\n",
       "      <td>46</td>\n",
       "      <td>132</td>\n",
       "      <td>256</td>\n",
       "      <td>...</td>\n",
       "      <td>0</td>\n",
       "      <td>0.54</td>\n",
       "      <td>0.70</td>\n",
       "      <td>0</td>\n",
       "      <td>No</td>\n",
       "      <td>No</td>\n",
       "      <td>No</td>\n",
       "      <td>Yes</td>\n",
       "      <td>No</td>\n",
       "      <td>No</td>\n",
       "    </tr>\n",
       "    <tr>\n",
       "      <th>3</th>\n",
       "      <td>1758220</td>\n",
       "      <td>46</td>\n",
       "      <td>2.0</td>\n",
       "      <td>0</td>\n",
       "      <td>0</td>\n",
       "      <td>0</td>\n",
       "      <td>0</td>\n",
       "      <td>1</td>\n",
       "      <td>2</td>\n",
       "      <td>6</td>\n",
       "      <td>...</td>\n",
       "      <td>0</td>\n",
       "      <td>0.75</td>\n",
       "      <td>0.90</td>\n",
       "      <td>0</td>\n",
       "      <td>Yes</td>\n",
       "      <td>No</td>\n",
       "      <td>No</td>\n",
       "      <td>Yes</td>\n",
       "      <td>No</td>\n",
       "      <td>No</td>\n",
       "    </tr>\n",
       "    <tr>\n",
       "      <th>4</th>\n",
       "      <td>1360312</td>\n",
       "      <td>2</td>\n",
       "      <td>2.0</td>\n",
       "      <td>0</td>\n",
       "      <td>4</td>\n",
       "      <td>6</td>\n",
       "      <td>10</td>\n",
       "      <td>2</td>\n",
       "      <td>2</td>\n",
       "      <td>5</td>\n",
       "      <td>...</td>\n",
       "      <td>0</td>\n",
       "      <td>0.97</td>\n",
       "      <td>0.92</td>\n",
       "      <td>0</td>\n",
       "      <td>No</td>\n",
       "      <td>No</td>\n",
       "      <td>No</td>\n",
       "      <td>Yes</td>\n",
       "      <td>No</td>\n",
       "      <td>No</td>\n",
       "    </tr>\n",
       "  </tbody>\n",
       "</table>\n",
       "<p>5 rows × 23 columns</p>\n",
       "</div>"
      ],
      "text/plain": [
       "       sku  national_inv  lead_time  in_transit_qty  forecast_3_month  \\\n",
       "0  1888279           117        NaN               0                 0   \n",
       "1  1870557             7        2.0               0                 0   \n",
       "2  1475481           258       15.0              10                10   \n",
       "3  1758220            46        2.0               0                 0   \n",
       "4  1360312             2        2.0               0                 4   \n",
       "\n",
       "   forecast_6_month  forecast_9_month  sales_1_month  sales_3_month  \\\n",
       "0                 0                 0              0              0   \n",
       "1                 0                 0              0              0   \n",
       "2                77               184             46            132   \n",
       "3                 0                 0              1              2   \n",
       "4                 6                10              2              2   \n",
       "\n",
       "   sales_6_month  ...  pieces_past_due  perf_6_month_avg perf_12_month_avg  \\\n",
       "0             15  ...                0            -99.00            -99.00   \n",
       "1              0  ...                0              0.50              0.28   \n",
       "2            256  ...                0              0.54              0.70   \n",
       "3              6  ...                0              0.75              0.90   \n",
       "4              5  ...                0              0.97              0.92   \n",
       "\n",
       "   local_bo_qty  deck_risk  oe_constraint  ppap_risk stop_auto_buy rev_stop  \\\n",
       "0             0         No             No        Yes           Yes       No   \n",
       "1             0        Yes             No         No           Yes       No   \n",
       "2             0         No             No         No           Yes       No   \n",
       "3             0        Yes             No         No           Yes       No   \n",
       "4             0         No             No         No           Yes       No   \n",
       "\n",
       "  went_on_backorder  \n",
       "0                No  \n",
       "1                No  \n",
       "2                No  \n",
       "3                No  \n",
       "4                No  \n",
       "\n",
       "[5 rows x 23 columns]"
      ]
     },
     "execution_count": 3,
     "metadata": {},
     "output_type": "execute_result"
    }
   ],
   "source": [
    "df.head()"
   ]
  },
  {
   "cell_type": "code",
   "execution_count": 4,
   "id": "7d3fca5c",
   "metadata": {},
   "outputs": [
    {
     "data": {
      "text/plain": [
       "No     81.663933\n",
       "Yes    18.336067\n",
       "Name: went_on_backorder, dtype: float64"
      ]
     },
     "execution_count": 4,
     "metadata": {},
     "output_type": "execute_result"
    }
   ],
   "source": [
    "df.went_on_backorder.value_counts(normalize=True)*100"
   ]
  },
  {
   "cell_type": "code",
   "execution_count": 5,
   "id": "0828968d",
   "metadata": {},
   "outputs": [
    {
     "data": {
      "text/plain": [
       "sku                     0\n",
       "national_inv            0\n",
       "lead_time            3403\n",
       "in_transit_qty          0\n",
       "forecast_3_month        0\n",
       "forecast_6_month        0\n",
       "forecast_9_month        0\n",
       "sales_1_month           0\n",
       "sales_3_month           0\n",
       "sales_6_month           0\n",
       "sales_9_month           0\n",
       "min_bank                0\n",
       "potential_issue         0\n",
       "pieces_past_due         0\n",
       "perf_6_month_avg        0\n",
       "perf_12_month_avg       0\n",
       "local_bo_qty            0\n",
       "deck_risk               0\n",
       "oe_constraint           0\n",
       "ppap_risk               0\n",
       "stop_auto_buy           0\n",
       "rev_stop                0\n",
       "went_on_backorder       0\n",
       "dtype: int64"
      ]
     },
     "execution_count": 5,
     "metadata": {},
     "output_type": "execute_result"
    }
   ],
   "source": [
    "df.isna().sum()"
   ]
  },
  {
   "cell_type": "code",
   "execution_count": 6,
   "id": "605e6040",
   "metadata": {},
   "outputs": [],
   "source": [
    "df=df.dropna(how='any')"
   ]
  },
  {
   "cell_type": "code",
   "execution_count": 7,
   "id": "483c6350",
   "metadata": {},
   "outputs": [
    {
     "data": {
      "text/plain": [
       "sku                  0\n",
       "national_inv         0\n",
       "lead_time            0\n",
       "in_transit_qty       0\n",
       "forecast_3_month     0\n",
       "forecast_6_month     0\n",
       "forecast_9_month     0\n",
       "sales_1_month        0\n",
       "sales_3_month        0\n",
       "sales_6_month        0\n",
       "sales_9_month        0\n",
       "min_bank             0\n",
       "potential_issue      0\n",
       "pieces_past_due      0\n",
       "perf_6_month_avg     0\n",
       "perf_12_month_avg    0\n",
       "local_bo_qty         0\n",
       "deck_risk            0\n",
       "oe_constraint        0\n",
       "ppap_risk            0\n",
       "stop_auto_buy        0\n",
       "rev_stop             0\n",
       "went_on_backorder    0\n",
       "dtype: int64"
      ]
     },
     "execution_count": 7,
     "metadata": {},
     "output_type": "execute_result"
    }
   ],
   "source": [
    "df.isna().sum()"
   ]
  },
  {
   "cell_type": "code",
   "execution_count": 8,
   "id": "c7e0cad5",
   "metadata": {},
   "outputs": [
    {
     "data": {
      "text/plain": [
       "sku                    int64\n",
       "national_inv           int64\n",
       "lead_time            float64\n",
       "in_transit_qty         int64\n",
       "forecast_3_month       int64\n",
       "forecast_6_month       int64\n",
       "forecast_9_month       int64\n",
       "sales_1_month          int64\n",
       "sales_3_month          int64\n",
       "sales_6_month          int64\n",
       "sales_9_month          int64\n",
       "min_bank               int64\n",
       "potential_issue       object\n",
       "pieces_past_due        int64\n",
       "perf_6_month_avg     float64\n",
       "perf_12_month_avg    float64\n",
       "local_bo_qty           int64\n",
       "deck_risk             object\n",
       "oe_constraint         object\n",
       "ppap_risk             object\n",
       "stop_auto_buy         object\n",
       "rev_stop              object\n",
       "went_on_backorder     object\n",
       "dtype: object"
      ]
     },
     "execution_count": 8,
     "metadata": {},
     "output_type": "execute_result"
    }
   ],
   "source": [
    "df.dtypes"
   ]
  },
  {
   "cell_type": "code",
   "execution_count": 9,
   "id": "14ee84fc",
   "metadata": {},
   "outputs": [
    {
     "data": {
      "text/plain": [
       "Index(['sku', 'national_inv', 'lead_time', 'in_transit_qty',\n",
       "       'forecast_3_month', 'forecast_6_month', 'forecast_9_month',\n",
       "       'sales_1_month', 'sales_3_month', 'sales_6_month', 'sales_9_month',\n",
       "       'min_bank', 'potential_issue', 'pieces_past_due', 'perf_6_month_avg',\n",
       "       'perf_12_month_avg', 'local_bo_qty', 'deck_risk', 'oe_constraint',\n",
       "       'ppap_risk', 'stop_auto_buy', 'rev_stop', 'went_on_backorder'],\n",
       "      dtype='object')"
      ]
     },
     "execution_count": 9,
     "metadata": {},
     "output_type": "execute_result"
    }
   ],
   "source": [
    "df.columns"
   ]
  },
  {
   "cell_type": "code",
   "execution_count": 10,
   "id": "cedda863",
   "metadata": {},
   "outputs": [],
   "source": [
    "df.drop(['sku'],axis=1,inplace=True)"
   ]
  },
  {
   "cell_type": "code",
   "execution_count": 11,
   "id": "06a39572",
   "metadata": {},
   "outputs": [
    {
     "data": {
      "text/plain": [
       "Index(['national_inv', 'lead_time', 'in_transit_qty', 'forecast_3_month',\n",
       "       'forecast_6_month', 'forecast_9_month', 'sales_1_month',\n",
       "       'sales_3_month', 'sales_6_month', 'sales_9_month', 'min_bank',\n",
       "       'potential_issue', 'pieces_past_due', 'perf_6_month_avg',\n",
       "       'perf_12_month_avg', 'local_bo_qty', 'deck_risk', 'oe_constraint',\n",
       "       'ppap_risk', 'stop_auto_buy', 'rev_stop', 'went_on_backorder'],\n",
       "      dtype='object')"
      ]
     },
     "execution_count": 11,
     "metadata": {},
     "output_type": "execute_result"
    }
   ],
   "source": [
    "df.columns"
   ]
  },
  {
   "cell_type": "code",
   "execution_count": 12,
   "id": "a139deda",
   "metadata": {
    "scrolled": true
   },
   "outputs": [
    {
     "data": {
      "text/plain": [
       "(58186, 22)"
      ]
     },
     "execution_count": 12,
     "metadata": {},
     "output_type": "execute_result"
    }
   ],
   "source": [
    "df.shape"
   ]
  },
  {
   "cell_type": "code",
   "execution_count": 13,
   "id": "8a3eb573",
   "metadata": {},
   "outputs": [
    {
     "data": {
      "text/html": [
       "<div>\n",
       "<style scoped>\n",
       "    .dataframe tbody tr th:only-of-type {\n",
       "        vertical-align: middle;\n",
       "    }\n",
       "\n",
       "    .dataframe tbody tr th {\n",
       "        vertical-align: top;\n",
       "    }\n",
       "\n",
       "    .dataframe thead th {\n",
       "        text-align: right;\n",
       "    }\n",
       "</style>\n",
       "<table border=\"1\" class=\"dataframe\">\n",
       "  <thead>\n",
       "    <tr style=\"text-align: right;\">\n",
       "      <th></th>\n",
       "      <th>national_inv</th>\n",
       "      <th>lead_time</th>\n",
       "      <th>in_transit_qty</th>\n",
       "      <th>forecast_3_month</th>\n",
       "      <th>forecast_6_month</th>\n",
       "      <th>forecast_9_month</th>\n",
       "      <th>sales_1_month</th>\n",
       "      <th>sales_3_month</th>\n",
       "      <th>sales_6_month</th>\n",
       "      <th>sales_9_month</th>\n",
       "      <th>...</th>\n",
       "      <th>pieces_past_due</th>\n",
       "      <th>perf_6_month_avg</th>\n",
       "      <th>perf_12_month_avg</th>\n",
       "      <th>local_bo_qty</th>\n",
       "      <th>deck_risk</th>\n",
       "      <th>oe_constraint</th>\n",
       "      <th>ppap_risk</th>\n",
       "      <th>stop_auto_buy</th>\n",
       "      <th>rev_stop</th>\n",
       "      <th>went_on_backorder</th>\n",
       "    </tr>\n",
       "  </thead>\n",
       "  <tbody>\n",
       "    <tr>\n",
       "      <th>1</th>\n",
       "      <td>7</td>\n",
       "      <td>2.0</td>\n",
       "      <td>0</td>\n",
       "      <td>0</td>\n",
       "      <td>0</td>\n",
       "      <td>0</td>\n",
       "      <td>0</td>\n",
       "      <td>0</td>\n",
       "      <td>0</td>\n",
       "      <td>0</td>\n",
       "      <td>...</td>\n",
       "      <td>0</td>\n",
       "      <td>0.50</td>\n",
       "      <td>0.28</td>\n",
       "      <td>0</td>\n",
       "      <td>Yes</td>\n",
       "      <td>No</td>\n",
       "      <td>No</td>\n",
       "      <td>Yes</td>\n",
       "      <td>No</td>\n",
       "      <td>No</td>\n",
       "    </tr>\n",
       "    <tr>\n",
       "      <th>2</th>\n",
       "      <td>258</td>\n",
       "      <td>15.0</td>\n",
       "      <td>10</td>\n",
       "      <td>10</td>\n",
       "      <td>77</td>\n",
       "      <td>184</td>\n",
       "      <td>46</td>\n",
       "      <td>132</td>\n",
       "      <td>256</td>\n",
       "      <td>365</td>\n",
       "      <td>...</td>\n",
       "      <td>0</td>\n",
       "      <td>0.54</td>\n",
       "      <td>0.70</td>\n",
       "      <td>0</td>\n",
       "      <td>No</td>\n",
       "      <td>No</td>\n",
       "      <td>No</td>\n",
       "      <td>Yes</td>\n",
       "      <td>No</td>\n",
       "      <td>No</td>\n",
       "    </tr>\n",
       "    <tr>\n",
       "      <th>3</th>\n",
       "      <td>46</td>\n",
       "      <td>2.0</td>\n",
       "      <td>0</td>\n",
       "      <td>0</td>\n",
       "      <td>0</td>\n",
       "      <td>0</td>\n",
       "      <td>1</td>\n",
       "      <td>2</td>\n",
       "      <td>6</td>\n",
       "      <td>9</td>\n",
       "      <td>...</td>\n",
       "      <td>0</td>\n",
       "      <td>0.75</td>\n",
       "      <td>0.90</td>\n",
       "      <td>0</td>\n",
       "      <td>Yes</td>\n",
       "      <td>No</td>\n",
       "      <td>No</td>\n",
       "      <td>Yes</td>\n",
       "      <td>No</td>\n",
       "      <td>No</td>\n",
       "    </tr>\n",
       "    <tr>\n",
       "      <th>4</th>\n",
       "      <td>2</td>\n",
       "      <td>2.0</td>\n",
       "      <td>0</td>\n",
       "      <td>4</td>\n",
       "      <td>6</td>\n",
       "      <td>10</td>\n",
       "      <td>2</td>\n",
       "      <td>2</td>\n",
       "      <td>5</td>\n",
       "      <td>6</td>\n",
       "      <td>...</td>\n",
       "      <td>0</td>\n",
       "      <td>0.97</td>\n",
       "      <td>0.92</td>\n",
       "      <td>0</td>\n",
       "      <td>No</td>\n",
       "      <td>No</td>\n",
       "      <td>No</td>\n",
       "      <td>Yes</td>\n",
       "      <td>No</td>\n",
       "      <td>No</td>\n",
       "    </tr>\n",
       "    <tr>\n",
       "      <th>5</th>\n",
       "      <td>297</td>\n",
       "      <td>12.0</td>\n",
       "      <td>0</td>\n",
       "      <td>0</td>\n",
       "      <td>0</td>\n",
       "      <td>0</td>\n",
       "      <td>5</td>\n",
       "      <td>6</td>\n",
       "      <td>44</td>\n",
       "      <td>57</td>\n",
       "      <td>...</td>\n",
       "      <td>0</td>\n",
       "      <td>0.58</td>\n",
       "      <td>0.75</td>\n",
       "      <td>0</td>\n",
       "      <td>Yes</td>\n",
       "      <td>No</td>\n",
       "      <td>No</td>\n",
       "      <td>Yes</td>\n",
       "      <td>No</td>\n",
       "      <td>No</td>\n",
       "    </tr>\n",
       "    <tr>\n",
       "      <th>6</th>\n",
       "      <td>3285</td>\n",
       "      <td>8.0</td>\n",
       "      <td>0</td>\n",
       "      <td>0</td>\n",
       "      <td>0</td>\n",
       "      <td>0</td>\n",
       "      <td>18</td>\n",
       "      <td>81</td>\n",
       "      <td>162</td>\n",
       "      <td>304</td>\n",
       "      <td>...</td>\n",
       "      <td>0</td>\n",
       "      <td>0.61</td>\n",
       "      <td>0.57</td>\n",
       "      <td>0</td>\n",
       "      <td>No</td>\n",
       "      <td>No</td>\n",
       "      <td>No</td>\n",
       "      <td>Yes</td>\n",
       "      <td>No</td>\n",
       "      <td>No</td>\n",
       "    </tr>\n",
       "    <tr>\n",
       "      <th>7</th>\n",
       "      <td>6</td>\n",
       "      <td>2.0</td>\n",
       "      <td>0</td>\n",
       "      <td>0</td>\n",
       "      <td>3</td>\n",
       "      <td>9</td>\n",
       "      <td>1</td>\n",
       "      <td>5</td>\n",
       "      <td>8</td>\n",
       "      <td>13</td>\n",
       "      <td>...</td>\n",
       "      <td>0</td>\n",
       "      <td>0.86</td>\n",
       "      <td>0.77</td>\n",
       "      <td>0</td>\n",
       "      <td>No</td>\n",
       "      <td>No</td>\n",
       "      <td>No</td>\n",
       "      <td>Yes</td>\n",
       "      <td>No</td>\n",
       "      <td>Yes</td>\n",
       "    </tr>\n",
       "    <tr>\n",
       "      <th>8</th>\n",
       "      <td>99</td>\n",
       "      <td>8.0</td>\n",
       "      <td>0</td>\n",
       "      <td>46</td>\n",
       "      <td>169</td>\n",
       "      <td>225</td>\n",
       "      <td>2</td>\n",
       "      <td>22</td>\n",
       "      <td>176</td>\n",
       "      <td>263</td>\n",
       "      <td>...</td>\n",
       "      <td>0</td>\n",
       "      <td>0.11</td>\n",
       "      <td>0.37</td>\n",
       "      <td>0</td>\n",
       "      <td>No</td>\n",
       "      <td>No</td>\n",
       "      <td>No</td>\n",
       "      <td>Yes</td>\n",
       "      <td>No</td>\n",
       "      <td>No</td>\n",
       "    </tr>\n",
       "    <tr>\n",
       "      <th>9</th>\n",
       "      <td>52</td>\n",
       "      <td>2.0</td>\n",
       "      <td>0</td>\n",
       "      <td>0</td>\n",
       "      <td>0</td>\n",
       "      <td>0</td>\n",
       "      <td>0</td>\n",
       "      <td>0</td>\n",
       "      <td>0</td>\n",
       "      <td>0</td>\n",
       "      <td>...</td>\n",
       "      <td>0</td>\n",
       "      <td>0.83</td>\n",
       "      <td>0.69</td>\n",
       "      <td>0</td>\n",
       "      <td>No</td>\n",
       "      <td>No</td>\n",
       "      <td>No</td>\n",
       "      <td>Yes</td>\n",
       "      <td>No</td>\n",
       "      <td>No</td>\n",
       "    </tr>\n",
       "    <tr>\n",
       "      <th>11</th>\n",
       "      <td>0</td>\n",
       "      <td>12.0</td>\n",
       "      <td>0</td>\n",
       "      <td>8</td>\n",
       "      <td>11</td>\n",
       "      <td>17</td>\n",
       "      <td>0</td>\n",
       "      <td>3</td>\n",
       "      <td>10</td>\n",
       "      <td>13</td>\n",
       "      <td>...</td>\n",
       "      <td>0</td>\n",
       "      <td>0.78</td>\n",
       "      <td>0.78</td>\n",
       "      <td>0</td>\n",
       "      <td>No</td>\n",
       "      <td>No</td>\n",
       "      <td>No</td>\n",
       "      <td>Yes</td>\n",
       "      <td>No</td>\n",
       "      <td>Yes</td>\n",
       "    </tr>\n",
       "  </tbody>\n",
       "</table>\n",
       "<p>10 rows × 22 columns</p>\n",
       "</div>"
      ],
      "text/plain": [
       "    national_inv  lead_time  in_transit_qty  forecast_3_month  \\\n",
       "1              7        2.0               0                 0   \n",
       "2            258       15.0              10                10   \n",
       "3             46        2.0               0                 0   \n",
       "4              2        2.0               0                 4   \n",
       "5            297       12.0               0                 0   \n",
       "6           3285        8.0               0                 0   \n",
       "7              6        2.0               0                 0   \n",
       "8             99        8.0               0                46   \n",
       "9             52        2.0               0                 0   \n",
       "11             0       12.0               0                 8   \n",
       "\n",
       "    forecast_6_month  forecast_9_month  sales_1_month  sales_3_month  \\\n",
       "1                  0                 0              0              0   \n",
       "2                 77               184             46            132   \n",
       "3                  0                 0              1              2   \n",
       "4                  6                10              2              2   \n",
       "5                  0                 0              5              6   \n",
       "6                  0                 0             18             81   \n",
       "7                  3                 9              1              5   \n",
       "8                169               225              2             22   \n",
       "9                  0                 0              0              0   \n",
       "11                11                17              0              3   \n",
       "\n",
       "    sales_6_month  sales_9_month  ...  pieces_past_due perf_6_month_avg  \\\n",
       "1               0              0  ...                0             0.50   \n",
       "2             256            365  ...                0             0.54   \n",
       "3               6              9  ...                0             0.75   \n",
       "4               5              6  ...                0             0.97   \n",
       "5              44             57  ...                0             0.58   \n",
       "6             162            304  ...                0             0.61   \n",
       "7               8             13  ...                0             0.86   \n",
       "8             176            263  ...                0             0.11   \n",
       "9               0              0  ...                0             0.83   \n",
       "11             10             13  ...                0             0.78   \n",
       "\n",
       "    perf_12_month_avg  local_bo_qty  deck_risk  oe_constraint ppap_risk  \\\n",
       "1                0.28             0        Yes             No        No   \n",
       "2                0.70             0         No             No        No   \n",
       "3                0.90             0        Yes             No        No   \n",
       "4                0.92             0         No             No        No   \n",
       "5                0.75             0        Yes             No        No   \n",
       "6                0.57             0         No             No        No   \n",
       "7                0.77             0         No             No        No   \n",
       "8                0.37             0         No             No        No   \n",
       "9                0.69             0         No             No        No   \n",
       "11               0.78             0         No             No        No   \n",
       "\n",
       "   stop_auto_buy rev_stop went_on_backorder  \n",
       "1            Yes       No                No  \n",
       "2            Yes       No                No  \n",
       "3            Yes       No                No  \n",
       "4            Yes       No                No  \n",
       "5            Yes       No                No  \n",
       "6            Yes       No                No  \n",
       "7            Yes       No               Yes  \n",
       "8            Yes       No                No  \n",
       "9            Yes       No                No  \n",
       "11           Yes       No               Yes  \n",
       "\n",
       "[10 rows x 22 columns]"
      ]
     },
     "execution_count": 13,
     "metadata": {},
     "output_type": "execute_result"
    }
   ],
   "source": [
    "df.head(10)"
   ]
  },
  {
   "cell_type": "code",
   "execution_count": 14,
   "id": "cb13ce28",
   "metadata": {},
   "outputs": [],
   "source": [
    "df=df.astype({'deck_risk':'category', 'oe_constraint':'category',\n",
    "               'ppap_risk':'category', 'stop_auto_buy':'category', \n",
    "              'rev_stop':'category', 'went_on_backorder':'category','potential_issue':'category'})"
   ]
  },
  {
   "cell_type": "code",
   "execution_count": 15,
   "id": "c537c0ff",
   "metadata": {},
   "outputs": [
    {
     "data": {
      "text/plain": [
       "national_inv            int64\n",
       "lead_time             float64\n",
       "in_transit_qty          int64\n",
       "forecast_3_month        int64\n",
       "forecast_6_month        int64\n",
       "forecast_9_month        int64\n",
       "sales_1_month           int64\n",
       "sales_3_month           int64\n",
       "sales_6_month           int64\n",
       "sales_9_month           int64\n",
       "min_bank                int64\n",
       "potential_issue      category\n",
       "pieces_past_due         int64\n",
       "perf_6_month_avg      float64\n",
       "perf_12_month_avg     float64\n",
       "local_bo_qty            int64\n",
       "deck_risk            category\n",
       "oe_constraint        category\n",
       "ppap_risk            category\n",
       "stop_auto_buy        category\n",
       "rev_stop             category\n",
       "went_on_backorder    category\n",
       "dtype: object"
      ]
     },
     "execution_count": 15,
     "metadata": {},
     "output_type": "execute_result"
    }
   ],
   "source": [
    "df.dtypes"
   ]
  },
  {
   "cell_type": "code",
   "execution_count": 16,
   "id": "710a158f",
   "metadata": {},
   "outputs": [],
   "source": [
    "cat_attr=df.select_dtypes(include='category').columns"
   ]
  },
  {
   "cell_type": "code",
   "execution_count": 17,
   "id": "9e364f62",
   "metadata": {
    "scrolled": false
   },
   "outputs": [
    {
     "data": {
      "text/plain": [
       "Index(['potential_issue', 'deck_risk', 'oe_constraint', 'ppap_risk',\n",
       "       'stop_auto_buy', 'rev_stop', 'went_on_backorder'],\n",
       "      dtype='object')"
      ]
     },
     "execution_count": 17,
     "metadata": {},
     "output_type": "execute_result"
    }
   ],
   "source": [
    "cat_attr"
   ]
  },
  {
   "cell_type": "code",
   "execution_count": 18,
   "id": "3f713741",
   "metadata": {},
   "outputs": [
    {
     "data": {
      "text/plain": [
       "7"
      ]
     },
     "execution_count": 18,
     "metadata": {},
     "output_type": "execute_result"
    }
   ],
   "source": [
    "len(cat_attr)"
   ]
  },
  {
   "cell_type": "code",
   "execution_count": 19,
   "id": "510cc874",
   "metadata": {},
   "outputs": [],
   "source": [
    "num_attr=df.select_dtypes(include=('int','float')).columns"
   ]
  },
  {
   "cell_type": "code",
   "execution_count": 20,
   "id": "7d0e24e3",
   "metadata": {},
   "outputs": [
    {
     "data": {
      "text/plain": [
       "Index(['national_inv', 'lead_time', 'in_transit_qty', 'forecast_3_month',\n",
       "       'forecast_6_month', 'forecast_9_month', 'sales_1_month',\n",
       "       'sales_3_month', 'sales_6_month', 'sales_9_month', 'min_bank',\n",
       "       'pieces_past_due', 'perf_6_month_avg', 'perf_12_month_avg',\n",
       "       'local_bo_qty'],\n",
       "      dtype='object')"
      ]
     },
     "execution_count": 20,
     "metadata": {},
     "output_type": "execute_result"
    }
   ],
   "source": [
    "num_attr"
   ]
  },
  {
   "cell_type": "code",
   "execution_count": 21,
   "id": "2f9862a0",
   "metadata": {},
   "outputs": [
    {
     "data": {
      "text/plain": [
       "15"
      ]
     },
     "execution_count": 21,
     "metadata": {},
     "output_type": "execute_result"
    }
   ],
   "source": [
    "len(num_attr)"
   ]
  },
  {
   "cell_type": "code",
   "execution_count": 22,
   "id": "6d034610",
   "metadata": {},
   "outputs": [
    {
     "data": {
      "text/plain": [
       "(58186, 22)"
      ]
     },
     "execution_count": 22,
     "metadata": {},
     "output_type": "execute_result"
    }
   ],
   "source": [
    "df.shape"
   ]
  },
  {
   "cell_type": "code",
   "execution_count": 23,
   "id": "d5e5519d",
   "metadata": {},
   "outputs": [],
   "source": [
    "df_clean=pd.get_dummies(df,drop_first=True)"
   ]
  },
  {
   "cell_type": "code",
   "execution_count": 24,
   "id": "b2f7f854",
   "metadata": {},
   "outputs": [
    {
     "data": {
      "text/plain": [
       "Index(['national_inv', 'lead_time', 'in_transit_qty', 'forecast_3_month',\n",
       "       'forecast_6_month', 'forecast_9_month', 'sales_1_month',\n",
       "       'sales_3_month', 'sales_6_month', 'sales_9_month', 'min_bank',\n",
       "       'pieces_past_due', 'perf_6_month_avg', 'perf_12_month_avg',\n",
       "       'local_bo_qty', 'potential_issue_Yes', 'deck_risk_Yes',\n",
       "       'oe_constraint_Yes', 'ppap_risk_Yes', 'stop_auto_buy_Yes',\n",
       "       'rev_stop_Yes', 'went_on_backorder_Yes'],\n",
       "      dtype='object')"
      ]
     },
     "execution_count": 24,
     "metadata": {},
     "output_type": "execute_result"
    }
   ],
   "source": [
    "df_clean.columns"
   ]
  },
  {
   "cell_type": "code",
   "execution_count": 25,
   "id": "973a5334",
   "metadata": {},
   "outputs": [
    {
     "data": {
      "text/plain": [
       "(58186, 22)"
      ]
     },
     "execution_count": 25,
     "metadata": {},
     "output_type": "execute_result"
    }
   ],
   "source": [
    "df_clean.shape"
   ]
  },
  {
   "cell_type": "code",
   "execution_count": 26,
   "id": "91da65d3",
   "metadata": {},
   "outputs": [
    {
     "data": {
      "text/html": [
       "<div>\n",
       "<style scoped>\n",
       "    .dataframe tbody tr th:only-of-type {\n",
       "        vertical-align: middle;\n",
       "    }\n",
       "\n",
       "    .dataframe tbody tr th {\n",
       "        vertical-align: top;\n",
       "    }\n",
       "\n",
       "    .dataframe thead th {\n",
       "        text-align: right;\n",
       "    }\n",
       "</style>\n",
       "<table border=\"1\" class=\"dataframe\">\n",
       "  <thead>\n",
       "    <tr style=\"text-align: right;\">\n",
       "      <th></th>\n",
       "      <th>national_inv</th>\n",
       "      <th>lead_time</th>\n",
       "      <th>in_transit_qty</th>\n",
       "      <th>forecast_3_month</th>\n",
       "      <th>forecast_6_month</th>\n",
       "      <th>forecast_9_month</th>\n",
       "      <th>sales_1_month</th>\n",
       "      <th>sales_3_month</th>\n",
       "      <th>sales_6_month</th>\n",
       "      <th>sales_9_month</th>\n",
       "      <th>...</th>\n",
       "      <th>perf_6_month_avg</th>\n",
       "      <th>perf_12_month_avg</th>\n",
       "      <th>local_bo_qty</th>\n",
       "      <th>potential_issue_Yes</th>\n",
       "      <th>deck_risk_Yes</th>\n",
       "      <th>oe_constraint_Yes</th>\n",
       "      <th>ppap_risk_Yes</th>\n",
       "      <th>stop_auto_buy_Yes</th>\n",
       "      <th>rev_stop_Yes</th>\n",
       "      <th>went_on_backorder_Yes</th>\n",
       "    </tr>\n",
       "  </thead>\n",
       "  <tbody>\n",
       "    <tr>\n",
       "      <th>1</th>\n",
       "      <td>7</td>\n",
       "      <td>2.0</td>\n",
       "      <td>0</td>\n",
       "      <td>0</td>\n",
       "      <td>0</td>\n",
       "      <td>0</td>\n",
       "      <td>0</td>\n",
       "      <td>0</td>\n",
       "      <td>0</td>\n",
       "      <td>0</td>\n",
       "      <td>...</td>\n",
       "      <td>0.50</td>\n",
       "      <td>0.28</td>\n",
       "      <td>0</td>\n",
       "      <td>0</td>\n",
       "      <td>1</td>\n",
       "      <td>0</td>\n",
       "      <td>0</td>\n",
       "      <td>1</td>\n",
       "      <td>0</td>\n",
       "      <td>0</td>\n",
       "    </tr>\n",
       "    <tr>\n",
       "      <th>2</th>\n",
       "      <td>258</td>\n",
       "      <td>15.0</td>\n",
       "      <td>10</td>\n",
       "      <td>10</td>\n",
       "      <td>77</td>\n",
       "      <td>184</td>\n",
       "      <td>46</td>\n",
       "      <td>132</td>\n",
       "      <td>256</td>\n",
       "      <td>365</td>\n",
       "      <td>...</td>\n",
       "      <td>0.54</td>\n",
       "      <td>0.70</td>\n",
       "      <td>0</td>\n",
       "      <td>0</td>\n",
       "      <td>0</td>\n",
       "      <td>0</td>\n",
       "      <td>0</td>\n",
       "      <td>1</td>\n",
       "      <td>0</td>\n",
       "      <td>0</td>\n",
       "    </tr>\n",
       "    <tr>\n",
       "      <th>3</th>\n",
       "      <td>46</td>\n",
       "      <td>2.0</td>\n",
       "      <td>0</td>\n",
       "      <td>0</td>\n",
       "      <td>0</td>\n",
       "      <td>0</td>\n",
       "      <td>1</td>\n",
       "      <td>2</td>\n",
       "      <td>6</td>\n",
       "      <td>9</td>\n",
       "      <td>...</td>\n",
       "      <td>0.75</td>\n",
       "      <td>0.90</td>\n",
       "      <td>0</td>\n",
       "      <td>0</td>\n",
       "      <td>1</td>\n",
       "      <td>0</td>\n",
       "      <td>0</td>\n",
       "      <td>1</td>\n",
       "      <td>0</td>\n",
       "      <td>0</td>\n",
       "    </tr>\n",
       "    <tr>\n",
       "      <th>4</th>\n",
       "      <td>2</td>\n",
       "      <td>2.0</td>\n",
       "      <td>0</td>\n",
       "      <td>4</td>\n",
       "      <td>6</td>\n",
       "      <td>10</td>\n",
       "      <td>2</td>\n",
       "      <td>2</td>\n",
       "      <td>5</td>\n",
       "      <td>6</td>\n",
       "      <td>...</td>\n",
       "      <td>0.97</td>\n",
       "      <td>0.92</td>\n",
       "      <td>0</td>\n",
       "      <td>0</td>\n",
       "      <td>0</td>\n",
       "      <td>0</td>\n",
       "      <td>0</td>\n",
       "      <td>1</td>\n",
       "      <td>0</td>\n",
       "      <td>0</td>\n",
       "    </tr>\n",
       "    <tr>\n",
       "      <th>5</th>\n",
       "      <td>297</td>\n",
       "      <td>12.0</td>\n",
       "      <td>0</td>\n",
       "      <td>0</td>\n",
       "      <td>0</td>\n",
       "      <td>0</td>\n",
       "      <td>5</td>\n",
       "      <td>6</td>\n",
       "      <td>44</td>\n",
       "      <td>57</td>\n",
       "      <td>...</td>\n",
       "      <td>0.58</td>\n",
       "      <td>0.75</td>\n",
       "      <td>0</td>\n",
       "      <td>0</td>\n",
       "      <td>1</td>\n",
       "      <td>0</td>\n",
       "      <td>0</td>\n",
       "      <td>1</td>\n",
       "      <td>0</td>\n",
       "      <td>0</td>\n",
       "    </tr>\n",
       "  </tbody>\n",
       "</table>\n",
       "<p>5 rows × 22 columns</p>\n",
       "</div>"
      ],
      "text/plain": [
       "   national_inv  lead_time  in_transit_qty  forecast_3_month  \\\n",
       "1             7        2.0               0                 0   \n",
       "2           258       15.0              10                10   \n",
       "3            46        2.0               0                 0   \n",
       "4             2        2.0               0                 4   \n",
       "5           297       12.0               0                 0   \n",
       "\n",
       "   forecast_6_month  forecast_9_month  sales_1_month  sales_3_month  \\\n",
       "1                 0                 0              0              0   \n",
       "2                77               184             46            132   \n",
       "3                 0                 0              1              2   \n",
       "4                 6                10              2              2   \n",
       "5                 0                 0              5              6   \n",
       "\n",
       "   sales_6_month  sales_9_month  ...  perf_6_month_avg  perf_12_month_avg  \\\n",
       "1              0              0  ...              0.50               0.28   \n",
       "2            256            365  ...              0.54               0.70   \n",
       "3              6              9  ...              0.75               0.90   \n",
       "4              5              6  ...              0.97               0.92   \n",
       "5             44             57  ...              0.58               0.75   \n",
       "\n",
       "   local_bo_qty  potential_issue_Yes  deck_risk_Yes  oe_constraint_Yes  \\\n",
       "1             0                    0              1                  0   \n",
       "2             0                    0              0                  0   \n",
       "3             0                    0              1                  0   \n",
       "4             0                    0              0                  0   \n",
       "5             0                    0              1                  0   \n",
       "\n",
       "   ppap_risk_Yes  stop_auto_buy_Yes  rev_stop_Yes  went_on_backorder_Yes  \n",
       "1              0                  1             0                      0  \n",
       "2              0                  1             0                      0  \n",
       "3              0                  1             0                      0  \n",
       "4              0                  1             0                      0  \n",
       "5              0                  1             0                      0  \n",
       "\n",
       "[5 rows x 22 columns]"
      ]
     },
     "execution_count": 26,
     "metadata": {},
     "output_type": "execute_result"
    }
   ],
   "source": [
    "df_clean.head()"
   ]
  },
  {
   "cell_type": "code",
   "execution_count": 27,
   "id": "958857d1",
   "metadata": {},
   "outputs": [],
   "source": [
    "x=df_clean.drop(['went_on_backorder_Yes'],axis=1)"
   ]
  },
  {
   "cell_type": "code",
   "execution_count": 28,
   "id": "3157fb10",
   "metadata": {},
   "outputs": [],
   "source": [
    "y=df_clean['went_on_backorder_Yes']"
   ]
  },
  {
   "cell_type": "code",
   "execution_count": 29,
   "id": "67718c56",
   "metadata": {},
   "outputs": [
    {
     "data": {
      "text/plain": [
       "(58186, 21)"
      ]
     },
     "execution_count": 29,
     "metadata": {},
     "output_type": "execute_result"
    }
   ],
   "source": [
    "x.shape"
   ]
  },
  {
   "cell_type": "code",
   "execution_count": 30,
   "id": "b7bfeded",
   "metadata": {},
   "outputs": [
    {
     "data": {
      "text/plain": [
       "58186"
      ]
     },
     "execution_count": 30,
     "metadata": {},
     "output_type": "execute_result"
    }
   ],
   "source": [
    "len(y)"
   ]
  },
  {
   "cell_type": "code",
   "execution_count": 31,
   "id": "228a73fb",
   "metadata": {},
   "outputs": [],
   "source": [
    "from sklearn.model_selection import train_test_split"
   ]
  },
  {
   "cell_type": "code",
   "execution_count": 32,
   "id": "2bfd3e01",
   "metadata": {},
   "outputs": [],
   "source": [
    "x_train,x_test,y_train,y_test=train_test_split(x,y,test_size=0.2,stratify=y,random_state=123)"
   ]
  },
  {
   "cell_type": "code",
   "execution_count": 33,
   "id": "92bb456c",
   "metadata": {},
   "outputs": [
    {
     "data": {
      "text/plain": [
       "(46548, 21)"
      ]
     },
     "execution_count": 33,
     "metadata": {},
     "output_type": "execute_result"
    }
   ],
   "source": [
    "x_train.shape"
   ]
  },
  {
   "cell_type": "code",
   "execution_count": 34,
   "id": "2e1c99fa",
   "metadata": {},
   "outputs": [
    {
     "data": {
      "text/plain": [
       "(11638, 21)"
      ]
     },
     "execution_count": 34,
     "metadata": {},
     "output_type": "execute_result"
    }
   ],
   "source": [
    "x_test.shape"
   ]
  },
  {
   "cell_type": "code",
   "execution_count": 35,
   "id": "fa974580",
   "metadata": {},
   "outputs": [
    {
     "data": {
      "text/plain": [
       "(46548,)"
      ]
     },
     "execution_count": 35,
     "metadata": {},
     "output_type": "execute_result"
    }
   ],
   "source": [
    "y_train.shape"
   ]
  },
  {
   "cell_type": "code",
   "execution_count": 36,
   "id": "4b49dfe0",
   "metadata": {},
   "outputs": [
    {
     "data": {
      "text/plain": [
       "(11638,)"
      ]
     },
     "execution_count": 36,
     "metadata": {},
     "output_type": "execute_result"
    }
   ],
   "source": [
    "y_test.shape"
   ]
  },
  {
   "cell_type": "code",
   "execution_count": 37,
   "id": "76cb7149",
   "metadata": {},
   "outputs": [
    {
     "data": {
      "text/plain": [
       "0    0.811485\n",
       "1    0.188515\n",
       "Name: went_on_backorder_Yes, dtype: float64"
      ]
     },
     "execution_count": 37,
     "metadata": {},
     "output_type": "execute_result"
    }
   ],
   "source": [
    "y_train.value_counts(normalize=True)"
   ]
  },
  {
   "cell_type": "code",
   "execution_count": 38,
   "id": "8ef4b7a7",
   "metadata": {},
   "outputs": [
    {
     "data": {
      "text/plain": [
       "0    0.81148\n",
       "1    0.18852\n",
       "Name: went_on_backorder_Yes, dtype: float64"
      ]
     },
     "execution_count": 38,
     "metadata": {},
     "output_type": "execute_result"
    }
   ],
   "source": [
    "y_test.value_counts(normalize=True)"
   ]
  },
  {
   "cell_type": "code",
   "execution_count": 39,
   "id": "dbe00221",
   "metadata": {},
   "outputs": [],
   "source": [
    "from sklearn.preprocessing import StandardScaler"
   ]
  },
  {
   "cell_type": "code",
   "execution_count": 40,
   "id": "aacb16f3",
   "metadata": {},
   "outputs": [],
   "source": [
    "scaler=StandardScaler()"
   ]
  },
  {
   "cell_type": "code",
   "execution_count": 41,
   "id": "a0a2716d",
   "metadata": {},
   "outputs": [],
   "source": [
    "x_train[num_attr]=scaler.fit_transform(x_train[num_attr])"
   ]
  },
  {
   "cell_type": "code",
   "execution_count": 42,
   "id": "370b39d2",
   "metadata": {},
   "outputs": [
    {
     "data": {
      "text/html": [
       "<div>\n",
       "<style scoped>\n",
       "    .dataframe tbody tr th:only-of-type {\n",
       "        vertical-align: middle;\n",
       "    }\n",
       "\n",
       "    .dataframe tbody tr th {\n",
       "        vertical-align: top;\n",
       "    }\n",
       "\n",
       "    .dataframe thead th {\n",
       "        text-align: right;\n",
       "    }\n",
       "</style>\n",
       "<table border=\"1\" class=\"dataframe\">\n",
       "  <thead>\n",
       "    <tr style=\"text-align: right;\">\n",
       "      <th></th>\n",
       "      <th>national_inv</th>\n",
       "      <th>lead_time</th>\n",
       "      <th>in_transit_qty</th>\n",
       "      <th>forecast_3_month</th>\n",
       "      <th>forecast_6_month</th>\n",
       "      <th>forecast_9_month</th>\n",
       "      <th>sales_1_month</th>\n",
       "      <th>sales_3_month</th>\n",
       "      <th>sales_6_month</th>\n",
       "      <th>sales_9_month</th>\n",
       "      <th>...</th>\n",
       "      <th>pieces_past_due</th>\n",
       "      <th>perf_6_month_avg</th>\n",
       "      <th>perf_12_month_avg</th>\n",
       "      <th>local_bo_qty</th>\n",
       "      <th>potential_issue_Yes</th>\n",
       "      <th>deck_risk_Yes</th>\n",
       "      <th>oe_constraint_Yes</th>\n",
       "      <th>ppap_risk_Yes</th>\n",
       "      <th>stop_auto_buy_Yes</th>\n",
       "      <th>rev_stop_Yes</th>\n",
       "    </tr>\n",
       "  </thead>\n",
       "  <tbody>\n",
       "    <tr>\n",
       "      <th>7134</th>\n",
       "      <td>-0.060475</td>\n",
       "      <td>0.066788</td>\n",
       "      <td>-0.035934</td>\n",
       "      <td>-0.031211</td>\n",
       "      <td>-0.031450</td>\n",
       "      <td>-0.031200</td>\n",
       "      <td>-0.029965</td>\n",
       "      <td>-0.027132</td>\n",
       "      <td>-0.029987</td>\n",
       "      <td>-0.031001</td>\n",
       "      <td>...</td>\n",
       "      <td>-0.036596</td>\n",
       "      <td>0.104324</td>\n",
       "      <td>0.071522</td>\n",
       "      <td>-0.041723</td>\n",
       "      <td>0</td>\n",
       "      <td>0</td>\n",
       "      <td>0</td>\n",
       "      <td>0</td>\n",
       "      <td>1</td>\n",
       "      <td>0</td>\n",
       "    </tr>\n",
       "    <tr>\n",
       "      <th>46462</th>\n",
       "      <td>-0.059391</td>\n",
       "      <td>0.989028</td>\n",
       "      <td>-0.035934</td>\n",
       "      <td>-0.031211</td>\n",
       "      <td>-0.031450</td>\n",
       "      <td>-0.031200</td>\n",
       "      <td>-0.029965</td>\n",
       "      <td>-0.027132</td>\n",
       "      <td>-0.029987</td>\n",
       "      <td>-0.031001</td>\n",
       "      <td>...</td>\n",
       "      <td>-0.036596</td>\n",
       "      <td>0.145104</td>\n",
       "      <td>0.130107</td>\n",
       "      <td>-0.041723</td>\n",
       "      <td>0</td>\n",
       "      <td>0</td>\n",
       "      <td>0</td>\n",
       "      <td>0</td>\n",
       "      <td>1</td>\n",
       "      <td>0</td>\n",
       "    </tr>\n",
       "    <tr>\n",
       "      <th>9045</th>\n",
       "      <td>-0.060692</td>\n",
       "      <td>0.066788</td>\n",
       "      <td>-0.035934</td>\n",
       "      <td>-0.029219</td>\n",
       "      <td>-0.030374</td>\n",
       "      <td>-0.030461</td>\n",
       "      <td>-0.029325</td>\n",
       "      <td>-0.025289</td>\n",
       "      <td>-0.027911</td>\n",
       "      <td>-0.028861</td>\n",
       "      <td>...</td>\n",
       "      <td>-0.036596</td>\n",
       "      <td>0.145904</td>\n",
       "      <td>0.131037</td>\n",
       "      <td>-0.041723</td>\n",
       "      <td>0</td>\n",
       "      <td>0</td>\n",
       "      <td>0</td>\n",
       "      <td>0</td>\n",
       "      <td>1</td>\n",
       "      <td>0</td>\n",
       "    </tr>\n",
       "    <tr>\n",
       "      <th>42872</th>\n",
       "      <td>0.065719</td>\n",
       "      <td>-0.855451</td>\n",
       "      <td>-0.035934</td>\n",
       "      <td>-0.031211</td>\n",
       "      <td>-0.031450</td>\n",
       "      <td>-0.031200</td>\n",
       "      <td>-0.026763</td>\n",
       "      <td>-0.024451</td>\n",
       "      <td>-0.026923</td>\n",
       "      <td>-0.028239</td>\n",
       "      <td>...</td>\n",
       "      <td>-0.036596</td>\n",
       "      <td>0.083535</td>\n",
       "      <td>0.050134</td>\n",
       "      <td>-0.041723</td>\n",
       "      <td>0</td>\n",
       "      <td>0</td>\n",
       "      <td>0</td>\n",
       "      <td>0</td>\n",
       "      <td>1</td>\n",
       "      <td>0</td>\n",
       "    </tr>\n",
       "    <tr>\n",
       "      <th>26177</th>\n",
       "      <td>-0.052019</td>\n",
       "      <td>-0.855451</td>\n",
       "      <td>-0.035934</td>\n",
       "      <td>-0.031211</td>\n",
       "      <td>-0.030553</td>\n",
       "      <td>-0.029967</td>\n",
       "      <td>-0.026763</td>\n",
       "      <td>-0.024786</td>\n",
       "      <td>-0.027120</td>\n",
       "      <td>-0.027756</td>\n",
       "      <td>...</td>\n",
       "      <td>-0.036596</td>\n",
       "      <td>0.134709</td>\n",
       "      <td>0.104070</td>\n",
       "      <td>-0.041723</td>\n",
       "      <td>0</td>\n",
       "      <td>0</td>\n",
       "      <td>0</td>\n",
       "      <td>1</td>\n",
       "      <td>1</td>\n",
       "      <td>0</td>\n",
       "    </tr>\n",
       "  </tbody>\n",
       "</table>\n",
       "<p>5 rows × 21 columns</p>\n",
       "</div>"
      ],
      "text/plain": [
       "       national_inv  lead_time  in_transit_qty  forecast_3_month  \\\n",
       "7134      -0.060475   0.066788       -0.035934         -0.031211   \n",
       "46462     -0.059391   0.989028       -0.035934         -0.031211   \n",
       "9045      -0.060692   0.066788       -0.035934         -0.029219   \n",
       "42872      0.065719  -0.855451       -0.035934         -0.031211   \n",
       "26177     -0.052019  -0.855451       -0.035934         -0.031211   \n",
       "\n",
       "       forecast_6_month  forecast_9_month  sales_1_month  sales_3_month  \\\n",
       "7134          -0.031450         -0.031200      -0.029965      -0.027132   \n",
       "46462         -0.031450         -0.031200      -0.029965      -0.027132   \n",
       "9045          -0.030374         -0.030461      -0.029325      -0.025289   \n",
       "42872         -0.031450         -0.031200      -0.026763      -0.024451   \n",
       "26177         -0.030553         -0.029967      -0.026763      -0.024786   \n",
       "\n",
       "       sales_6_month  sales_9_month  ...  pieces_past_due  perf_6_month_avg  \\\n",
       "7134       -0.029987      -0.031001  ...        -0.036596          0.104324   \n",
       "46462      -0.029987      -0.031001  ...        -0.036596          0.145104   \n",
       "9045       -0.027911      -0.028861  ...        -0.036596          0.145904   \n",
       "42872      -0.026923      -0.028239  ...        -0.036596          0.083535   \n",
       "26177      -0.027120      -0.027756  ...        -0.036596          0.134709   \n",
       "\n",
       "       perf_12_month_avg  local_bo_qty  potential_issue_Yes  deck_risk_Yes  \\\n",
       "7134            0.071522     -0.041723                    0              0   \n",
       "46462           0.130107     -0.041723                    0              0   \n",
       "9045            0.131037     -0.041723                    0              0   \n",
       "42872           0.050134     -0.041723                    0              0   \n",
       "26177           0.104070     -0.041723                    0              0   \n",
       "\n",
       "       oe_constraint_Yes  ppap_risk_Yes  stop_auto_buy_Yes  rev_stop_Yes  \n",
       "7134                   0              0                  1             0  \n",
       "46462                  0              0                  1             0  \n",
       "9045                   0              0                  1             0  \n",
       "42872                  0              0                  1             0  \n",
       "26177                  0              1                  1             0  \n",
       "\n",
       "[5 rows x 21 columns]"
      ]
     },
     "execution_count": 42,
     "metadata": {},
     "output_type": "execute_result"
    }
   ],
   "source": [
    "x_train.head()"
   ]
  },
  {
   "cell_type": "code",
   "execution_count": 43,
   "id": "9d72db79",
   "metadata": {},
   "outputs": [],
   "source": [
    "x_test[num_attr]=scaler.transform(x_test[num_attr])"
   ]
  },
  {
   "cell_type": "code",
   "execution_count": 44,
   "id": "0ae7844d",
   "metadata": {},
   "outputs": [
    {
     "data": {
      "text/html": [
       "<div>\n",
       "<style scoped>\n",
       "    .dataframe tbody tr th:only-of-type {\n",
       "        vertical-align: middle;\n",
       "    }\n",
       "\n",
       "    .dataframe tbody tr th {\n",
       "        vertical-align: top;\n",
       "    }\n",
       "\n",
       "    .dataframe thead th {\n",
       "        text-align: right;\n",
       "    }\n",
       "</style>\n",
       "<table border=\"1\" class=\"dataframe\">\n",
       "  <thead>\n",
       "    <tr style=\"text-align: right;\">\n",
       "      <th></th>\n",
       "      <th>national_inv</th>\n",
       "      <th>lead_time</th>\n",
       "      <th>in_transit_qty</th>\n",
       "      <th>forecast_3_month</th>\n",
       "      <th>forecast_6_month</th>\n",
       "      <th>forecast_9_month</th>\n",
       "      <th>sales_1_month</th>\n",
       "      <th>sales_3_month</th>\n",
       "      <th>sales_6_month</th>\n",
       "      <th>sales_9_month</th>\n",
       "      <th>...</th>\n",
       "      <th>pieces_past_due</th>\n",
       "      <th>perf_6_month_avg</th>\n",
       "      <th>perf_12_month_avg</th>\n",
       "      <th>local_bo_qty</th>\n",
       "      <th>potential_issue_Yes</th>\n",
       "      <th>deck_risk_Yes</th>\n",
       "      <th>oe_constraint_Yes</th>\n",
       "      <th>ppap_risk_Yes</th>\n",
       "      <th>stop_auto_buy_Yes</th>\n",
       "      <th>rev_stop_Yes</th>\n",
       "    </tr>\n",
       "  </thead>\n",
       "  <tbody>\n",
       "    <tr>\n",
       "      <th>48714</th>\n",
       "      <td>-0.060692</td>\n",
       "      <td>0.681615</td>\n",
       "      <td>-0.035934</td>\n",
       "      <td>-0.031211</td>\n",
       "      <td>-0.031450</td>\n",
       "      <td>-0.031200</td>\n",
       "      <td>-0.029965</td>\n",
       "      <td>-0.027132</td>\n",
       "      <td>-0.029987</td>\n",
       "      <td>-0.031001</td>\n",
       "      <td>...</td>\n",
       "      <td>-0.036596</td>\n",
       "      <td>0.112320</td>\n",
       "      <td>0.091981</td>\n",
       "      <td>-0.041723</td>\n",
       "      <td>0</td>\n",
       "      <td>1</td>\n",
       "      <td>0</td>\n",
       "      <td>0</td>\n",
       "      <td>1</td>\n",
       "      <td>0</td>\n",
       "    </tr>\n",
       "    <tr>\n",
       "      <th>38234</th>\n",
       "      <td>-0.062644</td>\n",
       "      <td>0.066788</td>\n",
       "      <td>-0.035934</td>\n",
       "      <td>-0.031211</td>\n",
       "      <td>-0.031450</td>\n",
       "      <td>-0.031200</td>\n",
       "      <td>-0.029965</td>\n",
       "      <td>-0.027132</td>\n",
       "      <td>-0.029987</td>\n",
       "      <td>-0.031001</td>\n",
       "      <td>...</td>\n",
       "      <td>-0.036596</td>\n",
       "      <td>0.144304</td>\n",
       "      <td>0.129177</td>\n",
       "      <td>-0.041723</td>\n",
       "      <td>0</td>\n",
       "      <td>0</td>\n",
       "      <td>0</td>\n",
       "      <td>0</td>\n",
       "      <td>1</td>\n",
       "      <td>0</td>\n",
       "    </tr>\n",
       "    <tr>\n",
       "      <th>60699</th>\n",
       "      <td>-0.051585</td>\n",
       "      <td>0.066788</td>\n",
       "      <td>-0.035934</td>\n",
       "      <td>-0.023245</td>\n",
       "      <td>-0.024996</td>\n",
       "      <td>-0.023803</td>\n",
       "      <td>-0.010753</td>\n",
       "      <td>-0.015234</td>\n",
       "      <td>-0.019607</td>\n",
       "      <td>-0.020921</td>\n",
       "      <td>...</td>\n",
       "      <td>-0.036596</td>\n",
       "      <td>0.128312</td>\n",
       "      <td>0.115228</td>\n",
       "      <td>-0.041723</td>\n",
       "      <td>0</td>\n",
       "      <td>0</td>\n",
       "      <td>0</td>\n",
       "      <td>0</td>\n",
       "      <td>1</td>\n",
       "      <td>0</td>\n",
       "    </tr>\n",
       "    <tr>\n",
       "      <th>17211</th>\n",
       "      <td>-0.062860</td>\n",
       "      <td>-0.855451</td>\n",
       "      <td>-0.035934</td>\n",
       "      <td>-0.031045</td>\n",
       "      <td>-0.031271</td>\n",
       "      <td>-0.030954</td>\n",
       "      <td>-0.029965</td>\n",
       "      <td>-0.026964</td>\n",
       "      <td>-0.029690</td>\n",
       "      <td>-0.030656</td>\n",
       "      <td>...</td>\n",
       "      <td>-0.036596</td>\n",
       "      <td>0.131511</td>\n",
       "      <td>0.112439</td>\n",
       "      <td>-0.041723</td>\n",
       "      <td>0</td>\n",
       "      <td>0</td>\n",
       "      <td>0</td>\n",
       "      <td>0</td>\n",
       "      <td>1</td>\n",
       "      <td>0</td>\n",
       "    </tr>\n",
       "    <tr>\n",
       "      <th>46906</th>\n",
       "      <td>0.055095</td>\n",
       "      <td>0.066788</td>\n",
       "      <td>-0.035934</td>\n",
       "      <td>-0.031211</td>\n",
       "      <td>-0.031450</td>\n",
       "      <td>-0.031200</td>\n",
       "      <td>-0.028684</td>\n",
       "      <td>-0.025624</td>\n",
       "      <td>-0.028900</td>\n",
       "      <td>-0.029827</td>\n",
       "      <td>...</td>\n",
       "      <td>-0.036596</td>\n",
       "      <td>0.065943</td>\n",
       "      <td>0.038046</td>\n",
       "      <td>-0.041723</td>\n",
       "      <td>0</td>\n",
       "      <td>0</td>\n",
       "      <td>0</td>\n",
       "      <td>0</td>\n",
       "      <td>1</td>\n",
       "      <td>0</td>\n",
       "    </tr>\n",
       "  </tbody>\n",
       "</table>\n",
       "<p>5 rows × 21 columns</p>\n",
       "</div>"
      ],
      "text/plain": [
       "       national_inv  lead_time  in_transit_qty  forecast_3_month  \\\n",
       "48714     -0.060692   0.681615       -0.035934         -0.031211   \n",
       "38234     -0.062644   0.066788       -0.035934         -0.031211   \n",
       "60699     -0.051585   0.066788       -0.035934         -0.023245   \n",
       "17211     -0.062860  -0.855451       -0.035934         -0.031045   \n",
       "46906      0.055095   0.066788       -0.035934         -0.031211   \n",
       "\n",
       "       forecast_6_month  forecast_9_month  sales_1_month  sales_3_month  \\\n",
       "48714         -0.031450         -0.031200      -0.029965      -0.027132   \n",
       "38234         -0.031450         -0.031200      -0.029965      -0.027132   \n",
       "60699         -0.024996         -0.023803      -0.010753      -0.015234   \n",
       "17211         -0.031271         -0.030954      -0.029965      -0.026964   \n",
       "46906         -0.031450         -0.031200      -0.028684      -0.025624   \n",
       "\n",
       "       sales_6_month  sales_9_month  ...  pieces_past_due  perf_6_month_avg  \\\n",
       "48714      -0.029987      -0.031001  ...        -0.036596          0.112320   \n",
       "38234      -0.029987      -0.031001  ...        -0.036596          0.144304   \n",
       "60699      -0.019607      -0.020921  ...        -0.036596          0.128312   \n",
       "17211      -0.029690      -0.030656  ...        -0.036596          0.131511   \n",
       "46906      -0.028900      -0.029827  ...        -0.036596          0.065943   \n",
       "\n",
       "       perf_12_month_avg  local_bo_qty  potential_issue_Yes  deck_risk_Yes  \\\n",
       "48714           0.091981     -0.041723                    0              1   \n",
       "38234           0.129177     -0.041723                    0              0   \n",
       "60699           0.115228     -0.041723                    0              0   \n",
       "17211           0.112439     -0.041723                    0              0   \n",
       "46906           0.038046     -0.041723                    0              0   \n",
       "\n",
       "       oe_constraint_Yes  ppap_risk_Yes  stop_auto_buy_Yes  rev_stop_Yes  \n",
       "48714                  0              0                  1             0  \n",
       "38234                  0              0                  1             0  \n",
       "60699                  0              0                  1             0  \n",
       "17211                  0              0                  1             0  \n",
       "46906                  0              0                  1             0  \n",
       "\n",
       "[5 rows x 21 columns]"
      ]
     },
     "execution_count": 44,
     "metadata": {},
     "output_type": "execute_result"
    }
   ],
   "source": [
    "x_test.head()"
   ]
  },
  {
   "cell_type": "code",
   "execution_count": 45,
   "id": "abfb81a5",
   "metadata": {},
   "outputs": [
    {
     "data": {
      "text/plain": [
       "(46548,)"
      ]
     },
     "execution_count": 45,
     "metadata": {},
     "output_type": "execute_result"
    }
   ],
   "source": [
    "y_train.shape"
   ]
  },
  {
   "cell_type": "markdown",
   "id": "d24605f3",
   "metadata": {},
   "source": [
    "### LogisticRegression"
   ]
  },
  {
   "cell_type": "code",
   "execution_count": 46,
   "id": "f06326dc",
   "metadata": {},
   "outputs": [],
   "source": [
    "from sklearn.linear_model import LogisticRegression"
   ]
  },
  {
   "cell_type": "code",
   "execution_count": 47,
   "id": "60d5cae7",
   "metadata": {},
   "outputs": [],
   "source": [
    "logr=LogisticRegression()"
   ]
  },
  {
   "cell_type": "code",
   "execution_count": 48,
   "id": "ae29942e",
   "metadata": {
    "collapsed": true
   },
   "outputs": [
    {
     "name": "stderr",
     "output_type": "stream",
     "text": [
      "C:\\Users\\patel\\anaconda3\\lib\\site-packages\\sklearn\\linear_model\\_logistic.py:444: ConvergenceWarning: lbfgs failed to converge (status=1):\n",
      "STOP: TOTAL NO. of ITERATIONS REACHED LIMIT.\n",
      "\n",
      "Increase the number of iterations (max_iter) or scale the data as shown in:\n",
      "    https://scikit-learn.org/stable/modules/preprocessing.html\n",
      "Please also refer to the documentation for alternative solver options:\n",
      "    https://scikit-learn.org/stable/modules/linear_model.html#logistic-regression\n",
      "  n_iter_i = _check_optimize_result(\n"
     ]
    }
   ],
   "source": [
    "model_logr=logr.fit(x_train,y_train)"
   ]
  },
  {
   "cell_type": "code",
   "execution_count": 49,
   "id": "7a7cd8ed",
   "metadata": {},
   "outputs": [],
   "source": [
    "y_pred_test_logr=model_logr.predict(x_test)"
   ]
  },
  {
   "cell_type": "code",
   "execution_count": 1,
   "id": "316dd6cf",
   "metadata": {},
   "outputs": [
    {
     "ename": "NameError",
     "evalue": "name 'y_pred_test_logr' is not defined",
     "output_type": "error",
     "traceback": [
      "\u001b[1;31m---------------------------------------------------------------------------\u001b[0m",
      "\u001b[1;31mNameError\u001b[0m                                 Traceback (most recent call last)",
      "Input \u001b[1;32mIn [1]\u001b[0m, in \u001b[0;36m<cell line: 1>\u001b[1;34m()\u001b[0m\n\u001b[1;32m----> 1\u001b[0m \u001b[43my_pred_test_logr\u001b[49m\n",
      "\u001b[1;31mNameError\u001b[0m: name 'y_pred_test_logr' is not defined"
     ]
    }
   ],
   "source": [
    "y_pred_test_logr"
   ]
  },
  {
   "cell_type": "code",
   "execution_count": 51,
   "id": "63a774cb",
   "metadata": {},
   "outputs": [],
   "source": [
    "y_pred_train_logr=model_logr.predict(x_train)"
   ]
  },
  {
   "cell_type": "code",
   "execution_count": 52,
   "id": "bf97b59c",
   "metadata": {},
   "outputs": [
    {
     "data": {
      "text/plain": [
       "array([0, 0, 0, ..., 0, 0, 0], dtype=uint8)"
      ]
     },
     "execution_count": 52,
     "metadata": {},
     "output_type": "execute_result"
    }
   ],
   "source": [
    "y_pred_train_logr"
   ]
  },
  {
   "cell_type": "code",
   "execution_count": 53,
   "id": "abd798c8",
   "metadata": {},
   "outputs": [
    {
     "data": {
      "text/plain": [
       "(11638, 21)"
      ]
     },
     "execution_count": 53,
     "metadata": {},
     "output_type": "execute_result"
    }
   ],
   "source": [
    "x_test.shape"
   ]
  },
  {
   "cell_type": "code",
   "execution_count": 54,
   "id": "2c35fc45",
   "metadata": {},
   "outputs": [],
   "source": [
    "from sklearn.metrics import accuracy_score,recall_score,precision_score,f1_score,classification_report"
   ]
  },
  {
   "cell_type": "code",
   "execution_count": 55,
   "id": "4b19d391",
   "metadata": {},
   "outputs": [],
   "source": [
    "def error_metrics(test_data,pred_data):\n",
    "    from sklearn.metrics import accuracy_score,recall_score,precision_score,f1_score\n",
    "    List=[accuracy_score(test_data, pred_data),recall_score(test_data, pred_data),\n",
    "         precision_score(test_data, pred_data),f1_score(test_data,pred_data)]\n",
    "    print('Accuracy score:\\n',accuracy_score(test_data, pred_data))\n",
    "    print('Recall score:\\n',recall_score(test_data, pred_data))\n",
    "    print('Precision score:\\n',precision_score(test_data, pred_data))\n",
    "    print('F1 Score:\\n',f1_score(test_data,pred_data))\n",
    "    print(List)"
   ]
  },
  {
   "cell_type": "code",
   "execution_count": 56,
   "id": "6233af9e",
   "metadata": {},
   "outputs": [],
   "source": [
    "a=['Accuracy_Score','Recall_Score','Precision_Score','F1_Score']"
   ]
  },
  {
   "cell_type": "code",
   "execution_count": 57,
   "id": "3962a14c",
   "metadata": {
    "scrolled": true
   },
   "outputs": [
    {
     "name": "stdout",
     "output_type": "stream",
     "text": [
      "Accuracy score:\n",
      " 0.8149166523457638\n",
      "Recall score:\n",
      " 0.02871467639015497\n",
      "Precision score:\n",
      " 0.7325581395348837\n",
      "F1 Score:\n",
      " 0.05526315789473684\n",
      "[0.8149166523457638, 0.02871467639015497, 0.7325581395348837, 0.05526315789473684]\n"
     ]
    }
   ],
   "source": [
    "logr_error_metrics_TEST=(error_metrics(y_test,y_pred_test_logr))"
   ]
  },
  {
   "cell_type": "code",
   "execution_count": 58,
   "id": "47403bff",
   "metadata": {},
   "outputs": [],
   "source": [
    "logr_test=[0.8149166523457638, 0.02871467639015497, 0.7325581395348837, 0.05526315789473684]"
   ]
  },
  {
   "cell_type": "code",
   "execution_count": 59,
   "id": "23d2a506",
   "metadata": {
    "scrolled": true
   },
   "outputs": [
    {
     "name": "stdout",
     "output_type": "stream",
     "text": [
      "Accuracy score:\n",
      " 0.814299218011515\n",
      "Recall score:\n",
      " 0.02564102564102564\n",
      "Precision score:\n",
      " 0.7053291536050157\n",
      "F1 Score:\n",
      " 0.04948317572025511\n",
      "[0.814299218011515, 0.02564102564102564, 0.7053291536050157, 0.04948317572025511]\n"
     ]
    }
   ],
   "source": [
    "logr_error_metrics_TRAIN=error_metrics(y_train,y_pred_train_logr)"
   ]
  },
  {
   "cell_type": "code",
   "execution_count": 60,
   "id": "4ba40f3c",
   "metadata": {},
   "outputs": [],
   "source": [
    "logr_train=[0.814299218011515, 0.02564102564102564, 0.7053291536050157, 0.04948317572025511]"
   ]
  },
  {
   "cell_type": "markdown",
   "id": "ff02a79f",
   "metadata": {},
   "source": [
    "### Naive Bayes"
   ]
  },
  {
   "cell_type": "code",
   "execution_count": 61,
   "id": "5aeb0de7",
   "metadata": {},
   "outputs": [],
   "source": [
    "from sklearn.naive_bayes import GaussianNB\n",
    "gnb = GaussianNB()\n",
    "model_NB=gnb.fit(x_train, y_train)"
   ]
  },
  {
   "cell_type": "code",
   "execution_count": 62,
   "id": "2213e492",
   "metadata": {},
   "outputs": [],
   "source": [
    "y_pred_train_NB=model_NB.predict(x_train)"
   ]
  },
  {
   "cell_type": "code",
   "execution_count": 63,
   "id": "910d7924",
   "metadata": {},
   "outputs": [],
   "source": [
    "y_pred_test_NB=model_NB.predict(x_test)"
   ]
  },
  {
   "cell_type": "code",
   "execution_count": 64,
   "id": "5b55ec90",
   "metadata": {
    "scrolled": true
   },
   "outputs": [
    {
     "name": "stdout",
     "output_type": "stream",
     "text": [
      "Accuracy score:\n",
      " 0.2381852551984877\n",
      "Recall score:\n",
      " 0.9717411121239745\n",
      "Precision score:\n",
      " 0.19495245062179956\n",
      "F1 Score:\n",
      " 0.32475247524752476\n",
      "[0.2381852551984877, 0.9717411121239745, 0.19495245062179956, 0.32475247524752476]\n"
     ]
    }
   ],
   "source": [
    "NB_error_metrics_TEST=error_metrics(y_test,y_pred_test_NB)"
   ]
  },
  {
   "cell_type": "code",
   "execution_count": 65,
   "id": "22a8f4a1",
   "metadata": {},
   "outputs": [],
   "source": [
    "NB_test=[0.2381852551984877, 0.9717411121239745, 0.19495245062179956, 0.32475247524752476]"
   ]
  },
  {
   "cell_type": "code",
   "execution_count": 66,
   "id": "8547601d",
   "metadata": {},
   "outputs": [
    {
     "name": "stdout",
     "output_type": "stream",
     "text": [
      "Accuracy score:\n",
      " 0.2385494543267165\n",
      "Recall score:\n",
      " 0.9806267806267807\n",
      "Precision score:\n",
      " 0.1961074773809795\n",
      "F1 Score:\n",
      " 0.3268507615755688\n",
      "[0.2385494543267165, 0.9806267806267807, 0.1961074773809795, 0.3268507615755688]\n"
     ]
    }
   ],
   "source": [
    "NB_error_metrics_TRAIN=error_metrics(y_train,y_pred_train_NB)"
   ]
  },
  {
   "cell_type": "code",
   "execution_count": 67,
   "id": "92bfef26",
   "metadata": {},
   "outputs": [],
   "source": [
    "NB_train=[0.2385494543267165, 0.9806267806267807, 0.1961074773809795, 0.3268507615755688]"
   ]
  },
  {
   "cell_type": "markdown",
   "id": "407ec87c",
   "metadata": {},
   "source": [
    "# DT"
   ]
  },
  {
   "cell_type": "code",
   "execution_count": 68,
   "id": "16c07a38",
   "metadata": {},
   "outputs": [
    {
     "data": {
      "text/html": [
       "<style>#sk-container-id-1 {color: black;background-color: white;}#sk-container-id-1 pre{padding: 0;}#sk-container-id-1 div.sk-toggleable {background-color: white;}#sk-container-id-1 label.sk-toggleable__label {cursor: pointer;display: block;width: 100%;margin-bottom: 0;padding: 0.3em;box-sizing: border-box;text-align: center;}#sk-container-id-1 label.sk-toggleable__label-arrow:before {content: \"▸\";float: left;margin-right: 0.25em;color: #696969;}#sk-container-id-1 label.sk-toggleable__label-arrow:hover:before {color: black;}#sk-container-id-1 div.sk-estimator:hover label.sk-toggleable__label-arrow:before {color: black;}#sk-container-id-1 div.sk-toggleable__content {max-height: 0;max-width: 0;overflow: hidden;text-align: left;background-color: #f0f8ff;}#sk-container-id-1 div.sk-toggleable__content pre {margin: 0.2em;color: black;border-radius: 0.25em;background-color: #f0f8ff;}#sk-container-id-1 input.sk-toggleable__control:checked~div.sk-toggleable__content {max-height: 200px;max-width: 100%;overflow: auto;}#sk-container-id-1 input.sk-toggleable__control:checked~label.sk-toggleable__label-arrow:before {content: \"▾\";}#sk-container-id-1 div.sk-estimator input.sk-toggleable__control:checked~label.sk-toggleable__label {background-color: #d4ebff;}#sk-container-id-1 div.sk-label input.sk-toggleable__control:checked~label.sk-toggleable__label {background-color: #d4ebff;}#sk-container-id-1 input.sk-hidden--visually {border: 0;clip: rect(1px 1px 1px 1px);clip: rect(1px, 1px, 1px, 1px);height: 1px;margin: -1px;overflow: hidden;padding: 0;position: absolute;width: 1px;}#sk-container-id-1 div.sk-estimator {font-family: monospace;background-color: #f0f8ff;border: 1px dotted black;border-radius: 0.25em;box-sizing: border-box;margin-bottom: 0.5em;}#sk-container-id-1 div.sk-estimator:hover {background-color: #d4ebff;}#sk-container-id-1 div.sk-parallel-item::after {content: \"\";width: 100%;border-bottom: 1px solid gray;flex-grow: 1;}#sk-container-id-1 div.sk-label:hover label.sk-toggleable__label {background-color: #d4ebff;}#sk-container-id-1 div.sk-serial::before {content: \"\";position: absolute;border-left: 1px solid gray;box-sizing: border-box;top: 0;bottom: 0;left: 50%;z-index: 0;}#sk-container-id-1 div.sk-serial {display: flex;flex-direction: column;align-items: center;background-color: white;padding-right: 0.2em;padding-left: 0.2em;position: relative;}#sk-container-id-1 div.sk-item {position: relative;z-index: 1;}#sk-container-id-1 div.sk-parallel {display: flex;align-items: stretch;justify-content: center;background-color: white;position: relative;}#sk-container-id-1 div.sk-item::before, #sk-container-id-1 div.sk-parallel-item::before {content: \"\";position: absolute;border-left: 1px solid gray;box-sizing: border-box;top: 0;bottom: 0;left: 50%;z-index: -1;}#sk-container-id-1 div.sk-parallel-item {display: flex;flex-direction: column;z-index: 1;position: relative;background-color: white;}#sk-container-id-1 div.sk-parallel-item:first-child::after {align-self: flex-end;width: 50%;}#sk-container-id-1 div.sk-parallel-item:last-child::after {align-self: flex-start;width: 50%;}#sk-container-id-1 div.sk-parallel-item:only-child::after {width: 0;}#sk-container-id-1 div.sk-dashed-wrapped {border: 1px dashed gray;margin: 0 0.4em 0.5em 0.4em;box-sizing: border-box;padding-bottom: 0.4em;background-color: white;}#sk-container-id-1 div.sk-label label {font-family: monospace;font-weight: bold;display: inline-block;line-height: 1.2em;}#sk-container-id-1 div.sk-label-container {text-align: center;}#sk-container-id-1 div.sk-container {/* jupyter's `normalize.less` sets `[hidden] { display: none; }` but bootstrap.min.css set `[hidden] { display: none !important; }` so we also need the `!important` here to be able to override the default hidden behavior on the sphinx rendered scikit-learn.org. See: https://github.com/scikit-learn/scikit-learn/issues/21755 */display: inline-block !important;position: relative;}#sk-container-id-1 div.sk-text-repr-fallback {display: none;}</style><div id=\"sk-container-id-1\" class=\"sk-top-container\"><div class=\"sk-text-repr-fallback\"><pre>DecisionTreeClassifier(max_depth=3)</pre><b>In a Jupyter environment, please rerun this cell to show the HTML representation or trust the notebook. <br />On GitHub, the HTML representation is unable to render, please try loading this page with nbviewer.org.</b></div><div class=\"sk-container\" hidden><div class=\"sk-item\"><div class=\"sk-estimator sk-toggleable\"><input class=\"sk-toggleable__control sk-hidden--visually\" id=\"sk-estimator-id-1\" type=\"checkbox\" checked><label for=\"sk-estimator-id-1\" class=\"sk-toggleable__label sk-toggleable__label-arrow\">DecisionTreeClassifier</label><div class=\"sk-toggleable__content\"><pre>DecisionTreeClassifier(max_depth=3)</pre></div></div></div></div></div>"
      ],
      "text/plain": [
       "DecisionTreeClassifier(max_depth=3)"
      ]
     },
     "execution_count": 68,
     "metadata": {},
     "output_type": "execute_result"
    }
   ],
   "source": [
    "from sklearn import tree\n",
    "dt_clf = tree.DecisionTreeClassifier(max_depth=3)\n",
    "dt_clf.fit(x_train, y_train)"
   ]
  },
  {
   "cell_type": "code",
   "execution_count": 69,
   "id": "7680a035",
   "metadata": {},
   "outputs": [],
   "source": [
    "y_pred_train_DT=dt_clf.predict(x_train)"
   ]
  },
  {
   "cell_type": "code",
   "execution_count": 70,
   "id": "e1ff6115",
   "metadata": {},
   "outputs": [],
   "source": [
    "y_pred_test_DT=dt_clf.predict(x_test)"
   ]
  },
  {
   "cell_type": "code",
   "execution_count": 71,
   "id": "036a5568",
   "metadata": {
    "scrolled": true
   },
   "outputs": [
    {
     "name": "stdout",
     "output_type": "stream",
     "text": [
      "Accuracy score:\n",
      " 0.8648706711351722\n",
      "Recall score:\n",
      " 0.498005698005698\n",
      "Precision score:\n",
      " 0.6986410871302957\n",
      "F1 Score:\n",
      " 0.5815036593479707\n",
      "[0.8648706711351722, 0.498005698005698, 0.6986410871302957, 0.5815036593479707]\n"
     ]
    }
   ],
   "source": [
    "DT_error_metrics_TRAIN=error_metrics(y_train,y_pred_train_DT)"
   ]
  },
  {
   "cell_type": "code",
   "execution_count": 72,
   "id": "013369d1",
   "metadata": {},
   "outputs": [],
   "source": [
    "DT_train=[0.8648706711351722, 0.498005698005698, 0.6986410871302957, 0.5815036593479707]"
   ]
  },
  {
   "cell_type": "code",
   "execution_count": 73,
   "id": "751a4dfd",
   "metadata": {
    "scrolled": true
   },
   "outputs": [
    {
     "name": "stdout",
     "output_type": "stream",
     "text": [
      "Accuracy score:\n",
      " 0.8651830211376526\n",
      "Recall score:\n",
      " 0.5018231540565178\n",
      "Precision score:\n",
      " 0.6981610653138871\n",
      "F1 Score:\n",
      " 0.5839299920445505\n",
      "[0.8651830211376526, 0.5018231540565178, 0.6981610653138871, 0.5839299920445505]\n"
     ]
    }
   ],
   "source": [
    "NB_error_metrics_TEST=error_metrics(y_test,y_pred_test_DT)"
   ]
  },
  {
   "cell_type": "code",
   "execution_count": 74,
   "id": "d078d97a",
   "metadata": {},
   "outputs": [],
   "source": [
    "DT_test=[0.8651830211376526, 0.5018231540565178, 0.6981610653138871, 0.5839299920445505]"
   ]
  },
  {
   "cell_type": "markdown",
   "id": "0cd7ae09",
   "metadata": {},
   "source": [
    "### KNN "
   ]
  },
  {
   "cell_type": "code",
   "execution_count": 75,
   "id": "2e44fa92",
   "metadata": {},
   "outputs": [],
   "source": [
    "from sklearn.neighbors import KNeighborsClassifier"
   ]
  },
  {
   "cell_type": "code",
   "execution_count": 76,
   "id": "5b7399ec",
   "metadata": {},
   "outputs": [
    {
     "data": {
      "text/html": [
       "<style>#sk-container-id-2 {color: black;background-color: white;}#sk-container-id-2 pre{padding: 0;}#sk-container-id-2 div.sk-toggleable {background-color: white;}#sk-container-id-2 label.sk-toggleable__label {cursor: pointer;display: block;width: 100%;margin-bottom: 0;padding: 0.3em;box-sizing: border-box;text-align: center;}#sk-container-id-2 label.sk-toggleable__label-arrow:before {content: \"▸\";float: left;margin-right: 0.25em;color: #696969;}#sk-container-id-2 label.sk-toggleable__label-arrow:hover:before {color: black;}#sk-container-id-2 div.sk-estimator:hover label.sk-toggleable__label-arrow:before {color: black;}#sk-container-id-2 div.sk-toggleable__content {max-height: 0;max-width: 0;overflow: hidden;text-align: left;background-color: #f0f8ff;}#sk-container-id-2 div.sk-toggleable__content pre {margin: 0.2em;color: black;border-radius: 0.25em;background-color: #f0f8ff;}#sk-container-id-2 input.sk-toggleable__control:checked~div.sk-toggleable__content {max-height: 200px;max-width: 100%;overflow: auto;}#sk-container-id-2 input.sk-toggleable__control:checked~label.sk-toggleable__label-arrow:before {content: \"▾\";}#sk-container-id-2 div.sk-estimator input.sk-toggleable__control:checked~label.sk-toggleable__label {background-color: #d4ebff;}#sk-container-id-2 div.sk-label input.sk-toggleable__control:checked~label.sk-toggleable__label {background-color: #d4ebff;}#sk-container-id-2 input.sk-hidden--visually {border: 0;clip: rect(1px 1px 1px 1px);clip: rect(1px, 1px, 1px, 1px);height: 1px;margin: -1px;overflow: hidden;padding: 0;position: absolute;width: 1px;}#sk-container-id-2 div.sk-estimator {font-family: monospace;background-color: #f0f8ff;border: 1px dotted black;border-radius: 0.25em;box-sizing: border-box;margin-bottom: 0.5em;}#sk-container-id-2 div.sk-estimator:hover {background-color: #d4ebff;}#sk-container-id-2 div.sk-parallel-item::after {content: \"\";width: 100%;border-bottom: 1px solid gray;flex-grow: 1;}#sk-container-id-2 div.sk-label:hover label.sk-toggleable__label {background-color: #d4ebff;}#sk-container-id-2 div.sk-serial::before {content: \"\";position: absolute;border-left: 1px solid gray;box-sizing: border-box;top: 0;bottom: 0;left: 50%;z-index: 0;}#sk-container-id-2 div.sk-serial {display: flex;flex-direction: column;align-items: center;background-color: white;padding-right: 0.2em;padding-left: 0.2em;position: relative;}#sk-container-id-2 div.sk-item {position: relative;z-index: 1;}#sk-container-id-2 div.sk-parallel {display: flex;align-items: stretch;justify-content: center;background-color: white;position: relative;}#sk-container-id-2 div.sk-item::before, #sk-container-id-2 div.sk-parallel-item::before {content: \"\";position: absolute;border-left: 1px solid gray;box-sizing: border-box;top: 0;bottom: 0;left: 50%;z-index: -1;}#sk-container-id-2 div.sk-parallel-item {display: flex;flex-direction: column;z-index: 1;position: relative;background-color: white;}#sk-container-id-2 div.sk-parallel-item:first-child::after {align-self: flex-end;width: 50%;}#sk-container-id-2 div.sk-parallel-item:last-child::after {align-self: flex-start;width: 50%;}#sk-container-id-2 div.sk-parallel-item:only-child::after {width: 0;}#sk-container-id-2 div.sk-dashed-wrapped {border: 1px dashed gray;margin: 0 0.4em 0.5em 0.4em;box-sizing: border-box;padding-bottom: 0.4em;background-color: white;}#sk-container-id-2 div.sk-label label {font-family: monospace;font-weight: bold;display: inline-block;line-height: 1.2em;}#sk-container-id-2 div.sk-label-container {text-align: center;}#sk-container-id-2 div.sk-container {/* jupyter's `normalize.less` sets `[hidden] { display: none; }` but bootstrap.min.css set `[hidden] { display: none !important; }` so we also need the `!important` here to be able to override the default hidden behavior on the sphinx rendered scikit-learn.org. See: https://github.com/scikit-learn/scikit-learn/issues/21755 */display: inline-block !important;position: relative;}#sk-container-id-2 div.sk-text-repr-fallback {display: none;}</style><div id=\"sk-container-id-2\" class=\"sk-top-container\"><div class=\"sk-text-repr-fallback\"><pre>KNeighborsClassifier(n_neighbors=3)</pre><b>In a Jupyter environment, please rerun this cell to show the HTML representation or trust the notebook. <br />On GitHub, the HTML representation is unable to render, please try loading this page with nbviewer.org.</b></div><div class=\"sk-container\" hidden><div class=\"sk-item\"><div class=\"sk-estimator sk-toggleable\"><input class=\"sk-toggleable__control sk-hidden--visually\" id=\"sk-estimator-id-2\" type=\"checkbox\" checked><label for=\"sk-estimator-id-2\" class=\"sk-toggleable__label sk-toggleable__label-arrow\">KNeighborsClassifier</label><div class=\"sk-toggleable__content\"><pre>KNeighborsClassifier(n_neighbors=3)</pre></div></div></div></div></div>"
      ],
      "text/plain": [
       "KNeighborsClassifier(n_neighbors=3)"
      ]
     },
     "execution_count": 76,
     "metadata": {},
     "output_type": "execute_result"
    }
   ],
   "source": [
    "knn = KNeighborsClassifier(n_neighbors=3)\n",
    "knn.fit(x_train, y_train)"
   ]
  },
  {
   "cell_type": "code",
   "execution_count": 77,
   "id": "23aedb57",
   "metadata": {},
   "outputs": [],
   "source": [
    "y_pred_train_knn=knn.predict(x_train)"
   ]
  },
  {
   "cell_type": "code",
   "execution_count": 78,
   "id": "77c197e6",
   "metadata": {},
   "outputs": [],
   "source": [
    "y_pred_test_knn=knn.predict(x_test)"
   ]
  },
  {
   "cell_type": "code",
   "execution_count": 79,
   "id": "17291bc7",
   "metadata": {},
   "outputs": [],
   "source": [
    "a=['LogisticRegression','KNN','DecisionTree','Naive_Bayes']"
   ]
  },
  {
   "cell_type": "code",
   "execution_count": 80,
   "id": "3f984266",
   "metadata": {
    "scrolled": false
   },
   "outputs": [
    {
     "name": "stdout",
     "output_type": "stream",
     "text": [
      "Accuracy score:\n",
      " 0.8149166523457638\n",
      "Recall score:\n",
      " 0.02871467639015497\n",
      "Precision score:\n",
      " 0.7325581395348837\n",
      "F1 Score:\n",
      " 0.05526315789473684\n",
      "[0.8149166523457638, 0.02871467639015497, 0.7325581395348837, 0.05526315789473684]\n"
     ]
    }
   ],
   "source": [
    "knn_error_metrics_TEST=error_metrics(y_test,y_pred_test_logr)"
   ]
  },
  {
   "cell_type": "code",
   "execution_count": 81,
   "id": "37bc46e3",
   "metadata": {},
   "outputs": [],
   "source": [
    "knn_test=[0.8149166523457638, 0.02871467639015497, 0.7325581395348837, 0.05526315789473684]"
   ]
  },
  {
   "cell_type": "code",
   "execution_count": 82,
   "id": "f404005d",
   "metadata": {},
   "outputs": [
    {
     "name": "stdout",
     "output_type": "stream",
     "text": [
      "Accuracy score:\n",
      " 0.814299218011515\n",
      "Recall score:\n",
      " 0.02564102564102564\n",
      "Precision score:\n",
      " 0.7053291536050157\n",
      "F1 Score:\n",
      " 0.04948317572025511\n",
      "[0.814299218011515, 0.02564102564102564, 0.7053291536050157, 0.04948317572025511]\n"
     ]
    }
   ],
   "source": [
    "knn_error_metrics_TRAIN=error_metrics(y_train,y_pred_train_logr)"
   ]
  },
  {
   "cell_type": "code",
   "execution_count": 83,
   "id": "2a5d1575",
   "metadata": {},
   "outputs": [],
   "source": [
    "knn_train=[0.814299218011515, 0.02564102564102564, 0.7053291536050157, 0.04948317572025511]"
   ]
  },
  {
   "cell_type": "code",
   "execution_count": 84,
   "id": "c4787fb6",
   "metadata": {},
   "outputs": [],
   "source": [
    "error_df=pd.DataFrame({'KNN_Train':knn_train,'kNN_Test':knn_test,\n",
    "                       'DT_Train':DT_train,'DT_Test':DT_test,\n",
    "                      'Logr_Train':logr_train,'Logr_Test':logr_test,\n",
    "                      'NB_Train':NB_train,'NB_Test':NB_test})"
   ]
  },
  {
   "cell_type": "code",
   "execution_count": 85,
   "id": "cc1bf239",
   "metadata": {},
   "outputs": [
    {
     "data": {
      "text/html": [
       "<div>\n",
       "<style scoped>\n",
       "    .dataframe tbody tr th:only-of-type {\n",
       "        vertical-align: middle;\n",
       "    }\n",
       "\n",
       "    .dataframe tbody tr th {\n",
       "        vertical-align: top;\n",
       "    }\n",
       "\n",
       "    .dataframe thead th {\n",
       "        text-align: right;\n",
       "    }\n",
       "</style>\n",
       "<table border=\"1\" class=\"dataframe\">\n",
       "  <thead>\n",
       "    <tr style=\"text-align: right;\">\n",
       "      <th></th>\n",
       "      <th>KNN_Train</th>\n",
       "      <th>kNN_Test</th>\n",
       "      <th>DT_Train</th>\n",
       "      <th>DT_Test</th>\n",
       "      <th>Logr_Train</th>\n",
       "      <th>Logr_Test</th>\n",
       "      <th>NB_Train</th>\n",
       "      <th>NB_Test</th>\n",
       "    </tr>\n",
       "  </thead>\n",
       "  <tbody>\n",
       "    <tr>\n",
       "      <th>0</th>\n",
       "      <td>0.814299</td>\n",
       "      <td>0.814917</td>\n",
       "      <td>0.864871</td>\n",
       "      <td>0.865183</td>\n",
       "      <td>0.814299</td>\n",
       "      <td>0.814917</td>\n",
       "      <td>0.238549</td>\n",
       "      <td>0.238185</td>\n",
       "    </tr>\n",
       "    <tr>\n",
       "      <th>1</th>\n",
       "      <td>0.025641</td>\n",
       "      <td>0.028715</td>\n",
       "      <td>0.498006</td>\n",
       "      <td>0.501823</td>\n",
       "      <td>0.025641</td>\n",
       "      <td>0.028715</td>\n",
       "      <td>0.980627</td>\n",
       "      <td>0.971741</td>\n",
       "    </tr>\n",
       "    <tr>\n",
       "      <th>2</th>\n",
       "      <td>0.705329</td>\n",
       "      <td>0.732558</td>\n",
       "      <td>0.698641</td>\n",
       "      <td>0.698161</td>\n",
       "      <td>0.705329</td>\n",
       "      <td>0.732558</td>\n",
       "      <td>0.196107</td>\n",
       "      <td>0.194952</td>\n",
       "    </tr>\n",
       "    <tr>\n",
       "      <th>3</th>\n",
       "      <td>0.049483</td>\n",
       "      <td>0.055263</td>\n",
       "      <td>0.581504</td>\n",
       "      <td>0.583930</td>\n",
       "      <td>0.049483</td>\n",
       "      <td>0.055263</td>\n",
       "      <td>0.326851</td>\n",
       "      <td>0.324752</td>\n",
       "    </tr>\n",
       "  </tbody>\n",
       "</table>\n",
       "</div>"
      ],
      "text/plain": [
       "   KNN_Train  kNN_Test  DT_Train   DT_Test  Logr_Train  Logr_Test  NB_Train  \\\n",
       "0   0.814299  0.814917  0.864871  0.865183    0.814299   0.814917  0.238549   \n",
       "1   0.025641  0.028715  0.498006  0.501823    0.025641   0.028715  0.980627   \n",
       "2   0.705329  0.732558  0.698641  0.698161    0.705329   0.732558  0.196107   \n",
       "3   0.049483  0.055263  0.581504  0.583930    0.049483   0.055263  0.326851   \n",
       "\n",
       "    NB_Test  \n",
       "0  0.238185  \n",
       "1  0.971741  \n",
       "2  0.194952  \n",
       "3  0.324752  "
      ]
     },
     "execution_count": 85,
     "metadata": {},
     "output_type": "execute_result"
    }
   ],
   "source": [
    "error_df"
   ]
  },
  {
   "cell_type": "code",
   "execution_count": 86,
   "id": "ddee6a45",
   "metadata": {
    "scrolled": true
   },
   "outputs": [],
   "source": [
    "error_df.rename(index={0:'Accuracy_Score', 1:'Recall_Score',2:'Precision_Score',3:'F1_Score'},inplace=True)"
   ]
  },
  {
   "cell_type": "code",
   "execution_count": 87,
   "id": "a78ccdf6",
   "metadata": {},
   "outputs": [
    {
     "data": {
      "text/html": [
       "<div>\n",
       "<style scoped>\n",
       "    .dataframe tbody tr th:only-of-type {\n",
       "        vertical-align: middle;\n",
       "    }\n",
       "\n",
       "    .dataframe tbody tr th {\n",
       "        vertical-align: top;\n",
       "    }\n",
       "\n",
       "    .dataframe thead th {\n",
       "        text-align: right;\n",
       "    }\n",
       "</style>\n",
       "<table border=\"1\" class=\"dataframe\">\n",
       "  <thead>\n",
       "    <tr style=\"text-align: right;\">\n",
       "      <th></th>\n",
       "      <th>KNN_Train</th>\n",
       "      <th>kNN_Test</th>\n",
       "      <th>DT_Train</th>\n",
       "      <th>DT_Test</th>\n",
       "      <th>Logr_Train</th>\n",
       "      <th>Logr_Test</th>\n",
       "      <th>NB_Train</th>\n",
       "      <th>NB_Test</th>\n",
       "    </tr>\n",
       "  </thead>\n",
       "  <tbody>\n",
       "    <tr>\n",
       "      <th>Accuracy_Score</th>\n",
       "      <td>0.814299</td>\n",
       "      <td>0.814917</td>\n",
       "      <td>0.864871</td>\n",
       "      <td>0.865183</td>\n",
       "      <td>0.814299</td>\n",
       "      <td>0.814917</td>\n",
       "      <td>0.238549</td>\n",
       "      <td>0.238185</td>\n",
       "    </tr>\n",
       "    <tr>\n",
       "      <th>Recall_Score</th>\n",
       "      <td>0.025641</td>\n",
       "      <td>0.028715</td>\n",
       "      <td>0.498006</td>\n",
       "      <td>0.501823</td>\n",
       "      <td>0.025641</td>\n",
       "      <td>0.028715</td>\n",
       "      <td>0.980627</td>\n",
       "      <td>0.971741</td>\n",
       "    </tr>\n",
       "    <tr>\n",
       "      <th>Precision_Score</th>\n",
       "      <td>0.705329</td>\n",
       "      <td>0.732558</td>\n",
       "      <td>0.698641</td>\n",
       "      <td>0.698161</td>\n",
       "      <td>0.705329</td>\n",
       "      <td>0.732558</td>\n",
       "      <td>0.196107</td>\n",
       "      <td>0.194952</td>\n",
       "    </tr>\n",
       "    <tr>\n",
       "      <th>F1_Score</th>\n",
       "      <td>0.049483</td>\n",
       "      <td>0.055263</td>\n",
       "      <td>0.581504</td>\n",
       "      <td>0.583930</td>\n",
       "      <td>0.049483</td>\n",
       "      <td>0.055263</td>\n",
       "      <td>0.326851</td>\n",
       "      <td>0.324752</td>\n",
       "    </tr>\n",
       "  </tbody>\n",
       "</table>\n",
       "</div>"
      ],
      "text/plain": [
       "                 KNN_Train  kNN_Test  DT_Train   DT_Test  Logr_Train  \\\n",
       "Accuracy_Score    0.814299  0.814917  0.864871  0.865183    0.814299   \n",
       "Recall_Score      0.025641  0.028715  0.498006  0.501823    0.025641   \n",
       "Precision_Score   0.705329  0.732558  0.698641  0.698161    0.705329   \n",
       "F1_Score          0.049483  0.055263  0.581504  0.583930    0.049483   \n",
       "\n",
       "                 Logr_Test  NB_Train   NB_Test  \n",
       "Accuracy_Score    0.814917  0.238549  0.238185  \n",
       "Recall_Score      0.028715  0.980627  0.971741  \n",
       "Precision_Score   0.732558  0.196107  0.194952  \n",
       "F1_Score          0.055263  0.326851  0.324752  "
      ]
     },
     "execution_count": 87,
     "metadata": {},
     "output_type": "execute_result"
    }
   ],
   "source": [
    "error_df"
   ]
  },
  {
   "cell_type": "code",
   "execution_count": 88,
   "id": "372825ad",
   "metadata": {},
   "outputs": [],
   "source": [
    "train_pred_df=pd.DataFrame({'LogisticRegression':y_pred_train_logr,'DecisionTreeClassifier':y_pred_train_DT,'KNeighborsClassifier':y_pred_train_knn,'GaussianNB':y_pred_train_NB})"
   ]
  },
  {
   "cell_type": "code",
   "execution_count": 89,
   "id": "f163990d",
   "metadata": {},
   "outputs": [
    {
     "data": {
      "text/html": [
       "<div>\n",
       "<style scoped>\n",
       "    .dataframe tbody tr th:only-of-type {\n",
       "        vertical-align: middle;\n",
       "    }\n",
       "\n",
       "    .dataframe tbody tr th {\n",
       "        vertical-align: top;\n",
       "    }\n",
       "\n",
       "    .dataframe thead th {\n",
       "        text-align: right;\n",
       "    }\n",
       "</style>\n",
       "<table border=\"1\" class=\"dataframe\">\n",
       "  <thead>\n",
       "    <tr style=\"text-align: right;\">\n",
       "      <th></th>\n",
       "      <th>LogisticRegression</th>\n",
       "      <th>DecisionTreeClassifier</th>\n",
       "      <th>KNeighborsClassifier</th>\n",
       "      <th>GaussianNB</th>\n",
       "    </tr>\n",
       "  </thead>\n",
       "  <tbody>\n",
       "    <tr>\n",
       "      <th>0</th>\n",
       "      <td>0</td>\n",
       "      <td>0</td>\n",
       "      <td>0</td>\n",
       "      <td>1</td>\n",
       "    </tr>\n",
       "    <tr>\n",
       "      <th>1</th>\n",
       "      <td>0</td>\n",
       "      <td>0</td>\n",
       "      <td>0</td>\n",
       "      <td>1</td>\n",
       "    </tr>\n",
       "    <tr>\n",
       "      <th>2</th>\n",
       "      <td>0</td>\n",
       "      <td>0</td>\n",
       "      <td>1</td>\n",
       "      <td>1</td>\n",
       "    </tr>\n",
       "    <tr>\n",
       "      <th>3</th>\n",
       "      <td>0</td>\n",
       "      <td>0</td>\n",
       "      <td>0</td>\n",
       "      <td>1</td>\n",
       "    </tr>\n",
       "    <tr>\n",
       "      <th>4</th>\n",
       "      <td>0</td>\n",
       "      <td>0</td>\n",
       "      <td>0</td>\n",
       "      <td>1</td>\n",
       "    </tr>\n",
       "    <tr>\n",
       "      <th>...</th>\n",
       "      <td>...</td>\n",
       "      <td>...</td>\n",
       "      <td>...</td>\n",
       "      <td>...</td>\n",
       "    </tr>\n",
       "    <tr>\n",
       "      <th>46543</th>\n",
       "      <td>0</td>\n",
       "      <td>0</td>\n",
       "      <td>1</td>\n",
       "      <td>1</td>\n",
       "    </tr>\n",
       "    <tr>\n",
       "      <th>46544</th>\n",
       "      <td>0</td>\n",
       "      <td>1</td>\n",
       "      <td>1</td>\n",
       "      <td>1</td>\n",
       "    </tr>\n",
       "    <tr>\n",
       "      <th>46545</th>\n",
       "      <td>0</td>\n",
       "      <td>0</td>\n",
       "      <td>0</td>\n",
       "      <td>1</td>\n",
       "    </tr>\n",
       "    <tr>\n",
       "      <th>46546</th>\n",
       "      <td>0</td>\n",
       "      <td>0</td>\n",
       "      <td>0</td>\n",
       "      <td>1</td>\n",
       "    </tr>\n",
       "    <tr>\n",
       "      <th>46547</th>\n",
       "      <td>0</td>\n",
       "      <td>0</td>\n",
       "      <td>1</td>\n",
       "      <td>1</td>\n",
       "    </tr>\n",
       "  </tbody>\n",
       "</table>\n",
       "<p>46548 rows × 4 columns</p>\n",
       "</div>"
      ],
      "text/plain": [
       "       LogisticRegression  DecisionTreeClassifier  KNeighborsClassifier  \\\n",
       "0                       0                       0                     0   \n",
       "1                       0                       0                     0   \n",
       "2                       0                       0                     1   \n",
       "3                       0                       0                     0   \n",
       "4                       0                       0                     0   \n",
       "...                   ...                     ...                   ...   \n",
       "46543                   0                       0                     1   \n",
       "46544                   0                       1                     1   \n",
       "46545                   0                       0                     0   \n",
       "46546                   0                       0                     0   \n",
       "46547                   0                       0                     1   \n",
       "\n",
       "       GaussianNB  \n",
       "0               1  \n",
       "1               1  \n",
       "2               1  \n",
       "3               1  \n",
       "4               1  \n",
       "...           ...  \n",
       "46543           1  \n",
       "46544           1  \n",
       "46545           1  \n",
       "46546           1  \n",
       "46547           1  \n",
       "\n",
       "[46548 rows x 4 columns]"
      ]
     },
     "execution_count": 89,
     "metadata": {},
     "output_type": "execute_result"
    }
   ],
   "source": [
    "train_pred_df"
   ]
  },
  {
   "cell_type": "code",
   "execution_count": 90,
   "id": "502bd54c",
   "metadata": {},
   "outputs": [],
   "source": [
    "test_pred_df=pd.DataFrame({'LogisticRegression':y_pred_test_logr,'DecisionTreeClassifier':y_pred_test_DT,'KNeighborsClassifier':y_pred_test_knn,'GaussianNB':y_pred_test_NB})"
   ]
  },
  {
   "cell_type": "code",
   "execution_count": 91,
   "id": "b14f20c6",
   "metadata": {},
   "outputs": [
    {
     "data": {
      "text/html": [
       "<div>\n",
       "<style scoped>\n",
       "    .dataframe tbody tr th:only-of-type {\n",
       "        vertical-align: middle;\n",
       "    }\n",
       "\n",
       "    .dataframe tbody tr th {\n",
       "        vertical-align: top;\n",
       "    }\n",
       "\n",
       "    .dataframe thead th {\n",
       "        text-align: right;\n",
       "    }\n",
       "</style>\n",
       "<table border=\"1\" class=\"dataframe\">\n",
       "  <thead>\n",
       "    <tr style=\"text-align: right;\">\n",
       "      <th></th>\n",
       "      <th>LogisticRegression</th>\n",
       "      <th>DecisionTreeClassifier</th>\n",
       "      <th>KNeighborsClassifier</th>\n",
       "      <th>GaussianNB</th>\n",
       "    </tr>\n",
       "  </thead>\n",
       "  <tbody>\n",
       "    <tr>\n",
       "      <th>0</th>\n",
       "      <td>0</td>\n",
       "      <td>0</td>\n",
       "      <td>0</td>\n",
       "      <td>1</td>\n",
       "    </tr>\n",
       "    <tr>\n",
       "      <th>1</th>\n",
       "      <td>0</td>\n",
       "      <td>0</td>\n",
       "      <td>0</td>\n",
       "      <td>1</td>\n",
       "    </tr>\n",
       "    <tr>\n",
       "      <th>2</th>\n",
       "      <td>0</td>\n",
       "      <td>0</td>\n",
       "      <td>0</td>\n",
       "      <td>1</td>\n",
       "    </tr>\n",
       "    <tr>\n",
       "      <th>3</th>\n",
       "      <td>0</td>\n",
       "      <td>0</td>\n",
       "      <td>0</td>\n",
       "      <td>1</td>\n",
       "    </tr>\n",
       "    <tr>\n",
       "      <th>4</th>\n",
       "      <td>0</td>\n",
       "      <td>0</td>\n",
       "      <td>0</td>\n",
       "      <td>1</td>\n",
       "    </tr>\n",
       "    <tr>\n",
       "      <th>...</th>\n",
       "      <td>...</td>\n",
       "      <td>...</td>\n",
       "      <td>...</td>\n",
       "      <td>...</td>\n",
       "    </tr>\n",
       "    <tr>\n",
       "      <th>11633</th>\n",
       "      <td>0</td>\n",
       "      <td>0</td>\n",
       "      <td>0</td>\n",
       "      <td>1</td>\n",
       "    </tr>\n",
       "    <tr>\n",
       "      <th>11634</th>\n",
       "      <td>0</td>\n",
       "      <td>0</td>\n",
       "      <td>0</td>\n",
       "      <td>1</td>\n",
       "    </tr>\n",
       "    <tr>\n",
       "      <th>11635</th>\n",
       "      <td>0</td>\n",
       "      <td>1</td>\n",
       "      <td>1</td>\n",
       "      <td>1</td>\n",
       "    </tr>\n",
       "    <tr>\n",
       "      <th>11636</th>\n",
       "      <td>0</td>\n",
       "      <td>1</td>\n",
       "      <td>1</td>\n",
       "      <td>1</td>\n",
       "    </tr>\n",
       "    <tr>\n",
       "      <th>11637</th>\n",
       "      <td>0</td>\n",
       "      <td>0</td>\n",
       "      <td>0</td>\n",
       "      <td>1</td>\n",
       "    </tr>\n",
       "  </tbody>\n",
       "</table>\n",
       "<p>11638 rows × 4 columns</p>\n",
       "</div>"
      ],
      "text/plain": [
       "       LogisticRegression  DecisionTreeClassifier  KNeighborsClassifier  \\\n",
       "0                       0                       0                     0   \n",
       "1                       0                       0                     0   \n",
       "2                       0                       0                     0   \n",
       "3                       0                       0                     0   \n",
       "4                       0                       0                     0   \n",
       "...                   ...                     ...                   ...   \n",
       "11633                   0                       0                     0   \n",
       "11634                   0                       0                     0   \n",
       "11635                   0                       1                     1   \n",
       "11636                   0                       1                     1   \n",
       "11637                   0                       0                     0   \n",
       "\n",
       "       GaussianNB  \n",
       "0               1  \n",
       "1               1  \n",
       "2               1  \n",
       "3               1  \n",
       "4               1  \n",
       "...           ...  \n",
       "11633           1  \n",
       "11634           1  \n",
       "11635           1  \n",
       "11636           1  \n",
       "11637           1  \n",
       "\n",
       "[11638 rows x 4 columns]"
      ]
     },
     "execution_count": 91,
     "metadata": {},
     "output_type": "execute_result"
    }
   ],
   "source": [
    "test_pred_df"
   ]
  },
  {
   "cell_type": "code",
   "execution_count": 92,
   "id": "dd307b77",
   "metadata": {},
   "outputs": [],
   "source": [
    "from sklearn.ensemble import RandomForestClassifier"
   ]
  },
  {
   "cell_type": "code",
   "execution_count": 93,
   "id": "effdeba3",
   "metadata": {},
   "outputs": [],
   "source": [
    "rf_clf=RandomForestClassifier(n_estimators=100)"
   ]
  },
  {
   "cell_type": "code",
   "execution_count": 94,
   "id": "c29537ff",
   "metadata": {},
   "outputs": [
    {
     "data": {
      "text/html": [
       "<style>#sk-container-id-3 {color: black;background-color: white;}#sk-container-id-3 pre{padding: 0;}#sk-container-id-3 div.sk-toggleable {background-color: white;}#sk-container-id-3 label.sk-toggleable__label {cursor: pointer;display: block;width: 100%;margin-bottom: 0;padding: 0.3em;box-sizing: border-box;text-align: center;}#sk-container-id-3 label.sk-toggleable__label-arrow:before {content: \"▸\";float: left;margin-right: 0.25em;color: #696969;}#sk-container-id-3 label.sk-toggleable__label-arrow:hover:before {color: black;}#sk-container-id-3 div.sk-estimator:hover label.sk-toggleable__label-arrow:before {color: black;}#sk-container-id-3 div.sk-toggleable__content {max-height: 0;max-width: 0;overflow: hidden;text-align: left;background-color: #f0f8ff;}#sk-container-id-3 div.sk-toggleable__content pre {margin: 0.2em;color: black;border-radius: 0.25em;background-color: #f0f8ff;}#sk-container-id-3 input.sk-toggleable__control:checked~div.sk-toggleable__content {max-height: 200px;max-width: 100%;overflow: auto;}#sk-container-id-3 input.sk-toggleable__control:checked~label.sk-toggleable__label-arrow:before {content: \"▾\";}#sk-container-id-3 div.sk-estimator input.sk-toggleable__control:checked~label.sk-toggleable__label {background-color: #d4ebff;}#sk-container-id-3 div.sk-label input.sk-toggleable__control:checked~label.sk-toggleable__label {background-color: #d4ebff;}#sk-container-id-3 input.sk-hidden--visually {border: 0;clip: rect(1px 1px 1px 1px);clip: rect(1px, 1px, 1px, 1px);height: 1px;margin: -1px;overflow: hidden;padding: 0;position: absolute;width: 1px;}#sk-container-id-3 div.sk-estimator {font-family: monospace;background-color: #f0f8ff;border: 1px dotted black;border-radius: 0.25em;box-sizing: border-box;margin-bottom: 0.5em;}#sk-container-id-3 div.sk-estimator:hover {background-color: #d4ebff;}#sk-container-id-3 div.sk-parallel-item::after {content: \"\";width: 100%;border-bottom: 1px solid gray;flex-grow: 1;}#sk-container-id-3 div.sk-label:hover label.sk-toggleable__label {background-color: #d4ebff;}#sk-container-id-3 div.sk-serial::before {content: \"\";position: absolute;border-left: 1px solid gray;box-sizing: border-box;top: 0;bottom: 0;left: 50%;z-index: 0;}#sk-container-id-3 div.sk-serial {display: flex;flex-direction: column;align-items: center;background-color: white;padding-right: 0.2em;padding-left: 0.2em;position: relative;}#sk-container-id-3 div.sk-item {position: relative;z-index: 1;}#sk-container-id-3 div.sk-parallel {display: flex;align-items: stretch;justify-content: center;background-color: white;position: relative;}#sk-container-id-3 div.sk-item::before, #sk-container-id-3 div.sk-parallel-item::before {content: \"\";position: absolute;border-left: 1px solid gray;box-sizing: border-box;top: 0;bottom: 0;left: 50%;z-index: -1;}#sk-container-id-3 div.sk-parallel-item {display: flex;flex-direction: column;z-index: 1;position: relative;background-color: white;}#sk-container-id-3 div.sk-parallel-item:first-child::after {align-self: flex-end;width: 50%;}#sk-container-id-3 div.sk-parallel-item:last-child::after {align-self: flex-start;width: 50%;}#sk-container-id-3 div.sk-parallel-item:only-child::after {width: 0;}#sk-container-id-3 div.sk-dashed-wrapped {border: 1px dashed gray;margin: 0 0.4em 0.5em 0.4em;box-sizing: border-box;padding-bottom: 0.4em;background-color: white;}#sk-container-id-3 div.sk-label label {font-family: monospace;font-weight: bold;display: inline-block;line-height: 1.2em;}#sk-container-id-3 div.sk-label-container {text-align: center;}#sk-container-id-3 div.sk-container {/* jupyter's `normalize.less` sets `[hidden] { display: none; }` but bootstrap.min.css set `[hidden] { display: none !important; }` so we also need the `!important` here to be able to override the default hidden behavior on the sphinx rendered scikit-learn.org. See: https://github.com/scikit-learn/scikit-learn/issues/21755 */display: inline-block !important;position: relative;}#sk-container-id-3 div.sk-text-repr-fallback {display: none;}</style><div id=\"sk-container-id-3\" class=\"sk-top-container\"><div class=\"sk-text-repr-fallback\"><pre>RandomForestClassifier()</pre><b>In a Jupyter environment, please rerun this cell to show the HTML representation or trust the notebook. <br />On GitHub, the HTML representation is unable to render, please try loading this page with nbviewer.org.</b></div><div class=\"sk-container\" hidden><div class=\"sk-item\"><div class=\"sk-estimator sk-toggleable\"><input class=\"sk-toggleable__control sk-hidden--visually\" id=\"sk-estimator-id-3\" type=\"checkbox\" checked><label for=\"sk-estimator-id-3\" class=\"sk-toggleable__label sk-toggleable__label-arrow\">RandomForestClassifier</label><div class=\"sk-toggleable__content\"><pre>RandomForestClassifier()</pre></div></div></div></div></div>"
      ],
      "text/plain": [
       "RandomForestClassifier()"
      ]
     },
     "execution_count": 94,
     "metadata": {},
     "output_type": "execute_result"
    }
   ],
   "source": [
    "rf_clf.fit(x_train,y_train)"
   ]
  },
  {
   "cell_type": "code",
   "execution_count": 95,
   "id": "a6046a3c",
   "metadata": {},
   "outputs": [],
   "source": [
    "y_pred_test_rf=rf_clf.predict(x_test)"
   ]
  },
  {
   "cell_type": "code",
   "execution_count": 96,
   "id": "2dbfd581",
   "metadata": {},
   "outputs": [],
   "source": [
    "y_pred_train_rf=rf_clf.predict(x_train)"
   ]
  },
  {
   "cell_type": "code",
   "execution_count": 97,
   "id": "25dcbff5",
   "metadata": {},
   "outputs": [
    {
     "name": "stdout",
     "output_type": "stream",
     "text": [
      "Accuracy score:\n",
      " 0.9976798143851509\n",
      "Recall score:\n",
      " 0.9938461538461538\n",
      "Precision score:\n",
      " 0.9938461538461538\n",
      "F1 Score:\n",
      " 0.9938461538461538\n",
      "[0.9976798143851509, 0.9938461538461538, 0.9938461538461538, 0.9938461538461538]\n"
     ]
    }
   ],
   "source": [
    "RF_error_metrics_TRAIN=error_metrics(y_train,y_pred_train_rf)"
   ]
  },
  {
   "cell_type": "code",
   "execution_count": 98,
   "id": "c29ffa21",
   "metadata": {},
   "outputs": [],
   "source": [
    "rf_train=[0.9976798143851509, 0.9929344729344729, 0.9947482589336683, 0.993840538382571]\n"
   ]
  },
  {
   "cell_type": "code",
   "execution_count": 99,
   "id": "5c1c555a",
   "metadata": {},
   "outputs": [
    {
     "name": "stdout",
     "output_type": "stream",
     "text": [
      "Accuracy score:\n",
      " 0.9358996391132497\n",
      "Recall score:\n",
      " 0.8190519598906107\n",
      "Precision score:\n",
      " 0.8373718546132339\n",
      "F1 Score:\n",
      " 0.8281105990783411\n",
      "[0.9358996391132497, 0.8190519598906107, 0.8373718546132339, 0.8281105990783411]\n"
     ]
    }
   ],
   "source": [
    "RF_error_metrics_TEST=error_metrics(y_test,y_pred_test_rf)"
   ]
  },
  {
   "cell_type": "code",
   "execution_count": 100,
   "id": "ce5c7785",
   "metadata": {},
   "outputs": [],
   "source": [
    "rf_test=[0.9333218766111016, 0.8144940747493163, 0.8288497217068646, 0.8216091954022988]"
   ]
  },
  {
   "cell_type": "code",
   "execution_count": 101,
   "id": "ec7cb53e",
   "metadata": {},
   "outputs": [
    {
     "data": {
      "text/html": [
       "<div>\n",
       "<style scoped>\n",
       "    .dataframe tbody tr th:only-of-type {\n",
       "        vertical-align: middle;\n",
       "    }\n",
       "\n",
       "    .dataframe tbody tr th {\n",
       "        vertical-align: top;\n",
       "    }\n",
       "\n",
       "    .dataframe thead th {\n",
       "        text-align: right;\n",
       "    }\n",
       "</style>\n",
       "<table border=\"1\" class=\"dataframe\">\n",
       "  <thead>\n",
       "    <tr style=\"text-align: right;\">\n",
       "      <th></th>\n",
       "      <th>KNN_Train</th>\n",
       "      <th>kNN_Test</th>\n",
       "      <th>DT_Train</th>\n",
       "      <th>DT_Test</th>\n",
       "      <th>Logr_Train</th>\n",
       "      <th>Logr_Test</th>\n",
       "      <th>NB_Train</th>\n",
       "      <th>NB_Test</th>\n",
       "    </tr>\n",
       "  </thead>\n",
       "  <tbody>\n",
       "    <tr>\n",
       "      <th>Accuracy_Score</th>\n",
       "      <td>0.814299</td>\n",
       "      <td>0.814917</td>\n",
       "      <td>0.864871</td>\n",
       "      <td>0.865183</td>\n",
       "      <td>0.814299</td>\n",
       "      <td>0.814917</td>\n",
       "      <td>0.238549</td>\n",
       "      <td>0.238185</td>\n",
       "    </tr>\n",
       "    <tr>\n",
       "      <th>Recall_Score</th>\n",
       "      <td>0.025641</td>\n",
       "      <td>0.028715</td>\n",
       "      <td>0.498006</td>\n",
       "      <td>0.501823</td>\n",
       "      <td>0.025641</td>\n",
       "      <td>0.028715</td>\n",
       "      <td>0.980627</td>\n",
       "      <td>0.971741</td>\n",
       "    </tr>\n",
       "    <tr>\n",
       "      <th>Precision_Score</th>\n",
       "      <td>0.705329</td>\n",
       "      <td>0.732558</td>\n",
       "      <td>0.698641</td>\n",
       "      <td>0.698161</td>\n",
       "      <td>0.705329</td>\n",
       "      <td>0.732558</td>\n",
       "      <td>0.196107</td>\n",
       "      <td>0.194952</td>\n",
       "    </tr>\n",
       "    <tr>\n",
       "      <th>F1_Score</th>\n",
       "      <td>0.049483</td>\n",
       "      <td>0.055263</td>\n",
       "      <td>0.581504</td>\n",
       "      <td>0.583930</td>\n",
       "      <td>0.049483</td>\n",
       "      <td>0.055263</td>\n",
       "      <td>0.326851</td>\n",
       "      <td>0.324752</td>\n",
       "    </tr>\n",
       "  </tbody>\n",
       "</table>\n",
       "</div>"
      ],
      "text/plain": [
       "                 KNN_Train  kNN_Test  DT_Train   DT_Test  Logr_Train  \\\n",
       "Accuracy_Score    0.814299  0.814917  0.864871  0.865183    0.814299   \n",
       "Recall_Score      0.025641  0.028715  0.498006  0.501823    0.025641   \n",
       "Precision_Score   0.705329  0.732558  0.698641  0.698161    0.705329   \n",
       "F1_Score          0.049483  0.055263  0.581504  0.583930    0.049483   \n",
       "\n",
       "                 Logr_Test  NB_Train   NB_Test  \n",
       "Accuracy_Score    0.814917  0.238549  0.238185  \n",
       "Recall_Score      0.028715  0.980627  0.971741  \n",
       "Precision_Score   0.732558  0.196107  0.194952  \n",
       "F1_Score          0.055263  0.326851  0.324752  "
      ]
     },
     "execution_count": 101,
     "metadata": {},
     "output_type": "execute_result"
    }
   ],
   "source": [
    "error_df"
   ]
  },
  {
   "cell_type": "code",
   "execution_count": 102,
   "id": "4f9dd18e",
   "metadata": {},
   "outputs": [],
   "source": [
    "error_df['RF_Train']=rf_train"
   ]
  },
  {
   "cell_type": "code",
   "execution_count": 103,
   "id": "6d7f45fd",
   "metadata": {},
   "outputs": [],
   "source": [
    "error_df['RF_Test']=rf_test"
   ]
  },
  {
   "cell_type": "code",
   "execution_count": 104,
   "id": "81e10a77",
   "metadata": {},
   "outputs": [
    {
     "data": {
      "text/html": [
       "<div>\n",
       "<style scoped>\n",
       "    .dataframe tbody tr th:only-of-type {\n",
       "        vertical-align: middle;\n",
       "    }\n",
       "\n",
       "    .dataframe tbody tr th {\n",
       "        vertical-align: top;\n",
       "    }\n",
       "\n",
       "    .dataframe thead th {\n",
       "        text-align: right;\n",
       "    }\n",
       "</style>\n",
       "<table border=\"1\" class=\"dataframe\">\n",
       "  <thead>\n",
       "    <tr style=\"text-align: right;\">\n",
       "      <th></th>\n",
       "      <th>KNN_Train</th>\n",
       "      <th>kNN_Test</th>\n",
       "      <th>DT_Train</th>\n",
       "      <th>DT_Test</th>\n",
       "      <th>Logr_Train</th>\n",
       "      <th>Logr_Test</th>\n",
       "      <th>NB_Train</th>\n",
       "      <th>NB_Test</th>\n",
       "      <th>RF_Train</th>\n",
       "      <th>RF_Test</th>\n",
       "    </tr>\n",
       "  </thead>\n",
       "  <tbody>\n",
       "    <tr>\n",
       "      <th>Accuracy_Score</th>\n",
       "      <td>0.814299</td>\n",
       "      <td>0.814917</td>\n",
       "      <td>0.864871</td>\n",
       "      <td>0.865183</td>\n",
       "      <td>0.814299</td>\n",
       "      <td>0.814917</td>\n",
       "      <td>0.238549</td>\n",
       "      <td>0.238185</td>\n",
       "      <td>0.997680</td>\n",
       "      <td>0.933322</td>\n",
       "    </tr>\n",
       "    <tr>\n",
       "      <th>Recall_Score</th>\n",
       "      <td>0.025641</td>\n",
       "      <td>0.028715</td>\n",
       "      <td>0.498006</td>\n",
       "      <td>0.501823</td>\n",
       "      <td>0.025641</td>\n",
       "      <td>0.028715</td>\n",
       "      <td>0.980627</td>\n",
       "      <td>0.971741</td>\n",
       "      <td>0.992934</td>\n",
       "      <td>0.814494</td>\n",
       "    </tr>\n",
       "    <tr>\n",
       "      <th>Precision_Score</th>\n",
       "      <td>0.705329</td>\n",
       "      <td>0.732558</td>\n",
       "      <td>0.698641</td>\n",
       "      <td>0.698161</td>\n",
       "      <td>0.705329</td>\n",
       "      <td>0.732558</td>\n",
       "      <td>0.196107</td>\n",
       "      <td>0.194952</td>\n",
       "      <td>0.994748</td>\n",
       "      <td>0.828850</td>\n",
       "    </tr>\n",
       "    <tr>\n",
       "      <th>F1_Score</th>\n",
       "      <td>0.049483</td>\n",
       "      <td>0.055263</td>\n",
       "      <td>0.581504</td>\n",
       "      <td>0.583930</td>\n",
       "      <td>0.049483</td>\n",
       "      <td>0.055263</td>\n",
       "      <td>0.326851</td>\n",
       "      <td>0.324752</td>\n",
       "      <td>0.993841</td>\n",
       "      <td>0.821609</td>\n",
       "    </tr>\n",
       "  </tbody>\n",
       "</table>\n",
       "</div>"
      ],
      "text/plain": [
       "                 KNN_Train  kNN_Test  DT_Train   DT_Test  Logr_Train  \\\n",
       "Accuracy_Score    0.814299  0.814917  0.864871  0.865183    0.814299   \n",
       "Recall_Score      0.025641  0.028715  0.498006  0.501823    0.025641   \n",
       "Precision_Score   0.705329  0.732558  0.698641  0.698161    0.705329   \n",
       "F1_Score          0.049483  0.055263  0.581504  0.583930    0.049483   \n",
       "\n",
       "                 Logr_Test  NB_Train   NB_Test  RF_Train   RF_Test  \n",
       "Accuracy_Score    0.814917  0.238549  0.238185  0.997680  0.933322  \n",
       "Recall_Score      0.028715  0.980627  0.971741  0.992934  0.814494  \n",
       "Precision_Score   0.732558  0.196107  0.194952  0.994748  0.828850  \n",
       "F1_Score          0.055263  0.326851  0.324752  0.993841  0.821609  "
      ]
     },
     "execution_count": 104,
     "metadata": {},
     "output_type": "execute_result"
    }
   ],
   "source": [
    "error_df"
   ]
  },
  {
   "cell_type": "code",
   "execution_count": 105,
   "id": "d8b832b3",
   "metadata": {},
   "outputs": [],
   "source": [
    "train_pred_df['RandomForest']=y_pred_train_rf"
   ]
  },
  {
   "cell_type": "code",
   "execution_count": 106,
   "id": "43de18a6",
   "metadata": {},
   "outputs": [],
   "source": [
    "test_pred_df['RandomForest']=y_pred_test_rf"
   ]
  },
  {
   "cell_type": "code",
   "execution_count": 107,
   "id": "20dc57e6",
   "metadata": {
    "scrolled": false
   },
   "outputs": [
    {
     "data": {
      "text/html": [
       "<div>\n",
       "<style scoped>\n",
       "    .dataframe tbody tr th:only-of-type {\n",
       "        vertical-align: middle;\n",
       "    }\n",
       "\n",
       "    .dataframe tbody tr th {\n",
       "        vertical-align: top;\n",
       "    }\n",
       "\n",
       "    .dataframe thead th {\n",
       "        text-align: right;\n",
       "    }\n",
       "</style>\n",
       "<table border=\"1\" class=\"dataframe\">\n",
       "  <thead>\n",
       "    <tr style=\"text-align: right;\">\n",
       "      <th></th>\n",
       "      <th>LogisticRegression</th>\n",
       "      <th>DecisionTreeClassifier</th>\n",
       "      <th>KNeighborsClassifier</th>\n",
       "      <th>GaussianNB</th>\n",
       "      <th>RandomForest</th>\n",
       "    </tr>\n",
       "  </thead>\n",
       "  <tbody>\n",
       "    <tr>\n",
       "      <th>0</th>\n",
       "      <td>0</td>\n",
       "      <td>0</td>\n",
       "      <td>0</td>\n",
       "      <td>1</td>\n",
       "      <td>0</td>\n",
       "    </tr>\n",
       "    <tr>\n",
       "      <th>1</th>\n",
       "      <td>0</td>\n",
       "      <td>0</td>\n",
       "      <td>0</td>\n",
       "      <td>1</td>\n",
       "      <td>0</td>\n",
       "    </tr>\n",
       "    <tr>\n",
       "      <th>2</th>\n",
       "      <td>0</td>\n",
       "      <td>0</td>\n",
       "      <td>1</td>\n",
       "      <td>1</td>\n",
       "      <td>1</td>\n",
       "    </tr>\n",
       "    <tr>\n",
       "      <th>3</th>\n",
       "      <td>0</td>\n",
       "      <td>0</td>\n",
       "      <td>0</td>\n",
       "      <td>1</td>\n",
       "      <td>0</td>\n",
       "    </tr>\n",
       "    <tr>\n",
       "      <th>4</th>\n",
       "      <td>0</td>\n",
       "      <td>0</td>\n",
       "      <td>0</td>\n",
       "      <td>1</td>\n",
       "      <td>0</td>\n",
       "    </tr>\n",
       "  </tbody>\n",
       "</table>\n",
       "</div>"
      ],
      "text/plain": [
       "   LogisticRegression  DecisionTreeClassifier  KNeighborsClassifier  \\\n",
       "0                   0                       0                     0   \n",
       "1                   0                       0                     0   \n",
       "2                   0                       0                     1   \n",
       "3                   0                       0                     0   \n",
       "4                   0                       0                     0   \n",
       "\n",
       "   GaussianNB  RandomForest  \n",
       "0           1             0  \n",
       "1           1             0  \n",
       "2           1             1  \n",
       "3           1             0  \n",
       "4           1             0  "
      ]
     },
     "execution_count": 107,
     "metadata": {},
     "output_type": "execute_result"
    }
   ],
   "source": [
    "train_pred_df.head()"
   ]
  },
  {
   "cell_type": "code",
   "execution_count": 108,
   "id": "ebb555c1",
   "metadata": {},
   "outputs": [
    {
     "data": {
      "text/html": [
       "<div>\n",
       "<style scoped>\n",
       "    .dataframe tbody tr th:only-of-type {\n",
       "        vertical-align: middle;\n",
       "    }\n",
       "\n",
       "    .dataframe tbody tr th {\n",
       "        vertical-align: top;\n",
       "    }\n",
       "\n",
       "    .dataframe thead th {\n",
       "        text-align: right;\n",
       "    }\n",
       "</style>\n",
       "<table border=\"1\" class=\"dataframe\">\n",
       "  <thead>\n",
       "    <tr style=\"text-align: right;\">\n",
       "      <th></th>\n",
       "      <th>LogisticRegression</th>\n",
       "      <th>DecisionTreeClassifier</th>\n",
       "      <th>KNeighborsClassifier</th>\n",
       "      <th>GaussianNB</th>\n",
       "      <th>RandomForest</th>\n",
       "    </tr>\n",
       "  </thead>\n",
       "  <tbody>\n",
       "    <tr>\n",
       "      <th>0</th>\n",
       "      <td>0</td>\n",
       "      <td>0</td>\n",
       "      <td>0</td>\n",
       "      <td>1</td>\n",
       "      <td>0</td>\n",
       "    </tr>\n",
       "    <tr>\n",
       "      <th>1</th>\n",
       "      <td>0</td>\n",
       "      <td>0</td>\n",
       "      <td>0</td>\n",
       "      <td>1</td>\n",
       "      <td>0</td>\n",
       "    </tr>\n",
       "    <tr>\n",
       "      <th>2</th>\n",
       "      <td>0</td>\n",
       "      <td>0</td>\n",
       "      <td>0</td>\n",
       "      <td>1</td>\n",
       "      <td>0</td>\n",
       "    </tr>\n",
       "    <tr>\n",
       "      <th>3</th>\n",
       "      <td>0</td>\n",
       "      <td>0</td>\n",
       "      <td>0</td>\n",
       "      <td>1</td>\n",
       "      <td>0</td>\n",
       "    </tr>\n",
       "    <tr>\n",
       "      <th>4</th>\n",
       "      <td>0</td>\n",
       "      <td>0</td>\n",
       "      <td>0</td>\n",
       "      <td>1</td>\n",
       "      <td>0</td>\n",
       "    </tr>\n",
       "  </tbody>\n",
       "</table>\n",
       "</div>"
      ],
      "text/plain": [
       "   LogisticRegression  DecisionTreeClassifier  KNeighborsClassifier  \\\n",
       "0                   0                       0                     0   \n",
       "1                   0                       0                     0   \n",
       "2                   0                       0                     0   \n",
       "3                   0                       0                     0   \n",
       "4                   0                       0                     0   \n",
       "\n",
       "   GaussianNB  RandomForest  \n",
       "0           1             0  \n",
       "1           1             0  \n",
       "2           1             0  \n",
       "3           1             0  \n",
       "4           1             0  "
      ]
     },
     "execution_count": 108,
     "metadata": {},
     "output_type": "execute_result"
    }
   ],
   "source": [
    "test_pred_df.head()"
   ]
  },
  {
   "cell_type": "code",
   "execution_count": 109,
   "id": "78b86697",
   "metadata": {},
   "outputs": [
    {
     "data": {
      "text/html": [
       "<div>\n",
       "<style scoped>\n",
       "    .dataframe tbody tr th:only-of-type {\n",
       "        vertical-align: middle;\n",
       "    }\n",
       "\n",
       "    .dataframe tbody tr th {\n",
       "        vertical-align: top;\n",
       "    }\n",
       "\n",
       "    .dataframe thead th {\n",
       "        text-align: right;\n",
       "    }\n",
       "</style>\n",
       "<table border=\"1\" class=\"dataframe\">\n",
       "  <thead>\n",
       "    <tr style=\"text-align: right;\">\n",
       "      <th></th>\n",
       "      <th>KNN_Train</th>\n",
       "      <th>kNN_Test</th>\n",
       "      <th>DT_Train</th>\n",
       "      <th>DT_Test</th>\n",
       "      <th>Logr_Train</th>\n",
       "      <th>Logr_Test</th>\n",
       "      <th>NB_Train</th>\n",
       "      <th>NB_Test</th>\n",
       "      <th>RF_Train</th>\n",
       "      <th>RF_Test</th>\n",
       "    </tr>\n",
       "  </thead>\n",
       "  <tbody>\n",
       "    <tr>\n",
       "      <th>Accuracy_Score</th>\n",
       "      <td>0.814299</td>\n",
       "      <td>0.814917</td>\n",
       "      <td>0.864871</td>\n",
       "      <td>0.865183</td>\n",
       "      <td>0.814299</td>\n",
       "      <td>0.814917</td>\n",
       "      <td>0.238549</td>\n",
       "      <td>0.238185</td>\n",
       "      <td>0.997680</td>\n",
       "      <td>0.933322</td>\n",
       "    </tr>\n",
       "    <tr>\n",
       "      <th>Recall_Score</th>\n",
       "      <td>0.025641</td>\n",
       "      <td>0.028715</td>\n",
       "      <td>0.498006</td>\n",
       "      <td>0.501823</td>\n",
       "      <td>0.025641</td>\n",
       "      <td>0.028715</td>\n",
       "      <td>0.980627</td>\n",
       "      <td>0.971741</td>\n",
       "      <td>0.992934</td>\n",
       "      <td>0.814494</td>\n",
       "    </tr>\n",
       "    <tr>\n",
       "      <th>Precision_Score</th>\n",
       "      <td>0.705329</td>\n",
       "      <td>0.732558</td>\n",
       "      <td>0.698641</td>\n",
       "      <td>0.698161</td>\n",
       "      <td>0.705329</td>\n",
       "      <td>0.732558</td>\n",
       "      <td>0.196107</td>\n",
       "      <td>0.194952</td>\n",
       "      <td>0.994748</td>\n",
       "      <td>0.828850</td>\n",
       "    </tr>\n",
       "    <tr>\n",
       "      <th>F1_Score</th>\n",
       "      <td>0.049483</td>\n",
       "      <td>0.055263</td>\n",
       "      <td>0.581504</td>\n",
       "      <td>0.583930</td>\n",
       "      <td>0.049483</td>\n",
       "      <td>0.055263</td>\n",
       "      <td>0.326851</td>\n",
       "      <td>0.324752</td>\n",
       "      <td>0.993841</td>\n",
       "      <td>0.821609</td>\n",
       "    </tr>\n",
       "  </tbody>\n",
       "</table>\n",
       "</div>"
      ],
      "text/plain": [
       "                 KNN_Train  kNN_Test  DT_Train   DT_Test  Logr_Train  \\\n",
       "Accuracy_Score    0.814299  0.814917  0.864871  0.865183    0.814299   \n",
       "Recall_Score      0.025641  0.028715  0.498006  0.501823    0.025641   \n",
       "Precision_Score   0.705329  0.732558  0.698641  0.698161    0.705329   \n",
       "F1_Score          0.049483  0.055263  0.581504  0.583930    0.049483   \n",
       "\n",
       "                 Logr_Test  NB_Train   NB_Test  RF_Train   RF_Test  \n",
       "Accuracy_Score    0.814917  0.238549  0.238185  0.997680  0.933322  \n",
       "Recall_Score      0.028715  0.980627  0.971741  0.992934  0.814494  \n",
       "Precision_Score   0.732558  0.196107  0.194952  0.994748  0.828850  \n",
       "F1_Score          0.055263  0.326851  0.324752  0.993841  0.821609  "
      ]
     },
     "execution_count": 109,
     "metadata": {},
     "output_type": "execute_result"
    }
   ],
   "source": [
    "error_df"
   ]
  },
  {
   "cell_type": "code",
   "execution_count": 110,
   "id": "acee0e1f",
   "metadata": {},
   "outputs": [],
   "source": [
    "features=df.columns"
   ]
  },
  {
   "cell_type": "code",
   "execution_count": 111,
   "id": "628c6fdd",
   "metadata": {},
   "outputs": [],
   "source": [
    "importances=rf_clf.feature_importances_"
   ]
  },
  {
   "cell_type": "code",
   "execution_count": 112,
   "id": "f41fb451",
   "metadata": {},
   "outputs": [
    {
     "data": {
      "text/plain": [
       "array([2.47008116e-01, 3.09305009e-02, 4.09714554e-02, 9.67110086e-02,\n",
       "       8.03125467e-02, 8.30615246e-02, 4.47014386e-02, 5.38844638e-02,\n",
       "       4.63697168e-02, 6.08088275e-02, 3.85456067e-02, 1.05120022e-02,\n",
       "       6.24955824e-02, 6.43826808e-02, 1.87595676e-02, 3.00481971e-04,\n",
       "       9.03583952e-03, 3.42779991e-05, 8.54406057e-03, 2.62266040e-03,\n",
       "       7.64102915e-06])"
      ]
     },
     "execution_count": 112,
     "metadata": {},
     "output_type": "execute_result"
    }
   ],
   "source": [
    "importances"
   ]
  },
  {
   "cell_type": "code",
   "execution_count": 113,
   "id": "6a0d8c3a",
   "metadata": {},
   "outputs": [],
   "source": [
    "import numpy as np"
   ]
  },
  {
   "cell_type": "code",
   "execution_count": 114,
   "id": "cd9359fb",
   "metadata": {
    "scrolled": true
   },
   "outputs": [],
   "source": [
    "indices=np.argsort(importances)[::-1]"
   ]
  },
  {
   "cell_type": "code",
   "execution_count": 115,
   "id": "12abc58d",
   "metadata": {},
   "outputs": [
    {
     "data": {
      "text/plain": [
       "array([ 0,  3,  5,  4, 13, 12,  9,  7,  8,  6,  2, 10,  1, 14, 11, 16, 18,\n",
       "       19, 15, 17, 20], dtype=int64)"
      ]
     },
     "execution_count": 115,
     "metadata": {},
     "output_type": "execute_result"
    }
   ],
   "source": [
    "indices"
   ]
  },
  {
   "cell_type": "code",
   "execution_count": 116,
   "id": "c02632f9",
   "metadata": {},
   "outputs": [],
   "source": [
    "import matplotlib.pyplot as plt"
   ]
  },
  {
   "cell_type": "code",
   "execution_count": 117,
   "id": "cb210004",
   "metadata": {},
   "outputs": [
    {
     "data": {
      "image/png": "[encoded data removed]",
      "text/plain": [
       "<Figure size 432x288 with 1 Axes>"
      ]
     },
     "metadata": {
      "needs_background": "light"
     },
     "output_type": "display_data"
    }
   ],
   "source": [
    "plt.title(\"Feature_Importance\")\n",
    "plt.barh(range(len(indices)),importances[indices],color='black')\n",
    "plt.xlabel('Importance')\n",
    "plt.yticks(range(len(indices)),[features[i] for i in indices])\n",
    "plt.show()"
   ]
  },
  {
   "cell_type": "markdown",
   "id": "f7e0f7c6",
   "metadata": {},
   "source": [
    "### Adaboost"
   ]
  },
  {
   "cell_type": "code",
   "execution_count": 118,
   "id": "96c4c01c",
   "metadata": {},
   "outputs": [],
   "source": [
    "from sklearn.ensemble import AdaBoostClassifier"
   ]
  },
  {
   "cell_type": "code",
   "execution_count": 119,
   "id": "5903eabc",
   "metadata": {},
   "outputs": [],
   "source": [
    "ad_clf=AdaBoostClassifier()"
   ]
  },
  {
   "cell_type": "code",
   "execution_count": 120,
   "id": "57350436",
   "metadata": {},
   "outputs": [
    {
     "data": {
      "text/html": [
       "<style>#sk-container-id-4 {color: black;background-color: white;}#sk-container-id-4 pre{padding: 0;}#sk-container-id-4 div.sk-toggleable {background-color: white;}#sk-container-id-4 label.sk-toggleable__label {cursor: pointer;display: block;width: 100%;margin-bottom: 0;padding: 0.3em;box-sizing: border-box;text-align: center;}#sk-container-id-4 label.sk-toggleable__label-arrow:before {content: \"▸\";float: left;margin-right: 0.25em;color: #696969;}#sk-container-id-4 label.sk-toggleable__label-arrow:hover:before {color: black;}#sk-container-id-4 div.sk-estimator:hover label.sk-toggleable__label-arrow:before {color: black;}#sk-container-id-4 div.sk-toggleable__content {max-height: 0;max-width: 0;overflow: hidden;text-align: left;background-color: #f0f8ff;}#sk-container-id-4 div.sk-toggleable__content pre {margin: 0.2em;color: black;border-radius: 0.25em;background-color: #f0f8ff;}#sk-container-id-4 input.sk-toggleable__control:checked~div.sk-toggleable__content {max-height: 200px;max-width: 100%;overflow: auto;}#sk-container-id-4 input.sk-toggleable__control:checked~label.sk-toggleable__label-arrow:before {content: \"▾\";}#sk-container-id-4 div.sk-estimator input.sk-toggleable__control:checked~label.sk-toggleable__label {background-color: #d4ebff;}#sk-container-id-4 div.sk-label input.sk-toggleable__control:checked~label.sk-toggleable__label {background-color: #d4ebff;}#sk-container-id-4 input.sk-hidden--visually {border: 0;clip: rect(1px 1px 1px 1px);clip: rect(1px, 1px, 1px, 1px);height: 1px;margin: -1px;overflow: hidden;padding: 0;position: absolute;width: 1px;}#sk-container-id-4 div.sk-estimator {font-family: monospace;background-color: #f0f8ff;border: 1px dotted black;border-radius: 0.25em;box-sizing: border-box;margin-bottom: 0.5em;}#sk-container-id-4 div.sk-estimator:hover {background-color: #d4ebff;}#sk-container-id-4 div.sk-parallel-item::after {content: \"\";width: 100%;border-bottom: 1px solid gray;flex-grow: 1;}#sk-container-id-4 div.sk-label:hover label.sk-toggleable__label {background-color: #d4ebff;}#sk-container-id-4 div.sk-serial::before {content: \"\";position: absolute;border-left: 1px solid gray;box-sizing: border-box;top: 0;bottom: 0;left: 50%;z-index: 0;}#sk-container-id-4 div.sk-serial {display: flex;flex-direction: column;align-items: center;background-color: white;padding-right: 0.2em;padding-left: 0.2em;position: relative;}#sk-container-id-4 div.sk-item {position: relative;z-index: 1;}#sk-container-id-4 div.sk-parallel {display: flex;align-items: stretch;justify-content: center;background-color: white;position: relative;}#sk-container-id-4 div.sk-item::before, #sk-container-id-4 div.sk-parallel-item::before {content: \"\";position: absolute;border-left: 1px solid gray;box-sizing: border-box;top: 0;bottom: 0;left: 50%;z-index: -1;}#sk-container-id-4 div.sk-parallel-item {display: flex;flex-direction: column;z-index: 1;position: relative;background-color: white;}#sk-container-id-4 div.sk-parallel-item:first-child::after {align-self: flex-end;width: 50%;}#sk-container-id-4 div.sk-parallel-item:last-child::after {align-self: flex-start;width: 50%;}#sk-container-id-4 div.sk-parallel-item:only-child::after {width: 0;}#sk-container-id-4 div.sk-dashed-wrapped {border: 1px dashed gray;margin: 0 0.4em 0.5em 0.4em;box-sizing: border-box;padding-bottom: 0.4em;background-color: white;}#sk-container-id-4 div.sk-label label {font-family: monospace;font-weight: bold;display: inline-block;line-height: 1.2em;}#sk-container-id-4 div.sk-label-container {text-align: center;}#sk-container-id-4 div.sk-container {/* jupyter's `normalize.less` sets `[hidden] { display: none; }` but bootstrap.min.css set `[hidden] { display: none !important; }` so we also need the `!important` here to be able to override the default hidden behavior on the sphinx rendered scikit-learn.org. See: https://github.com/scikit-learn/scikit-learn/issues/21755 */display: inline-block !important;position: relative;}#sk-container-id-4 div.sk-text-repr-fallback {display: none;}</style><div id=\"sk-container-id-4\" class=\"sk-top-container\"><div class=\"sk-text-repr-fallback\"><pre>AdaBoostClassifier()</pre><b>In a Jupyter environment, please rerun this cell to show the HTML representation or trust the notebook. <br />On GitHub, the HTML representation is unable to render, please try loading this page with nbviewer.org.</b></div><div class=\"sk-container\" hidden><div class=\"sk-item\"><div class=\"sk-estimator sk-toggleable\"><input class=\"sk-toggleable__control sk-hidden--visually\" id=\"sk-estimator-id-4\" type=\"checkbox\" checked><label for=\"sk-estimator-id-4\" class=\"sk-toggleable__label sk-toggleable__label-arrow\">AdaBoostClassifier</label><div class=\"sk-toggleable__content\"><pre>AdaBoostClassifier()</pre></div></div></div></div></div>"
      ],
      "text/plain": [
       "AdaBoostClassifier()"
      ]
     },
     "execution_count": 120,
     "metadata": {},
     "output_type": "execute_result"
    }
   ],
   "source": [
    "ad_clf.fit(x_train,y_train)"
   ]
  },
  {
   "cell_type": "code",
   "execution_count": 121,
   "id": "d1d7735b",
   "metadata": {},
   "outputs": [],
   "source": [
    "y_pred_train_ad=ad_clf.predict(x_train)"
   ]
  },
  {
   "cell_type": "code",
   "execution_count": 122,
   "id": "0f254aeb",
   "metadata": {},
   "outputs": [],
   "source": [
    "y_pred_test_ad=ad_clf.predict(x_test)"
   ]
  },
  {
   "cell_type": "code",
   "execution_count": 123,
   "id": "058074a4",
   "metadata": {},
   "outputs": [],
   "source": [
    "train_pred_df['Adaboost']=y_pred_train_ad"
   ]
  },
  {
   "cell_type": "code",
   "execution_count": 124,
   "id": "2bdca2fa",
   "metadata": {},
   "outputs": [],
   "source": [
    "test_pred_df['Adaboost']=y_pred_test_ad"
   ]
  },
  {
   "cell_type": "code",
   "execution_count": 125,
   "id": "a23f12f8",
   "metadata": {},
   "outputs": [
    {
     "data": {
      "text/html": [
       "<div>\n",
       "<style scoped>\n",
       "    .dataframe tbody tr th:only-of-type {\n",
       "        vertical-align: middle;\n",
       "    }\n",
       "\n",
       "    .dataframe tbody tr th {\n",
       "        vertical-align: top;\n",
       "    }\n",
       "\n",
       "    .dataframe thead th {\n",
       "        text-align: right;\n",
       "    }\n",
       "</style>\n",
       "<table border=\"1\" class=\"dataframe\">\n",
       "  <thead>\n",
       "    <tr style=\"text-align: right;\">\n",
       "      <th></th>\n",
       "      <th>LogisticRegression</th>\n",
       "      <th>DecisionTreeClassifier</th>\n",
       "      <th>KNeighborsClassifier</th>\n",
       "      <th>GaussianNB</th>\n",
       "      <th>RandomForest</th>\n",
       "      <th>Adaboost</th>\n",
       "    </tr>\n",
       "  </thead>\n",
       "  <tbody>\n",
       "    <tr>\n",
       "      <th>0</th>\n",
       "      <td>0</td>\n",
       "      <td>0</td>\n",
       "      <td>0</td>\n",
       "      <td>1</td>\n",
       "      <td>0</td>\n",
       "      <td>0</td>\n",
       "    </tr>\n",
       "    <tr>\n",
       "      <th>1</th>\n",
       "      <td>0</td>\n",
       "      <td>0</td>\n",
       "      <td>0</td>\n",
       "      <td>1</td>\n",
       "      <td>0</td>\n",
       "      <td>0</td>\n",
       "    </tr>\n",
       "    <tr>\n",
       "      <th>2</th>\n",
       "      <td>0</td>\n",
       "      <td>0</td>\n",
       "      <td>1</td>\n",
       "      <td>1</td>\n",
       "      <td>1</td>\n",
       "      <td>0</td>\n",
       "    </tr>\n",
       "    <tr>\n",
       "      <th>3</th>\n",
       "      <td>0</td>\n",
       "      <td>0</td>\n",
       "      <td>0</td>\n",
       "      <td>1</td>\n",
       "      <td>0</td>\n",
       "      <td>0</td>\n",
       "    </tr>\n",
       "    <tr>\n",
       "      <th>4</th>\n",
       "      <td>0</td>\n",
       "      <td>0</td>\n",
       "      <td>0</td>\n",
       "      <td>1</td>\n",
       "      <td>0</td>\n",
       "      <td>0</td>\n",
       "    </tr>\n",
       "    <tr>\n",
       "      <th>...</th>\n",
       "      <td>...</td>\n",
       "      <td>...</td>\n",
       "      <td>...</td>\n",
       "      <td>...</td>\n",
       "      <td>...</td>\n",
       "      <td>...</td>\n",
       "    </tr>\n",
       "    <tr>\n",
       "      <th>46543</th>\n",
       "      <td>0</td>\n",
       "      <td>0</td>\n",
       "      <td>1</td>\n",
       "      <td>1</td>\n",
       "      <td>1</td>\n",
       "      <td>1</td>\n",
       "    </tr>\n",
       "    <tr>\n",
       "      <th>46544</th>\n",
       "      <td>0</td>\n",
       "      <td>1</td>\n",
       "      <td>1</td>\n",
       "      <td>1</td>\n",
       "      <td>1</td>\n",
       "      <td>1</td>\n",
       "    </tr>\n",
       "    <tr>\n",
       "      <th>46545</th>\n",
       "      <td>0</td>\n",
       "      <td>0</td>\n",
       "      <td>0</td>\n",
       "      <td>1</td>\n",
       "      <td>0</td>\n",
       "      <td>0</td>\n",
       "    </tr>\n",
       "    <tr>\n",
       "      <th>46546</th>\n",
       "      <td>0</td>\n",
       "      <td>0</td>\n",
       "      <td>0</td>\n",
       "      <td>1</td>\n",
       "      <td>0</td>\n",
       "      <td>0</td>\n",
       "    </tr>\n",
       "    <tr>\n",
       "      <th>46547</th>\n",
       "      <td>0</td>\n",
       "      <td>0</td>\n",
       "      <td>1</td>\n",
       "      <td>1</td>\n",
       "      <td>1</td>\n",
       "      <td>0</td>\n",
       "    </tr>\n",
       "  </tbody>\n",
       "</table>\n",
       "<p>46548 rows × 6 columns</p>\n",
       "</div>"
      ],
      "text/plain": [
       "       LogisticRegression  DecisionTreeClassifier  KNeighborsClassifier  \\\n",
       "0                       0                       0                     0   \n",
       "1                       0                       0                     0   \n",
       "2                       0                       0                     1   \n",
       "3                       0                       0                     0   \n",
       "4                       0                       0                     0   \n",
       "...                   ...                     ...                   ...   \n",
       "46543                   0                       0                     1   \n",
       "46544                   0                       1                     1   \n",
       "46545                   0                       0                     0   \n",
       "46546                   0                       0                     0   \n",
       "46547                   0                       0                     1   \n",
       "\n",
       "       GaussianNB  RandomForest  Adaboost  \n",
       "0               1             0         0  \n",
       "1               1             0         0  \n",
       "2               1             1         0  \n",
       "3               1             0         0  \n",
       "4               1             0         0  \n",
       "...           ...           ...       ...  \n",
       "46543           1             1         1  \n",
       "46544           1             1         1  \n",
       "46545           1             0         0  \n",
       "46546           1             0         0  \n",
       "46547           1             1         0  \n",
       "\n",
       "[46548 rows x 6 columns]"
      ]
     },
     "execution_count": 125,
     "metadata": {},
     "output_type": "execute_result"
    }
   ],
   "source": [
    "train_pred_df"
   ]
  },
  {
   "cell_type": "code",
   "execution_count": 126,
   "id": "7dfcb4ff",
   "metadata": {
    "scrolled": true
   },
   "outputs": [
    {
     "data": {
      "text/html": [
       "<div>\n",
       "<style scoped>\n",
       "    .dataframe tbody tr th:only-of-type {\n",
       "        vertical-align: middle;\n",
       "    }\n",
       "\n",
       "    .dataframe tbody tr th {\n",
       "        vertical-align: top;\n",
       "    }\n",
       "\n",
       "    .dataframe thead th {\n",
       "        text-align: right;\n",
       "    }\n",
       "</style>\n",
       "<table border=\"1\" class=\"dataframe\">\n",
       "  <thead>\n",
       "    <tr style=\"text-align: right;\">\n",
       "      <th></th>\n",
       "      <th>LogisticRegression</th>\n",
       "      <th>DecisionTreeClassifier</th>\n",
       "      <th>KNeighborsClassifier</th>\n",
       "      <th>GaussianNB</th>\n",
       "      <th>RandomForest</th>\n",
       "      <th>Adaboost</th>\n",
       "    </tr>\n",
       "  </thead>\n",
       "  <tbody>\n",
       "    <tr>\n",
       "      <th>0</th>\n",
       "      <td>0</td>\n",
       "      <td>0</td>\n",
       "      <td>0</td>\n",
       "      <td>1</td>\n",
       "      <td>0</td>\n",
       "      <td>0</td>\n",
       "    </tr>\n",
       "    <tr>\n",
       "      <th>1</th>\n",
       "      <td>0</td>\n",
       "      <td>0</td>\n",
       "      <td>0</td>\n",
       "      <td>1</td>\n",
       "      <td>0</td>\n",
       "      <td>0</td>\n",
       "    </tr>\n",
       "    <tr>\n",
       "      <th>2</th>\n",
       "      <td>0</td>\n",
       "      <td>0</td>\n",
       "      <td>0</td>\n",
       "      <td>1</td>\n",
       "      <td>0</td>\n",
       "      <td>0</td>\n",
       "    </tr>\n",
       "    <tr>\n",
       "      <th>3</th>\n",
       "      <td>0</td>\n",
       "      <td>0</td>\n",
       "      <td>0</td>\n",
       "      <td>1</td>\n",
       "      <td>0</td>\n",
       "      <td>0</td>\n",
       "    </tr>\n",
       "    <tr>\n",
       "      <th>4</th>\n",
       "      <td>0</td>\n",
       "      <td>0</td>\n",
       "      <td>0</td>\n",
       "      <td>1</td>\n",
       "      <td>0</td>\n",
       "      <td>0</td>\n",
       "    </tr>\n",
       "    <tr>\n",
       "      <th>...</th>\n",
       "      <td>...</td>\n",
       "      <td>...</td>\n",
       "      <td>...</td>\n",
       "      <td>...</td>\n",
       "      <td>...</td>\n",
       "      <td>...</td>\n",
       "    </tr>\n",
       "    <tr>\n",
       "      <th>11633</th>\n",
       "      <td>0</td>\n",
       "      <td>0</td>\n",
       "      <td>0</td>\n",
       "      <td>1</td>\n",
       "      <td>0</td>\n",
       "      <td>0</td>\n",
       "    </tr>\n",
       "    <tr>\n",
       "      <th>11634</th>\n",
       "      <td>0</td>\n",
       "      <td>0</td>\n",
       "      <td>0</td>\n",
       "      <td>1</td>\n",
       "      <td>0</td>\n",
       "      <td>0</td>\n",
       "    </tr>\n",
       "    <tr>\n",
       "      <th>11635</th>\n",
       "      <td>0</td>\n",
       "      <td>1</td>\n",
       "      <td>1</td>\n",
       "      <td>1</td>\n",
       "      <td>1</td>\n",
       "      <td>1</td>\n",
       "    </tr>\n",
       "    <tr>\n",
       "      <th>11636</th>\n",
       "      <td>0</td>\n",
       "      <td>1</td>\n",
       "      <td>1</td>\n",
       "      <td>1</td>\n",
       "      <td>1</td>\n",
       "      <td>1</td>\n",
       "    </tr>\n",
       "    <tr>\n",
       "      <th>11637</th>\n",
       "      <td>0</td>\n",
       "      <td>0</td>\n",
       "      <td>0</td>\n",
       "      <td>1</td>\n",
       "      <td>0</td>\n",
       "      <td>0</td>\n",
       "    </tr>\n",
       "  </tbody>\n",
       "</table>\n",
       "<p>11638 rows × 6 columns</p>\n",
       "</div>"
      ],
      "text/plain": [
       "       LogisticRegression  DecisionTreeClassifier  KNeighborsClassifier  \\\n",
       "0                       0                       0                     0   \n",
       "1                       0                       0                     0   \n",
       "2                       0                       0                     0   \n",
       "3                       0                       0                     0   \n",
       "4                       0                       0                     0   \n",
       "...                   ...                     ...                   ...   \n",
       "11633                   0                       0                     0   \n",
       "11634                   0                       0                     0   \n",
       "11635                   0                       1                     1   \n",
       "11636                   0                       1                     1   \n",
       "11637                   0                       0                     0   \n",
       "\n",
       "       GaussianNB  RandomForest  Adaboost  \n",
       "0               1             0         0  \n",
       "1               1             0         0  \n",
       "2               1             0         0  \n",
       "3               1             0         0  \n",
       "4               1             0         0  \n",
       "...           ...           ...       ...  \n",
       "11633           1             0         0  \n",
       "11634           1             0         0  \n",
       "11635           1             1         1  \n",
       "11636           1             1         1  \n",
       "11637           1             0         0  \n",
       "\n",
       "[11638 rows x 6 columns]"
      ]
     },
     "execution_count": 126,
     "metadata": {},
     "output_type": "execute_result"
    }
   ],
   "source": [
    "test_pred_df"
   ]
  },
  {
   "cell_type": "code",
   "execution_count": 128,
   "id": "4527da7e",
   "metadata": {},
   "outputs": [
    {
     "name": "stdout",
     "output_type": "stream",
     "text": [
      "Accuracy score:\n",
      " 0.8965583913379737\n",
      "Recall score:\n",
      " 0.6461538461538462\n",
      "Precision score:\n",
      " 0.7682926829268293\n",
      "F1 Score:\n",
      " 0.7019498607242339\n",
      "[0.8965583913379737, 0.6461538461538462, 0.7682926829268293, 0.7019498607242339]\n"
     ]
    }
   ],
   "source": [
    "AD_error_metrics_TRAIN=error_metrics(y_train,y_pred_train_ad)"
   ]
  },
  {
   "cell_type": "code",
   "execution_count": 129,
   "id": "804feda2",
   "metadata": {},
   "outputs": [],
   "source": [
    "ad_train=[0.8965583913379737, 0.6461538461538462, 0.7682926829268293, 0.7019498607242339]"
   ]
  },
  {
   "cell_type": "code",
   "execution_count": 131,
   "id": "9d83168a",
   "metadata": {},
   "outputs": [
    {
     "name": "stdout",
     "output_type": "stream",
     "text": [
      "Accuracy score:\n",
      " 0.8922495274102079\n",
      "Recall score:\n",
      " 0.6294439380127621\n",
      "Precision score:\n",
      " 0.7579582875960483\n",
      "F1 Score:\n",
      " 0.6877490039840637\n",
      "[0.8922495274102079, 0.6294439380127621, 0.7579582875960483, 0.6877490039840637]\n"
     ]
    }
   ],
   "source": [
    "AD_error_metrics_TEST=error_metrics(y_test,y_pred_test_ad)"
   ]
  },
  {
   "cell_type": "code",
   "execution_count": 132,
   "id": "8a8ffb23",
   "metadata": {},
   "outputs": [],
   "source": [
    "ad_test=[0.8922495274102079, 0.6294439380127621, 0.7579582875960483, 0.6877490039840637]"
   ]
  },
  {
   "cell_type": "code",
   "execution_count": 133,
   "id": "01bfe932",
   "metadata": {},
   "outputs": [],
   "source": [
    "error_df['Adaboost_Train']=ad_train"
   ]
  },
  {
   "cell_type": "code",
   "execution_count": 134,
   "id": "5a870954",
   "metadata": {},
   "outputs": [],
   "source": [
    "error_df['Adaboost_Test']=ad_test"
   ]
  },
  {
   "cell_type": "code",
   "execution_count": 135,
   "id": "3230ee79",
   "metadata": {},
   "outputs": [
    {
     "data": {
      "text/html": [
       "<div>\n",
       "<style scoped>\n",
       "    .dataframe tbody tr th:only-of-type {\n",
       "        vertical-align: middle;\n",
       "    }\n",
       "\n",
       "    .dataframe tbody tr th {\n",
       "        vertical-align: top;\n",
       "    }\n",
       "\n",
       "    .dataframe thead th {\n",
       "        text-align: right;\n",
       "    }\n",
       "</style>\n",
       "<table border=\"1\" class=\"dataframe\">\n",
       "  <thead>\n",
       "    <tr style=\"text-align: right;\">\n",
       "      <th></th>\n",
       "      <th>KNN_Train</th>\n",
       "      <th>kNN_Test</th>\n",
       "      <th>DT_Train</th>\n",
       "      <th>DT_Test</th>\n",
       "      <th>Logr_Train</th>\n",
       "      <th>Logr_Test</th>\n",
       "      <th>NB_Train</th>\n",
       "      <th>NB_Test</th>\n",
       "      <th>RF_Train</th>\n",
       "      <th>RF_Test</th>\n",
       "      <th>Adaboost_Train</th>\n",
       "      <th>Adaboost_Test</th>\n",
       "    </tr>\n",
       "  </thead>\n",
       "  <tbody>\n",
       "    <tr>\n",
       "      <th>Accuracy_Score</th>\n",
       "      <td>0.814299</td>\n",
       "      <td>0.814917</td>\n",
       "      <td>0.864871</td>\n",
       "      <td>0.865183</td>\n",
       "      <td>0.814299</td>\n",
       "      <td>0.814917</td>\n",
       "      <td>0.238549</td>\n",
       "      <td>0.238185</td>\n",
       "      <td>0.997680</td>\n",
       "      <td>0.933322</td>\n",
       "      <td>0.896558</td>\n",
       "      <td>0.892250</td>\n",
       "    </tr>\n",
       "    <tr>\n",
       "      <th>Recall_Score</th>\n",
       "      <td>0.025641</td>\n",
       "      <td>0.028715</td>\n",
       "      <td>0.498006</td>\n",
       "      <td>0.501823</td>\n",
       "      <td>0.025641</td>\n",
       "      <td>0.028715</td>\n",
       "      <td>0.980627</td>\n",
       "      <td>0.971741</td>\n",
       "      <td>0.992934</td>\n",
       "      <td>0.814494</td>\n",
       "      <td>0.646154</td>\n",
       "      <td>0.629444</td>\n",
       "    </tr>\n",
       "    <tr>\n",
       "      <th>Precision_Score</th>\n",
       "      <td>0.705329</td>\n",
       "      <td>0.732558</td>\n",
       "      <td>0.698641</td>\n",
       "      <td>0.698161</td>\n",
       "      <td>0.705329</td>\n",
       "      <td>0.732558</td>\n",
       "      <td>0.196107</td>\n",
       "      <td>0.194952</td>\n",
       "      <td>0.994748</td>\n",
       "      <td>0.828850</td>\n",
       "      <td>0.768293</td>\n",
       "      <td>0.757958</td>\n",
       "    </tr>\n",
       "    <tr>\n",
       "      <th>F1_Score</th>\n",
       "      <td>0.049483</td>\n",
       "      <td>0.055263</td>\n",
       "      <td>0.581504</td>\n",
       "      <td>0.583930</td>\n",
       "      <td>0.049483</td>\n",
       "      <td>0.055263</td>\n",
       "      <td>0.326851</td>\n",
       "      <td>0.324752</td>\n",
       "      <td>0.993841</td>\n",
       "      <td>0.821609</td>\n",
       "      <td>0.701950</td>\n",
       "      <td>0.687749</td>\n",
       "    </tr>\n",
       "  </tbody>\n",
       "</table>\n",
       "</div>"
      ],
      "text/plain": [
       "                 KNN_Train  kNN_Test  DT_Train   DT_Test  Logr_Train  \\\n",
       "Accuracy_Score    0.814299  0.814917  0.864871  0.865183    0.814299   \n",
       "Recall_Score      0.025641  0.028715  0.498006  0.501823    0.025641   \n",
       "Precision_Score   0.705329  0.732558  0.698641  0.698161    0.705329   \n",
       "F1_Score          0.049483  0.055263  0.581504  0.583930    0.049483   \n",
       "\n",
       "                 Logr_Test  NB_Train   NB_Test  RF_Train   RF_Test  \\\n",
       "Accuracy_Score    0.814917  0.238549  0.238185  0.997680  0.933322   \n",
       "Recall_Score      0.028715  0.980627  0.971741  0.992934  0.814494   \n",
       "Precision_Score   0.732558  0.196107  0.194952  0.994748  0.828850   \n",
       "F1_Score          0.055263  0.326851  0.324752  0.993841  0.821609   \n",
       "\n",
       "                 Adaboost_Train  Adaboost_Test  \n",
       "Accuracy_Score         0.896558       0.892250  \n",
       "Recall_Score           0.646154       0.629444  \n",
       "Precision_Score        0.768293       0.757958  \n",
       "F1_Score               0.701950       0.687749  "
      ]
     },
     "execution_count": 135,
     "metadata": {},
     "output_type": "execute_result"
    }
   ],
   "source": [
    "error_df"
   ]
  },
  {
   "cell_type": "markdown",
   "id": "c1a1e7b5",
   "metadata": {},
   "source": [
    "### Gradient Decent"
   ]
  },
  {
   "cell_type": "code",
   "execution_count": 140,
   "id": "ed95ca3a",
   "metadata": {},
   "outputs": [],
   "source": [
    "from sklearn.ensemble import GradientBoostingClassifier"
   ]
  },
  {
   "cell_type": "code",
   "execution_count": 141,
   "id": "d2c87f70",
   "metadata": {},
   "outputs": [],
   "source": [
    "gd_clf=GradientBoostingClassifier()"
   ]
  },
  {
   "cell_type": "code",
   "execution_count": 142,
   "id": "7d07c2b5",
   "metadata": {},
   "outputs": [
    {
     "data": {
      "text/html": [
       "<style>#sk-container-id-6 {color: black;background-color: white;}#sk-container-id-6 pre{padding: 0;}#sk-container-id-6 div.sk-toggleable {background-color: white;}#sk-container-id-6 label.sk-toggleable__label {cursor: pointer;display: block;width: 100%;margin-bottom: 0;padding: 0.3em;box-sizing: border-box;text-align: center;}#sk-container-id-6 label.sk-toggleable__label-arrow:before {content: \"▸\";float: left;margin-right: 0.25em;color: #696969;}#sk-container-id-6 label.sk-toggleable__label-arrow:hover:before {color: black;}#sk-container-id-6 div.sk-estimator:hover label.sk-toggleable__label-arrow:before {color: black;}#sk-container-id-6 div.sk-toggleable__content {max-height: 0;max-width: 0;overflow: hidden;text-align: left;background-color: #f0f8ff;}#sk-container-id-6 div.sk-toggleable__content pre {margin: 0.2em;color: black;border-radius: 0.25em;background-color: #f0f8ff;}#sk-container-id-6 input.sk-toggleable__control:checked~div.sk-toggleable__content {max-height: 200px;max-width: 100%;overflow: auto;}#sk-container-id-6 input.sk-toggleable__control:checked~label.sk-toggleable__label-arrow:before {content: \"▾\";}#sk-container-id-6 div.sk-estimator input.sk-toggleable__control:checked~label.sk-toggleable__label {background-color: #d4ebff;}#sk-container-id-6 div.sk-label input.sk-toggleable__control:checked~label.sk-toggleable__label {background-color: #d4ebff;}#sk-container-id-6 input.sk-hidden--visually {border: 0;clip: rect(1px 1px 1px 1px);clip: rect(1px, 1px, 1px, 1px);height: 1px;margin: -1px;overflow: hidden;padding: 0;position: absolute;width: 1px;}#sk-container-id-6 div.sk-estimator {font-family: monospace;background-color: #f0f8ff;border: 1px dotted black;border-radius: 0.25em;box-sizing: border-box;margin-bottom: 0.5em;}#sk-container-id-6 div.sk-estimator:hover {background-color: #d4ebff;}#sk-container-id-6 div.sk-parallel-item::after {content: \"\";width: 100%;border-bottom: 1px solid gray;flex-grow: 1;}#sk-container-id-6 div.sk-label:hover label.sk-toggleable__label {background-color: #d4ebff;}#sk-container-id-6 div.sk-serial::before {content: \"\";position: absolute;border-left: 1px solid gray;box-sizing: border-box;top: 0;bottom: 0;left: 50%;z-index: 0;}#sk-container-id-6 div.sk-serial {display: flex;flex-direction: column;align-items: center;background-color: white;padding-right: 0.2em;padding-left: 0.2em;position: relative;}#sk-container-id-6 div.sk-item {position: relative;z-index: 1;}#sk-container-id-6 div.sk-parallel {display: flex;align-items: stretch;justify-content: center;background-color: white;position: relative;}#sk-container-id-6 div.sk-item::before, #sk-container-id-6 div.sk-parallel-item::before {content: \"\";position: absolute;border-left: 1px solid gray;box-sizing: border-box;top: 0;bottom: 0;left: 50%;z-index: -1;}#sk-container-id-6 div.sk-parallel-item {display: flex;flex-direction: column;z-index: 1;position: relative;background-color: white;}#sk-container-id-6 div.sk-parallel-item:first-child::after {align-self: flex-end;width: 50%;}#sk-container-id-6 div.sk-parallel-item:last-child::after {align-self: flex-start;width: 50%;}#sk-container-id-6 div.sk-parallel-item:only-child::after {width: 0;}#sk-container-id-6 div.sk-dashed-wrapped {border: 1px dashed gray;margin: 0 0.4em 0.5em 0.4em;box-sizing: border-box;padding-bottom: 0.4em;background-color: white;}#sk-container-id-6 div.sk-label label {font-family: monospace;font-weight: bold;display: inline-block;line-height: 1.2em;}#sk-container-id-6 div.sk-label-container {text-align: center;}#sk-container-id-6 div.sk-container {/* jupyter's `normalize.less` sets `[hidden] { display: none; }` but bootstrap.min.css set `[hidden] { display: none !important; }` so we also need the `!important` here to be able to override the default hidden behavior on the sphinx rendered scikit-learn.org. See: https://github.com/scikit-learn/scikit-learn/issues/21755 */display: inline-block !important;position: relative;}#sk-container-id-6 div.sk-text-repr-fallback {display: none;}</style><div id=\"sk-container-id-6\" class=\"sk-top-container\"><div class=\"sk-text-repr-fallback\"><pre>GradientBoostingClassifier()</pre><b>In a Jupyter environment, please rerun this cell to show the HTML representation or trust the notebook. <br />On GitHub, the HTML representation is unable to render, please try loading this page with nbviewer.org.</b></div><div class=\"sk-container\" hidden><div class=\"sk-item\"><div class=\"sk-estimator sk-toggleable\"><input class=\"sk-toggleable__control sk-hidden--visually\" id=\"sk-estimator-id-6\" type=\"checkbox\" checked><label for=\"sk-estimator-id-6\" class=\"sk-toggleable__label sk-toggleable__label-arrow\">GradientBoostingClassifier</label><div class=\"sk-toggleable__content\"><pre>GradientBoostingClassifier()</pre></div></div></div></div></div>"
      ],
      "text/plain": [
       "GradientBoostingClassifier()"
      ]
     },
     "execution_count": 142,
     "metadata": {},
     "output_type": "execute_result"
    }
   ],
   "source": [
    "gd_clf.fit(x_train,y_train)"
   ]
  },
  {
   "cell_type": "code",
   "execution_count": 143,
   "id": "67983755",
   "metadata": {},
   "outputs": [],
   "source": [
    "y_pred_train_gd=gd_clf.predict(x_train)"
   ]
  },
  {
   "cell_type": "code",
   "execution_count": 145,
   "id": "77a5d991",
   "metadata": {},
   "outputs": [],
   "source": [
    "y_pred_test_gd=gd_clf.predict(x_test)"
   ]
  },
  {
   "cell_type": "code",
   "execution_count": 146,
   "id": "8c198897",
   "metadata": {},
   "outputs": [],
   "source": [
    "train_pred_df['GradientBoosting']=y_pred_train_gd"
   ]
  },
  {
   "cell_type": "code",
   "execution_count": 147,
   "id": "67a2fcbd",
   "metadata": {},
   "outputs": [],
   "source": [
    "test_pred_df['GradientBoosting']=y_pred_test_gd"
   ]
  },
  {
   "cell_type": "code",
   "execution_count": 149,
   "id": "84c2325b",
   "metadata": {},
   "outputs": [
    {
     "data": {
      "text/html": [
       "<div>\n",
       "<style scoped>\n",
       "    .dataframe tbody tr th:only-of-type {\n",
       "        vertical-align: middle;\n",
       "    }\n",
       "\n",
       "    .dataframe tbody tr th {\n",
       "        vertical-align: top;\n",
       "    }\n",
       "\n",
       "    .dataframe thead th {\n",
       "        text-align: right;\n",
       "    }\n",
       "</style>\n",
       "<table border=\"1\" class=\"dataframe\">\n",
       "  <thead>\n",
       "    <tr style=\"text-align: right;\">\n",
       "      <th></th>\n",
       "      <th>LogisticRegression</th>\n",
       "      <th>DecisionTreeClassifier</th>\n",
       "      <th>KNeighborsClassifier</th>\n",
       "      <th>GaussianNB</th>\n",
       "      <th>RandomForest</th>\n",
       "      <th>Adaboost</th>\n",
       "      <th>GradientBoosting</th>\n",
       "    </tr>\n",
       "  </thead>\n",
       "  <tbody>\n",
       "    <tr>\n",
       "      <th>0</th>\n",
       "      <td>0</td>\n",
       "      <td>0</td>\n",
       "      <td>0</td>\n",
       "      <td>1</td>\n",
       "      <td>0</td>\n",
       "      <td>0</td>\n",
       "      <td>0</td>\n",
       "    </tr>\n",
       "    <tr>\n",
       "      <th>1</th>\n",
       "      <td>0</td>\n",
       "      <td>0</td>\n",
       "      <td>0</td>\n",
       "      <td>1</td>\n",
       "      <td>0</td>\n",
       "      <td>0</td>\n",
       "      <td>0</td>\n",
       "    </tr>\n",
       "    <tr>\n",
       "      <th>2</th>\n",
       "      <td>0</td>\n",
       "      <td>0</td>\n",
       "      <td>1</td>\n",
       "      <td>1</td>\n",
       "      <td>1</td>\n",
       "      <td>0</td>\n",
       "      <td>0</td>\n",
       "    </tr>\n",
       "    <tr>\n",
       "      <th>3</th>\n",
       "      <td>0</td>\n",
       "      <td>0</td>\n",
       "      <td>0</td>\n",
       "      <td>1</td>\n",
       "      <td>0</td>\n",
       "      <td>0</td>\n",
       "      <td>0</td>\n",
       "    </tr>\n",
       "    <tr>\n",
       "      <th>4</th>\n",
       "      <td>0</td>\n",
       "      <td>0</td>\n",
       "      <td>0</td>\n",
       "      <td>1</td>\n",
       "      <td>0</td>\n",
       "      <td>0</td>\n",
       "      <td>0</td>\n",
       "    </tr>\n",
       "  </tbody>\n",
       "</table>\n",
       "</div>"
      ],
      "text/plain": [
       "   LogisticRegression  DecisionTreeClassifier  KNeighborsClassifier  \\\n",
       "0                   0                       0                     0   \n",
       "1                   0                       0                     0   \n",
       "2                   0                       0                     1   \n",
       "3                   0                       0                     0   \n",
       "4                   0                       0                     0   \n",
       "\n",
       "   GaussianNB  RandomForest  Adaboost  GradientBoosting  \n",
       "0           1             0         0                 0  \n",
       "1           1             0         0                 0  \n",
       "2           1             1         0                 0  \n",
       "3           1             0         0                 0  \n",
       "4           1             0         0                 0  "
      ]
     },
     "execution_count": 149,
     "metadata": {},
     "output_type": "execute_result"
    }
   ],
   "source": [
    "train_pred_df.head()"
   ]
  },
  {
   "cell_type": "code",
   "execution_count": 150,
   "id": "720bf6ce",
   "metadata": {},
   "outputs": [
    {
     "data": {
      "text/html": [
       "<div>\n",
       "<style scoped>\n",
       "    .dataframe tbody tr th:only-of-type {\n",
       "        vertical-align: middle;\n",
       "    }\n",
       "\n",
       "    .dataframe tbody tr th {\n",
       "        vertical-align: top;\n",
       "    }\n",
       "\n",
       "    .dataframe thead th {\n",
       "        text-align: right;\n",
       "    }\n",
       "</style>\n",
       "<table border=\"1\" class=\"dataframe\">\n",
       "  <thead>\n",
       "    <tr style=\"text-align: right;\">\n",
       "      <th></th>\n",
       "      <th>LogisticRegression</th>\n",
       "      <th>DecisionTreeClassifier</th>\n",
       "      <th>KNeighborsClassifier</th>\n",
       "      <th>GaussianNB</th>\n",
       "      <th>RandomForest</th>\n",
       "      <th>Adaboost</th>\n",
       "      <th>GradientBoosting</th>\n",
       "    </tr>\n",
       "  </thead>\n",
       "  <tbody>\n",
       "    <tr>\n",
       "      <th>0</th>\n",
       "      <td>0</td>\n",
       "      <td>0</td>\n",
       "      <td>0</td>\n",
       "      <td>1</td>\n",
       "      <td>0</td>\n",
       "      <td>0</td>\n",
       "      <td>0</td>\n",
       "    </tr>\n",
       "    <tr>\n",
       "      <th>1</th>\n",
       "      <td>0</td>\n",
       "      <td>0</td>\n",
       "      <td>0</td>\n",
       "      <td>1</td>\n",
       "      <td>0</td>\n",
       "      <td>0</td>\n",
       "      <td>0</td>\n",
       "    </tr>\n",
       "    <tr>\n",
       "      <th>2</th>\n",
       "      <td>0</td>\n",
       "      <td>0</td>\n",
       "      <td>0</td>\n",
       "      <td>1</td>\n",
       "      <td>0</td>\n",
       "      <td>0</td>\n",
       "      <td>0</td>\n",
       "    </tr>\n",
       "    <tr>\n",
       "      <th>3</th>\n",
       "      <td>0</td>\n",
       "      <td>0</td>\n",
       "      <td>0</td>\n",
       "      <td>1</td>\n",
       "      <td>0</td>\n",
       "      <td>0</td>\n",
       "      <td>0</td>\n",
       "    </tr>\n",
       "    <tr>\n",
       "      <th>4</th>\n",
       "      <td>0</td>\n",
       "      <td>0</td>\n",
       "      <td>0</td>\n",
       "      <td>1</td>\n",
       "      <td>0</td>\n",
       "      <td>0</td>\n",
       "      <td>0</td>\n",
       "    </tr>\n",
       "  </tbody>\n",
       "</table>\n",
       "</div>"
      ],
      "text/plain": [
       "   LogisticRegression  DecisionTreeClassifier  KNeighborsClassifier  \\\n",
       "0                   0                       0                     0   \n",
       "1                   0                       0                     0   \n",
       "2                   0                       0                     0   \n",
       "3                   0                       0                     0   \n",
       "4                   0                       0                     0   \n",
       "\n",
       "   GaussianNB  RandomForest  Adaboost  GradientBoosting  \n",
       "0           1             0         0                 0  \n",
       "1           1             0         0                 0  \n",
       "2           1             0         0                 0  \n",
       "3           1             0         0                 0  \n",
       "4           1             0         0                 0  "
      ]
     },
     "execution_count": 150,
     "metadata": {},
     "output_type": "execute_result"
    }
   ],
   "source": [
    "test_pred_df.head()"
   ]
  },
  {
   "cell_type": "code",
   "execution_count": 153,
   "id": "ee0dfc09",
   "metadata": {},
   "outputs": [
    {
     "name": "stdout",
     "output_type": "stream",
     "text": [
      "Accuracy score:\n",
      " 0.9054820415879017\n",
      "Recall score:\n",
      " 0.6850501367365542\n",
      "Precision score:\n",
      " 0.7860878661087866\n",
      "F1 Score:\n",
      " 0.7320993667803215\n",
      "[0.9054820415879017, 0.6850501367365542, 0.7860878661087866, 0.7320993667803215]\n"
     ]
    }
   ],
   "source": [
    "GD_error_metrics_TEST=error_metrics(y_test,y_pred_test_gd)"
   ]
  },
  {
   "cell_type": "code",
   "execution_count": 154,
   "id": "4bef1be8",
   "metadata": {},
   "outputs": [],
   "source": [
    "gd_test=[0.9054820415879017, 0.6850501367365542, 0.7860878661087866, 0.7320993667803215]"
   ]
  },
  {
   "cell_type": "code",
   "execution_count": 155,
   "id": "18e8b2e5",
   "metadata": {},
   "outputs": [
    {
     "name": "stdout",
     "output_type": "stream",
     "text": [
      "Accuracy score:\n",
      " 0.9081808026123571\n",
      "Recall score:\n",
      " 0.6974358974358974\n",
      "Precision score:\n",
      " 0.7907998449412069\n",
      "F1 Score:\n",
      " 0.741189293932421\n",
      "[0.9081808026123571, 0.6974358974358974, 0.7907998449412069, 0.741189293932421]\n"
     ]
    }
   ],
   "source": [
    "GD_error_metrics_TRAIN=error_metrics(y_train,y_pred_train_gd)"
   ]
  },
  {
   "cell_type": "code",
   "execution_count": 156,
   "id": "19225aa2",
   "metadata": {},
   "outputs": [],
   "source": [
    "gd_train=[0.9081808026123571, 0.6974358974358974, 0.7907998449412069, 0.741189293932421]"
   ]
  },
  {
   "cell_type": "code",
   "execution_count": 157,
   "id": "9d8d7389",
   "metadata": {},
   "outputs": [],
   "source": [
    "error_df['GradientBoost_Train']=gd_train"
   ]
  },
  {
   "cell_type": "code",
   "execution_count": 158,
   "id": "9f8e3089",
   "metadata": {},
   "outputs": [],
   "source": [
    "error_df['GradientBoost_Test']=gd_test"
   ]
  },
  {
   "cell_type": "code",
   "execution_count": 159,
   "id": "aa9322d0",
   "metadata": {},
   "outputs": [
    {
     "data": {
      "text/html": [
       "<div>\n",
       "<style scoped>\n",
       "    .dataframe tbody tr th:only-of-type {\n",
       "        vertical-align: middle;\n",
       "    }\n",
       "\n",
       "    .dataframe tbody tr th {\n",
       "        vertical-align: top;\n",
       "    }\n",
       "\n",
       "    .dataframe thead th {\n",
       "        text-align: right;\n",
       "    }\n",
       "</style>\n",
       "<table border=\"1\" class=\"dataframe\">\n",
       "  <thead>\n",
       "    <tr style=\"text-align: right;\">\n",
       "      <th></th>\n",
       "      <th>KNN_Train</th>\n",
       "      <th>kNN_Test</th>\n",
       "      <th>DT_Train</th>\n",
       "      <th>DT_Test</th>\n",
       "      <th>Logr_Train</th>\n",
       "      <th>Logr_Test</th>\n",
       "      <th>NB_Train</th>\n",
       "      <th>NB_Test</th>\n",
       "      <th>RF_Train</th>\n",
       "      <th>RF_Test</th>\n",
       "      <th>Adaboost_Train</th>\n",
       "      <th>Adaboost_Test</th>\n",
       "      <th>GradientBoost_Train</th>\n",
       "      <th>GradientBoost_Test</th>\n",
       "    </tr>\n",
       "  </thead>\n",
       "  <tbody>\n",
       "    <tr>\n",
       "      <th>Accuracy_Score</th>\n",
       "      <td>0.814299</td>\n",
       "      <td>0.814917</td>\n",
       "      <td>0.864871</td>\n",
       "      <td>0.865183</td>\n",
       "      <td>0.814299</td>\n",
       "      <td>0.814917</td>\n",
       "      <td>0.238549</td>\n",
       "      <td>0.238185</td>\n",
       "      <td>0.997680</td>\n",
       "      <td>0.933322</td>\n",
       "      <td>0.896558</td>\n",
       "      <td>0.892250</td>\n",
       "      <td>0.908181</td>\n",
       "      <td>0.905482</td>\n",
       "    </tr>\n",
       "    <tr>\n",
       "      <th>Recall_Score</th>\n",
       "      <td>0.025641</td>\n",
       "      <td>0.028715</td>\n",
       "      <td>0.498006</td>\n",
       "      <td>0.501823</td>\n",
       "      <td>0.025641</td>\n",
       "      <td>0.028715</td>\n",
       "      <td>0.980627</td>\n",
       "      <td>0.971741</td>\n",
       "      <td>0.992934</td>\n",
       "      <td>0.814494</td>\n",
       "      <td>0.646154</td>\n",
       "      <td>0.629444</td>\n",
       "      <td>0.697436</td>\n",
       "      <td>0.685050</td>\n",
       "    </tr>\n",
       "    <tr>\n",
       "      <th>Precision_Score</th>\n",
       "      <td>0.705329</td>\n",
       "      <td>0.732558</td>\n",
       "      <td>0.698641</td>\n",
       "      <td>0.698161</td>\n",
       "      <td>0.705329</td>\n",
       "      <td>0.732558</td>\n",
       "      <td>0.196107</td>\n",
       "      <td>0.194952</td>\n",
       "      <td>0.994748</td>\n",
       "      <td>0.828850</td>\n",
       "      <td>0.768293</td>\n",
       "      <td>0.757958</td>\n",
       "      <td>0.790800</td>\n",
       "      <td>0.786088</td>\n",
       "    </tr>\n",
       "    <tr>\n",
       "      <th>F1_Score</th>\n",
       "      <td>0.049483</td>\n",
       "      <td>0.055263</td>\n",
       "      <td>0.581504</td>\n",
       "      <td>0.583930</td>\n",
       "      <td>0.049483</td>\n",
       "      <td>0.055263</td>\n",
       "      <td>0.326851</td>\n",
       "      <td>0.324752</td>\n",
       "      <td>0.993841</td>\n",
       "      <td>0.821609</td>\n",
       "      <td>0.701950</td>\n",
       "      <td>0.687749</td>\n",
       "      <td>0.741189</td>\n",
       "      <td>0.732099</td>\n",
       "    </tr>\n",
       "  </tbody>\n",
       "</table>\n",
       "</div>"
      ],
      "text/plain": [
       "                 KNN_Train  kNN_Test  DT_Train   DT_Test  Logr_Train  \\\n",
       "Accuracy_Score    0.814299  0.814917  0.864871  0.865183    0.814299   \n",
       "Recall_Score      0.025641  0.028715  0.498006  0.501823    0.025641   \n",
       "Precision_Score   0.705329  0.732558  0.698641  0.698161    0.705329   \n",
       "F1_Score          0.049483  0.055263  0.581504  0.583930    0.049483   \n",
       "\n",
       "                 Logr_Test  NB_Train   NB_Test  RF_Train   RF_Test  \\\n",
       "Accuracy_Score    0.814917  0.238549  0.238185  0.997680  0.933322   \n",
       "Recall_Score      0.028715  0.980627  0.971741  0.992934  0.814494   \n",
       "Precision_Score   0.732558  0.196107  0.194952  0.994748  0.828850   \n",
       "F1_Score          0.055263  0.326851  0.324752  0.993841  0.821609   \n",
       "\n",
       "                 Adaboost_Train  Adaboost_Test  GradientBoost_Train  \\\n",
       "Accuracy_Score         0.896558       0.892250             0.908181   \n",
       "Recall_Score           0.646154       0.629444             0.697436   \n",
       "Precision_Score        0.768293       0.757958             0.790800   \n",
       "F1_Score               0.701950       0.687749             0.741189   \n",
       "\n",
       "                 GradientBoost_Test  \n",
       "Accuracy_Score             0.905482  \n",
       "Recall_Score               0.685050  \n",
       "Precision_Score            0.786088  \n",
       "F1_Score                   0.732099  "
      ]
     },
     "execution_count": 159,
     "metadata": {},
     "output_type": "execute_result"
    }
   ],
   "source": [
    "error_df"
   ]
  },
  {
   "cell_type": "code",
   "execution_count": 165,
   "id": "98f20c05",
   "metadata": {
    "scrolled": true
   },
   "outputs": [
    {
     "name": "stdout",
     "output_type": "stream",
     "text": [
      "Collecting xgboost\n",
      "  Downloading xgboost-1.6.1-py3-none-win_amd64.whl (125.4 MB)\n",
      "Requirement already satisfied: numpy in c:\\users\\patel\\anaconda3\\lib\\site-packages (from xgboost) (1.21.5)\n",
      "Requirement already satisfied: scipy in c:\\users\\patel\\anaconda3\\lib\\site-packages (from xgboost) (1.7.3)\n",
      "Installing collected packages: xgboost\n",
      "Successfully installed xgboost-1.6.1\n"
     ]
    }
   ],
   "source": [
    "!pip install xgboost"
   ]
  },
  {
   "cell_type": "code",
   "execution_count": 171,
   "id": "193b8420",
   "metadata": {},
   "outputs": [],
   "source": [
    "from xgboost import XGBClassifier"
   ]
  },
  {
   "cell_type": "code",
   "execution_count": 172,
   "id": "1b6ccdc6",
   "metadata": {},
   "outputs": [],
   "source": [
    "xgb=XGBClassifier()"
   ]
  },
  {
   "cell_type": "code",
   "execution_count": 173,
   "id": "7ccf481f",
   "metadata": {},
   "outputs": [
    {
     "data": {
      "text/html": [
       "<style>#sk-container-id-7 {color: black;background-color: white;}#sk-container-id-7 pre{padding: 0;}#sk-container-id-7 div.sk-toggleable {background-color: white;}#sk-container-id-7 label.sk-toggleable__label {cursor: pointer;display: block;width: 100%;margin-bottom: 0;padding: 0.3em;box-sizing: border-box;text-align: center;}#sk-container-id-7 label.sk-toggleable__label-arrow:before {content: \"▸\";float: left;margin-right: 0.25em;color: #696969;}#sk-container-id-7 label.sk-toggleable__label-arrow:hover:before {color: black;}#sk-container-id-7 div.sk-estimator:hover label.sk-toggleable__label-arrow:before {color: black;}#sk-container-id-7 div.sk-toggleable__content {max-height: 0;max-width: 0;overflow: hidden;text-align: left;background-color: #f0f8ff;}#sk-container-id-7 div.sk-toggleable__content pre {margin: 0.2em;color: black;border-radius: 0.25em;background-color: #f0f8ff;}#sk-container-id-7 input.sk-toggleable__control:checked~div.sk-toggleable__content {max-height: 200px;max-width: 100%;overflow: auto;}#sk-container-id-7 input.sk-toggleable__control:checked~label.sk-toggleable__label-arrow:before {content: \"▾\";}#sk-container-id-7 div.sk-estimator input.sk-toggleable__control:checked~label.sk-toggleable__label {background-color: #d4ebff;}#sk-container-id-7 div.sk-label input.sk-toggleable__control:checked~label.sk-toggleable__label {background-color: #d4ebff;}#sk-container-id-7 input.sk-hidden--visually {border: 0;clip: rect(1px 1px 1px 1px);clip: rect(1px, 1px, 1px, 1px);height: 1px;margin: -1px;overflow: hidden;padding: 0;position: absolute;width: 1px;}#sk-container-id-7 div.sk-estimator {font-family: monospace;background-color: #f0f8ff;border: 1px dotted black;border-radius: 0.25em;box-sizing: border-box;margin-bottom: 0.5em;}#sk-container-id-7 div.sk-estimator:hover {background-color: #d4ebff;}#sk-container-id-7 div.sk-parallel-item::after {content: \"\";width: 100%;border-bottom: 1px solid gray;flex-grow: 1;}#sk-container-id-7 div.sk-label:hover label.sk-toggleable__label {background-color: #d4ebff;}#sk-container-id-7 div.sk-serial::before {content: \"\";position: absolute;border-left: 1px solid gray;box-sizing: border-box;top: 0;bottom: 0;left: 50%;z-index: 0;}#sk-container-id-7 div.sk-serial {display: flex;flex-direction: column;align-items: center;background-color: white;padding-right: 0.2em;padding-left: 0.2em;position: relative;}#sk-container-id-7 div.sk-item {position: relative;z-index: 1;}#sk-container-id-7 div.sk-parallel {display: flex;align-items: stretch;justify-content: center;background-color: white;position: relative;}#sk-container-id-7 div.sk-item::before, #sk-container-id-7 div.sk-parallel-item::before {content: \"\";position: absolute;border-left: 1px solid gray;box-sizing: border-box;top: 0;bottom: 0;left: 50%;z-index: -1;}#sk-container-id-7 div.sk-parallel-item {display: flex;flex-direction: column;z-index: 1;position: relative;background-color: white;}#sk-container-id-7 div.sk-parallel-item:first-child::after {align-self: flex-end;width: 50%;}#sk-container-id-7 div.sk-parallel-item:last-child::after {align-self: flex-start;width: 50%;}#sk-container-id-7 div.sk-parallel-item:only-child::after {width: 0;}#sk-container-id-7 div.sk-dashed-wrapped {border: 1px dashed gray;margin: 0 0.4em 0.5em 0.4em;box-sizing: border-box;padding-bottom: 0.4em;background-color: white;}#sk-container-id-7 div.sk-label label {font-family: monospace;font-weight: bold;display: inline-block;line-height: 1.2em;}#sk-container-id-7 div.sk-label-container {text-align: center;}#sk-container-id-7 div.sk-container {/* jupyter's `normalize.less` sets `[hidden] { display: none; }` but bootstrap.min.css set `[hidden] { display: none !important; }` so we also need the `!important` here to be able to override the default hidden behavior on the sphinx rendered scikit-learn.org. See: https://github.com/scikit-learn/scikit-learn/issues/21755 */display: inline-block !important;position: relative;}#sk-container-id-7 div.sk-text-repr-fallback {display: none;}</style><div id=\"sk-container-id-7\" class=\"sk-top-container\"><div class=\"sk-text-repr-fallback\"><pre>XGBClassifier(base_score=0.5, booster=&#x27;gbtree&#x27;, callbacks=None,\n",
       "              colsample_bylevel=1, colsample_bynode=1, colsample_bytree=1,\n",
       "              early_stopping_rounds=None, enable_categorical=False,\n",
       "              eval_metric=None, gamma=0, gpu_id=-1, grow_policy=&#x27;depthwise&#x27;,\n",
       "              importance_type=None, interaction_constraints=&#x27;&#x27;,\n",
       "              learning_rate=0.300000012, max_bin=256, max_cat_to_onehot=4,\n",
       "              max_delta_step=0, max_depth=6, max_leaves=0, min_child_weight=1,\n",
       "              missing=nan, monotone_constraints=&#x27;()&#x27;, n_estimators=100,\n",
       "              n_jobs=0, num_parallel_tree=1, predictor=&#x27;auto&#x27;, random_state=0,\n",
       "              reg_alpha=0, reg_lambda=1, ...)</pre><b>In a Jupyter environment, please rerun this cell to show the HTML representation or trust the notebook. <br />On GitHub, the HTML representation is unable to render, please try loading this page with nbviewer.org.</b></div><div class=\"sk-container\" hidden><div class=\"sk-item\"><div class=\"sk-estimator sk-toggleable\"><input class=\"sk-toggleable__control sk-hidden--visually\" id=\"sk-estimator-id-7\" type=\"checkbox\" checked><label for=\"sk-estimator-id-7\" class=\"sk-toggleable__label sk-toggleable__label-arrow\">XGBClassifier</label><div class=\"sk-toggleable__content\"><pre>XGBClassifier(base_score=0.5, booster=&#x27;gbtree&#x27;, callbacks=None,\n",
       "              colsample_bylevel=1, colsample_bynode=1, colsample_bytree=1,\n",
       "              early_stopping_rounds=None, enable_categorical=False,\n",
       "              eval_metric=None, gamma=0, gpu_id=-1, grow_policy=&#x27;depthwise&#x27;,\n",
       "              importance_type=None, interaction_constraints=&#x27;&#x27;,\n",
       "              learning_rate=0.300000012, max_bin=256, max_cat_to_onehot=4,\n",
       "              max_delta_step=0, max_depth=6, max_leaves=0, min_child_weight=1,\n",
       "              missing=nan, monotone_constraints=&#x27;()&#x27;, n_estimators=100,\n",
       "              n_jobs=0, num_parallel_tree=1, predictor=&#x27;auto&#x27;, random_state=0,\n",
       "              reg_alpha=0, reg_lambda=1, ...)</pre></div></div></div></div></div>"
      ],
      "text/plain": [
       "XGBClassifier(base_score=0.5, booster='gbtree', callbacks=None,\n",
       "              colsample_bylevel=1, colsample_bynode=1, colsample_bytree=1,\n",
       "              early_stopping_rounds=None, enable_categorical=False,\n",
       "              eval_metric=None, gamma=0, gpu_id=-1, grow_policy='depthwise',\n",
       "              importance_type=None, interaction_constraints='',\n",
       "              learning_rate=0.300000012, max_bin=256, max_cat_to_onehot=4,\n",
       "              max_delta_step=0, max_depth=6, max_leaves=0, min_child_weight=1,\n",
       "              missing=nan, monotone_constraints='()', n_estimators=100,\n",
       "              n_jobs=0, num_parallel_tree=1, predictor='auto', random_state=0,\n",
       "              reg_alpha=0, reg_lambda=1, ...)"
      ]
     },
     "execution_count": 173,
     "metadata": {},
     "output_type": "execute_result"
    }
   ],
   "source": [
    "xgb.fit(x_train,y_train)"
   ]
  },
  {
   "cell_type": "code",
   "execution_count": 174,
   "id": "2233aea3",
   "metadata": {},
   "outputs": [],
   "source": [
    "y_pred_train_xgb=xgb.predict(x_train)"
   ]
  },
  {
   "cell_type": "code",
   "execution_count": 175,
   "id": "229d1e26",
   "metadata": {},
   "outputs": [],
   "source": [
    "y_pred_test_xgb=xgb.predict(x_test)"
   ]
  },
  {
   "cell_type": "code",
   "execution_count": 176,
   "id": "4b90247c",
   "metadata": {},
   "outputs": [],
   "source": [
    "train_pred_df['XGBoost']=y_pred_train_xgb"
   ]
  },
  {
   "cell_type": "code",
   "execution_count": 177,
   "id": "dde60e8b",
   "metadata": {},
   "outputs": [],
   "source": [
    "test_pred_df['XGBoost']=y_pred_test_xgb"
   ]
  },
  {
   "cell_type": "code",
   "execution_count": 178,
   "id": "80c12042",
   "metadata": {},
   "outputs": [
    {
     "name": "stdout",
     "output_type": "stream",
     "text": [
      "Accuracy score:\n",
      " 0.9511472028873421\n",
      "Recall score:\n",
      " 0.8539031339031339\n",
      "Precision score:\n",
      " 0.8830878020035356\n",
      "F1 Score:\n",
      " 0.8682502896871379\n",
      "[0.9511472028873421, 0.8539031339031339, 0.8830878020035356, 0.8682502896871379]\n"
     ]
    }
   ],
   "source": [
    "XGB_error_metrics_TRAIN=error_metrics(y_train,y_pred_train_xgb)"
   ]
  },
  {
   "cell_type": "code",
   "execution_count": 179,
   "id": "617510b2",
   "metadata": {},
   "outputs": [],
   "source": [
    "xgb_train=[0.9511472028873421, 0.8539031339031339, 0.8830878020035356, 0.8682502896871379]"
   ]
  },
  {
   "cell_type": "code",
   "execution_count": 180,
   "id": "9fd6eb21",
   "metadata": {},
   "outputs": [
    {
     "name": "stdout",
     "output_type": "stream",
     "text": [
      "Accuracy score:\n",
      " 0.9194878845162399\n",
      "Recall score:\n",
      " 0.7684594348222424\n",
      "Precision score:\n",
      " 0.7971631205673759\n",
      "F1 Score:\n",
      " 0.7825481550243676\n",
      "[0.9194878845162399, 0.7684594348222424, 0.7971631205673759, 0.7825481550243676]\n"
     ]
    }
   ],
   "source": [
    "XGB_error_metrics_TEST=error_metrics(y_test,y_pred_test_xgb)"
   ]
  },
  {
   "cell_type": "code",
   "execution_count": 184,
   "id": "991db7f4",
   "metadata": {},
   "outputs": [],
   "source": [
    "xgb_test=[0.9194878845162399, 0.7684594348222424, 0.7971631205673759, 0.7825481550243676]"
   ]
  },
  {
   "cell_type": "code",
   "execution_count": 185,
   "id": "4b018180",
   "metadata": {},
   "outputs": [],
   "source": [
    "error_df['XGBoost_Train']=xgb_train"
   ]
  },
  {
   "cell_type": "code",
   "execution_count": 186,
   "id": "31ad48cb",
   "metadata": {},
   "outputs": [],
   "source": [
    "error_df['XGBoost_Test']=xgb_test"
   ]
  },
  {
   "cell_type": "code",
   "execution_count": 187,
   "id": "a9e8eb98",
   "metadata": {},
   "outputs": [
    {
     "data": {
      "text/html": [
       "<div>\n",
       "<style scoped>\n",
       "    .dataframe tbody tr th:only-of-type {\n",
       "        vertical-align: middle;\n",
       "    }\n",
       "\n",
       "    .dataframe tbody tr th {\n",
       "        vertical-align: top;\n",
       "    }\n",
       "\n",
       "    .dataframe thead th {\n",
       "        text-align: right;\n",
       "    }\n",
       "</style>\n",
       "<table border=\"1\" class=\"dataframe\">\n",
       "  <thead>\n",
       "    <tr style=\"text-align: right;\">\n",
       "      <th></th>\n",
       "      <th>KNN_Train</th>\n",
       "      <th>kNN_Test</th>\n",
       "      <th>DT_Train</th>\n",
       "      <th>DT_Test</th>\n",
       "      <th>Logr_Train</th>\n",
       "      <th>Logr_Test</th>\n",
       "      <th>NB_Train</th>\n",
       "      <th>NB_Test</th>\n",
       "      <th>RF_Train</th>\n",
       "      <th>RF_Test</th>\n",
       "      <th>Adaboost_Train</th>\n",
       "      <th>Adaboost_Test</th>\n",
       "      <th>GradientBoost_Train</th>\n",
       "      <th>GradientBoost_Test</th>\n",
       "      <th>XGBoost_Train</th>\n",
       "      <th>XGBoost_Test</th>\n",
       "    </tr>\n",
       "  </thead>\n",
       "  <tbody>\n",
       "    <tr>\n",
       "      <th>Accuracy_Score</th>\n",
       "      <td>0.814299</td>\n",
       "      <td>0.814917</td>\n",
       "      <td>0.864871</td>\n",
       "      <td>0.865183</td>\n",
       "      <td>0.814299</td>\n",
       "      <td>0.814917</td>\n",
       "      <td>0.238549</td>\n",
       "      <td>0.238185</td>\n",
       "      <td>0.997680</td>\n",
       "      <td>0.933322</td>\n",
       "      <td>0.896558</td>\n",
       "      <td>0.892250</td>\n",
       "      <td>0.908181</td>\n",
       "      <td>0.905482</td>\n",
       "      <td>0.951147</td>\n",
       "      <td>0.919488</td>\n",
       "    </tr>\n",
       "    <tr>\n",
       "      <th>Recall_Score</th>\n",
       "      <td>0.025641</td>\n",
       "      <td>0.028715</td>\n",
       "      <td>0.498006</td>\n",
       "      <td>0.501823</td>\n",
       "      <td>0.025641</td>\n",
       "      <td>0.028715</td>\n",
       "      <td>0.980627</td>\n",
       "      <td>0.971741</td>\n",
       "      <td>0.992934</td>\n",
       "      <td>0.814494</td>\n",
       "      <td>0.646154</td>\n",
       "      <td>0.629444</td>\n",
       "      <td>0.697436</td>\n",
       "      <td>0.685050</td>\n",
       "      <td>0.853903</td>\n",
       "      <td>0.768459</td>\n",
       "    </tr>\n",
       "    <tr>\n",
       "      <th>Precision_Score</th>\n",
       "      <td>0.705329</td>\n",
       "      <td>0.732558</td>\n",
       "      <td>0.698641</td>\n",
       "      <td>0.698161</td>\n",
       "      <td>0.705329</td>\n",
       "      <td>0.732558</td>\n",
       "      <td>0.196107</td>\n",
       "      <td>0.194952</td>\n",
       "      <td>0.994748</td>\n",
       "      <td>0.828850</td>\n",
       "      <td>0.768293</td>\n",
       "      <td>0.757958</td>\n",
       "      <td>0.790800</td>\n",
       "      <td>0.786088</td>\n",
       "      <td>0.883088</td>\n",
       "      <td>0.797163</td>\n",
       "    </tr>\n",
       "    <tr>\n",
       "      <th>F1_Score</th>\n",
       "      <td>0.049483</td>\n",
       "      <td>0.055263</td>\n",
       "      <td>0.581504</td>\n",
       "      <td>0.583930</td>\n",
       "      <td>0.049483</td>\n",
       "      <td>0.055263</td>\n",
       "      <td>0.326851</td>\n",
       "      <td>0.324752</td>\n",
       "      <td>0.993841</td>\n",
       "      <td>0.821609</td>\n",
       "      <td>0.701950</td>\n",
       "      <td>0.687749</td>\n",
       "      <td>0.741189</td>\n",
       "      <td>0.732099</td>\n",
       "      <td>0.868250</td>\n",
       "      <td>0.782548</td>\n",
       "    </tr>\n",
       "  </tbody>\n",
       "</table>\n",
       "</div>"
      ],
      "text/plain": [
       "                 KNN_Train  kNN_Test  DT_Train   DT_Test  Logr_Train  \\\n",
       "Accuracy_Score    0.814299  0.814917  0.864871  0.865183    0.814299   \n",
       "Recall_Score      0.025641  0.028715  0.498006  0.501823    0.025641   \n",
       "Precision_Score   0.705329  0.732558  0.698641  0.698161    0.705329   \n",
       "F1_Score          0.049483  0.055263  0.581504  0.583930    0.049483   \n",
       "\n",
       "                 Logr_Test  NB_Train   NB_Test  RF_Train   RF_Test  \\\n",
       "Accuracy_Score    0.814917  0.238549  0.238185  0.997680  0.933322   \n",
       "Recall_Score      0.028715  0.980627  0.971741  0.992934  0.814494   \n",
       "Precision_Score   0.732558  0.196107  0.194952  0.994748  0.828850   \n",
       "F1_Score          0.055263  0.326851  0.324752  0.993841  0.821609   \n",
       "\n",
       "                 Adaboost_Train  Adaboost_Test  GradientBoost_Train  \\\n",
       "Accuracy_Score         0.896558       0.892250             0.908181   \n",
       "Recall_Score           0.646154       0.629444             0.697436   \n",
       "Precision_Score        0.768293       0.757958             0.790800   \n",
       "F1_Score               0.701950       0.687749             0.741189   \n",
       "\n",
       "                 GradientBoost_Test  XGBoost_Train  XGBoost_Test  \n",
       "Accuracy_Score             0.905482       0.951147      0.919488  \n",
       "Recall_Score               0.685050       0.853903      0.768459  \n",
       "Precision_Score            0.786088       0.883088      0.797163  \n",
       "F1_Score                   0.732099       0.868250      0.782548  "
      ]
     },
     "execution_count": 187,
     "metadata": {},
     "output_type": "execute_result"
    }
   ],
   "source": [
    "error_df"
   ]
  },
  {
   "cell_type": "code",
   "execution_count": 188,
   "id": "53f936cb",
   "metadata": {},
   "outputs": [
    {
     "data": {
      "text/html": [
       "<div>\n",
       "<style scoped>\n",
       "    .dataframe tbody tr th:only-of-type {\n",
       "        vertical-align: middle;\n",
       "    }\n",
       "\n",
       "    .dataframe tbody tr th {\n",
       "        vertical-align: top;\n",
       "    }\n",
       "\n",
       "    .dataframe thead th {\n",
       "        text-align: right;\n",
       "    }\n",
       "</style>\n",
       "<table border=\"1\" class=\"dataframe\">\n",
       "  <thead>\n",
       "    <tr style=\"text-align: right;\">\n",
       "      <th></th>\n",
       "      <th>LogisticRegression</th>\n",
       "      <th>DecisionTreeClassifier</th>\n",
       "      <th>KNeighborsClassifier</th>\n",
       "      <th>GaussianNB</th>\n",
       "      <th>RandomForest</th>\n",
       "      <th>Adaboost</th>\n",
       "      <th>GradientBoosting</th>\n",
       "      <th>XGBoost</th>\n",
       "    </tr>\n",
       "  </thead>\n",
       "  <tbody>\n",
       "    <tr>\n",
       "      <th>0</th>\n",
       "      <td>0</td>\n",
       "      <td>0</td>\n",
       "      <td>0</td>\n",
       "      <td>1</td>\n",
       "      <td>0</td>\n",
       "      <td>0</td>\n",
       "      <td>0</td>\n",
       "      <td>0</td>\n",
       "    </tr>\n",
       "    <tr>\n",
       "      <th>1</th>\n",
       "      <td>0</td>\n",
       "      <td>0</td>\n",
       "      <td>0</td>\n",
       "      <td>1</td>\n",
       "      <td>0</td>\n",
       "      <td>0</td>\n",
       "      <td>0</td>\n",
       "      <td>0</td>\n",
       "    </tr>\n",
       "    <tr>\n",
       "      <th>2</th>\n",
       "      <td>0</td>\n",
       "      <td>0</td>\n",
       "      <td>0</td>\n",
       "      <td>1</td>\n",
       "      <td>0</td>\n",
       "      <td>0</td>\n",
       "      <td>0</td>\n",
       "      <td>0</td>\n",
       "    </tr>\n",
       "    <tr>\n",
       "      <th>3</th>\n",
       "      <td>0</td>\n",
       "      <td>0</td>\n",
       "      <td>0</td>\n",
       "      <td>1</td>\n",
       "      <td>0</td>\n",
       "      <td>0</td>\n",
       "      <td>0</td>\n",
       "      <td>0</td>\n",
       "    </tr>\n",
       "    <tr>\n",
       "      <th>4</th>\n",
       "      <td>0</td>\n",
       "      <td>0</td>\n",
       "      <td>0</td>\n",
       "      <td>1</td>\n",
       "      <td>0</td>\n",
       "      <td>0</td>\n",
       "      <td>0</td>\n",
       "      <td>0</td>\n",
       "    </tr>\n",
       "  </tbody>\n",
       "</table>\n",
       "</div>"
      ],
      "text/plain": [
       "   LogisticRegression  DecisionTreeClassifier  KNeighborsClassifier  \\\n",
       "0                   0                       0                     0   \n",
       "1                   0                       0                     0   \n",
       "2                   0                       0                     0   \n",
       "3                   0                       0                     0   \n",
       "4                   0                       0                     0   \n",
       "\n",
       "   GaussianNB  RandomForest  Adaboost  GradientBoosting  XGBoost  \n",
       "0           1             0         0                 0        0  \n",
       "1           1             0         0                 0        0  \n",
       "2           1             0         0                 0        0  \n",
       "3           1             0         0                 0        0  \n",
       "4           1             0         0                 0        0  "
      ]
     },
     "execution_count": 188,
     "metadata": {},
     "output_type": "execute_result"
    }
   ],
   "source": [
    "test_pred_df.head()"
   ]
  },
  {
   "cell_type": "code",
   "execution_count": 189,
   "id": "bdd03e4b",
   "metadata": {},
   "outputs": [
    {
     "data": {
      "text/html": [
       "<div>\n",
       "<style scoped>\n",
       "    .dataframe tbody tr th:only-of-type {\n",
       "        vertical-align: middle;\n",
       "    }\n",
       "\n",
       "    .dataframe tbody tr th {\n",
       "        vertical-align: top;\n",
       "    }\n",
       "\n",
       "    .dataframe thead th {\n",
       "        text-align: right;\n",
       "    }\n",
       "</style>\n",
       "<table border=\"1\" class=\"dataframe\">\n",
       "  <thead>\n",
       "    <tr style=\"text-align: right;\">\n",
       "      <th></th>\n",
       "      <th>LogisticRegression</th>\n",
       "      <th>DecisionTreeClassifier</th>\n",
       "      <th>KNeighborsClassifier</th>\n",
       "      <th>GaussianNB</th>\n",
       "      <th>RandomForest</th>\n",
       "      <th>Adaboost</th>\n",
       "      <th>GradientBoosting</th>\n",
       "      <th>XGBoost</th>\n",
       "    </tr>\n",
       "  </thead>\n",
       "  <tbody>\n",
       "    <tr>\n",
       "      <th>0</th>\n",
       "      <td>0</td>\n",
       "      <td>0</td>\n",
       "      <td>0</td>\n",
       "      <td>1</td>\n",
       "      <td>0</td>\n",
       "      <td>0</td>\n",
       "      <td>0</td>\n",
       "      <td>0</td>\n",
       "    </tr>\n",
       "    <tr>\n",
       "      <th>1</th>\n",
       "      <td>0</td>\n",
       "      <td>0</td>\n",
       "      <td>0</td>\n",
       "      <td>1</td>\n",
       "      <td>0</td>\n",
       "      <td>0</td>\n",
       "      <td>0</td>\n",
       "      <td>0</td>\n",
       "    </tr>\n",
       "    <tr>\n",
       "      <th>2</th>\n",
       "      <td>0</td>\n",
       "      <td>0</td>\n",
       "      <td>1</td>\n",
       "      <td>1</td>\n",
       "      <td>1</td>\n",
       "      <td>0</td>\n",
       "      <td>0</td>\n",
       "      <td>1</td>\n",
       "    </tr>\n",
       "    <tr>\n",
       "      <th>3</th>\n",
       "      <td>0</td>\n",
       "      <td>0</td>\n",
       "      <td>0</td>\n",
       "      <td>1</td>\n",
       "      <td>0</td>\n",
       "      <td>0</td>\n",
       "      <td>0</td>\n",
       "      <td>0</td>\n",
       "    </tr>\n",
       "    <tr>\n",
       "      <th>4</th>\n",
       "      <td>0</td>\n",
       "      <td>0</td>\n",
       "      <td>0</td>\n",
       "      <td>1</td>\n",
       "      <td>0</td>\n",
       "      <td>0</td>\n",
       "      <td>0</td>\n",
       "      <td>0</td>\n",
       "    </tr>\n",
       "  </tbody>\n",
       "</table>\n",
       "</div>"
      ],
      "text/plain": [
       "   LogisticRegression  DecisionTreeClassifier  KNeighborsClassifier  \\\n",
       "0                   0                       0                     0   \n",
       "1                   0                       0                     0   \n",
       "2                   0                       0                     1   \n",
       "3                   0                       0                     0   \n",
       "4                   0                       0                     0   \n",
       "\n",
       "   GaussianNB  RandomForest  Adaboost  GradientBoosting  XGBoost  \n",
       "0           1             0         0                 0        0  \n",
       "1           1             0         0                 0        0  \n",
       "2           1             1         0                 0        1  \n",
       "3           1             0         0                 0        0  \n",
       "4           1             0         0                 0        0  "
      ]
     },
     "execution_count": 189,
     "metadata": {},
     "output_type": "execute_result"
    }
   ],
   "source": [
    "train_pred_df.head()"
   ]
  },
  {
   "cell_type": "code",
   "execution_count": 229,
   "id": "ce033ceb",
   "metadata": {},
   "outputs": [],
   "source": [
    "param_grid={'n_estimators':[50,100],\n",
    "           'max_depth':[1,3,5],\n",
    "           'max_features':[3,5],\n",
    "           'min_samples_leaf':[1,2,4]}"
   ]
  },
  {
   "cell_type": "code",
   "execution_count": 230,
   "id": "ffde63cd",
   "metadata": {},
   "outputs": [],
   "source": [
    "clf_1=RandomForestClassifier()"
   ]
  },
  {
   "cell_type": "code",
   "execution_count": 231,
   "id": "bb4d95e3",
   "metadata": {},
   "outputs": [],
   "source": [
    "from sklearn.model_selection import GridSearchCV"
   ]
  },
  {
   "cell_type": "code",
   "execution_count": 232,
   "id": "b5f07a2a",
   "metadata": {
    "scrolled": true
   },
   "outputs": [],
   "source": [
    "clf_grid=GridSearchCV(clf_1,param_grid,cv=2)"
   ]
  },
  {
   "cell_type": "code",
   "execution_count": 233,
   "id": "22fb9b47",
   "metadata": {
    "scrolled": false
   },
   "outputs": [
    {
     "data": {
      "text/html": [
       "<style>#sk-container-id-10 {color: black;background-color: white;}#sk-container-id-10 pre{padding: 0;}#sk-container-id-10 div.sk-toggleable {background-color: white;}#sk-container-id-10 label.sk-toggleable__label {cursor: pointer;display: block;width: 100%;margin-bottom: 0;padding: 0.3em;box-sizing: border-box;text-align: center;}#sk-container-id-10 label.sk-toggleable__label-arrow:before {content: \"▸\";float: left;margin-right: 0.25em;color: #696969;}#sk-container-id-10 label.sk-toggleable__label-arrow:hover:before {color: black;}#sk-container-id-10 div.sk-estimator:hover label.sk-toggleable__label-arrow:before {color: black;}#sk-container-id-10 div.sk-toggleable__content {max-height: 0;max-width: 0;overflow: hidden;text-align: left;background-color: #f0f8ff;}#sk-container-id-10 div.sk-toggleable__content pre {margin: 0.2em;color: black;border-radius: 0.25em;background-color: #f0f8ff;}#sk-container-id-10 input.sk-toggleable__control:checked~div.sk-toggleable__content {max-height: 200px;max-width: 100%;overflow: auto;}#sk-container-id-10 input.sk-toggleable__control:checked~label.sk-toggleable__label-arrow:before {content: \"▾\";}#sk-container-id-10 div.sk-estimator input.sk-toggleable__control:checked~label.sk-toggleable__label {background-color: #d4ebff;}#sk-container-id-10 div.sk-label input.sk-toggleable__control:checked~label.sk-toggleable__label {background-color: #d4ebff;}#sk-container-id-10 input.sk-hidden--visually {border: 0;clip: rect(1px 1px 1px 1px);clip: rect(1px, 1px, 1px, 1px);height: 1px;margin: -1px;overflow: hidden;padding: 0;position: absolute;width: 1px;}#sk-container-id-10 div.sk-estimator {font-family: monospace;background-color: #f0f8ff;border: 1px dotted black;border-radius: 0.25em;box-sizing: border-box;margin-bottom: 0.5em;}#sk-container-id-10 div.sk-estimator:hover {background-color: #d4ebff;}#sk-container-id-10 div.sk-parallel-item::after {content: \"\";width: 100%;border-bottom: 1px solid gray;flex-grow: 1;}#sk-container-id-10 div.sk-label:hover label.sk-toggleable__label {background-color: #d4ebff;}#sk-container-id-10 div.sk-serial::before {content: \"\";position: absolute;border-left: 1px solid gray;box-sizing: border-box;top: 0;bottom: 0;left: 50%;z-index: 0;}#sk-container-id-10 div.sk-serial {display: flex;flex-direction: column;align-items: center;background-color: white;padding-right: 0.2em;padding-left: 0.2em;position: relative;}#sk-container-id-10 div.sk-item {position: relative;z-index: 1;}#sk-container-id-10 div.sk-parallel {display: flex;align-items: stretch;justify-content: center;background-color: white;position: relative;}#sk-container-id-10 div.sk-item::before, #sk-container-id-10 div.sk-parallel-item::before {content: \"\";position: absolute;border-left: 1px solid gray;box-sizing: border-box;top: 0;bottom: 0;left: 50%;z-index: -1;}#sk-container-id-10 div.sk-parallel-item {display: flex;flex-direction: column;z-index: 1;position: relative;background-color: white;}#sk-container-id-10 div.sk-parallel-item:first-child::after {align-self: flex-end;width: 50%;}#sk-container-id-10 div.sk-parallel-item:last-child::after {align-self: flex-start;width: 50%;}#sk-container-id-10 div.sk-parallel-item:only-child::after {width: 0;}#sk-container-id-10 div.sk-dashed-wrapped {border: 1px dashed gray;margin: 0 0.4em 0.5em 0.4em;box-sizing: border-box;padding-bottom: 0.4em;background-color: white;}#sk-container-id-10 div.sk-label label {font-family: monospace;font-weight: bold;display: inline-block;line-height: 1.2em;}#sk-container-id-10 div.sk-label-container {text-align: center;}#sk-container-id-10 div.sk-container {/* jupyter's `normalize.less` sets `[hidden] { display: none; }` but bootstrap.min.css set `[hidden] { display: none !important; }` so we also need the `!important` here to be able to override the default hidden behavior on the sphinx rendered scikit-learn.org. See: https://github.com/scikit-learn/scikit-learn/issues/21755 */display: inline-block !important;position: relative;}#sk-container-id-10 div.sk-text-repr-fallback {display: none;}</style><div id=\"sk-container-id-10\" class=\"sk-top-container\"><div class=\"sk-text-repr-fallback\"><pre>GridSearchCV(cv=2, estimator=RandomForestClassifier(),\n",
       "             param_grid={&#x27;max_depth&#x27;: [1, 3, 5], &#x27;max_features&#x27;: [3, 5],\n",
       "                         &#x27;min_samples_leaf&#x27;: [1, 2, 4],\n",
       "                         &#x27;n_estimators&#x27;: [50, 100]})</pre><b>In a Jupyter environment, please rerun this cell to show the HTML representation or trust the notebook. <br />On GitHub, the HTML representation is unable to render, please try loading this page with nbviewer.org.</b></div><div class=\"sk-container\" hidden><div class=\"sk-item sk-dashed-wrapped\"><div class=\"sk-label-container\"><div class=\"sk-label sk-toggleable\"><input class=\"sk-toggleable__control sk-hidden--visually\" id=\"sk-estimator-id-14\" type=\"checkbox\" ><label for=\"sk-estimator-id-14\" class=\"sk-toggleable__label sk-toggleable__label-arrow\">GridSearchCV</label><div class=\"sk-toggleable__content\"><pre>GridSearchCV(cv=2, estimator=RandomForestClassifier(),\n",
       "             param_grid={&#x27;max_depth&#x27;: [1, 3, 5], &#x27;max_features&#x27;: [3, 5],\n",
       "                         &#x27;min_samples_leaf&#x27;: [1, 2, 4],\n",
       "                         &#x27;n_estimators&#x27;: [50, 100]})</pre></div></div></div><div class=\"sk-parallel\"><div class=\"sk-parallel-item\"><div class=\"sk-item\"><div class=\"sk-label-container\"><div class=\"sk-label sk-toggleable\"><input class=\"sk-toggleable__control sk-hidden--visually\" id=\"sk-estimator-id-15\" type=\"checkbox\" ><label for=\"sk-estimator-id-15\" class=\"sk-toggleable__label sk-toggleable__label-arrow\">estimator: RandomForestClassifier</label><div class=\"sk-toggleable__content\"><pre>RandomForestClassifier()</pre></div></div></div><div class=\"sk-serial\"><div class=\"sk-item\"><div class=\"sk-estimator sk-toggleable\"><input class=\"sk-toggleable__control sk-hidden--visually\" id=\"sk-estimator-id-16\" type=\"checkbox\" ><label for=\"sk-estimator-id-16\" class=\"sk-toggleable__label sk-toggleable__label-arrow\">RandomForestClassifier</label><div class=\"sk-toggleable__content\"><pre>RandomForestClassifier()</pre></div></div></div></div></div></div></div></div></div></div>"
      ],
      "text/plain": [
       "GridSearchCV(cv=2, estimator=RandomForestClassifier(),\n",
       "             param_grid={'max_depth': [1, 3, 5], 'max_features': [3, 5],\n",
       "                         'min_samples_leaf': [1, 2, 4],\n",
       "                         'n_estimators': [50, 100]})"
      ]
     },
     "execution_count": 233,
     "metadata": {},
     "output_type": "execute_result"
    }
   ],
   "source": [
    "clf_grid.fit(x_train,y_train)"
   ]
  },
  {
   "cell_type": "code",
   "execution_count": 234,
   "id": "db46eb11",
   "metadata": {
    "scrolled": true
   },
   "outputs": [
    {
     "data": {
      "text/plain": [
       "{'max_depth': 5, 'max_features': 5, 'min_samples_leaf': 4, 'n_estimators': 50}"
      ]
     },
     "execution_count": 234,
     "metadata": {},
     "output_type": "execute_result"
    }
   ],
   "source": [
    "clf_grid.best_params_"
   ]
  },
  {
   "cell_type": "code",
   "execution_count": 235,
   "id": "53819472",
   "metadata": {},
   "outputs": [
    {
     "data": {
      "text/plain": [
       "0.8934003609177623"
      ]
     },
     "execution_count": 235,
     "metadata": {},
     "output_type": "execute_result"
    }
   ],
   "source": [
    "clf_grid.best_score_ "
   ]
  },
  {
   "cell_type": "code",
   "execution_count": 237,
   "id": "4c4491dd",
   "metadata": {},
   "outputs": [],
   "source": [
    "cv_rf_y_pred_train=clf_grid.predict(x_train)"
   ]
  },
  {
   "cell_type": "code",
   "execution_count": 238,
   "id": "bc935746",
   "metadata": {},
   "outputs": [],
   "source": [
    "cv_rf_y_pred_test=clf_grid.predict(x_test)"
   ]
  },
  {
   "cell_type": "code",
   "execution_count": 239,
   "id": "31328f59",
   "metadata": {
    "scrolled": false
   },
   "outputs": [
    {
     "name": "stdout",
     "output_type": "stream",
     "text": [
      "Accuracy score:\n",
      " 0.8912184224093487\n",
      "Recall score:\n",
      " 0.564721969006381\n",
      "Precision score:\n",
      " 0.7993548387096774\n",
      "F1 Score:\n",
      " 0.6618589743589743\n",
      "[0.8912184224093487, 0.564721969006381, 0.7993548387096774, 0.6618589743589743]\n"
     ]
    }
   ],
   "source": [
    "CV_RF_error_metrics_TEST=error_metrics(y_test,cv_rf_y_pred_test)"
   ]
  },
  {
   "cell_type": "code",
   "execution_count": 241,
   "id": "c795f0dd",
   "metadata": {},
   "outputs": [],
   "source": [
    "cv_RF_Test=[0.8912184224093487, 0.564721969006381, 0.7993548387096774, 0.6618589743589743]"
   ]
  },
  {
   "cell_type": "code",
   "execution_count": 240,
   "id": "49d8b265",
   "metadata": {},
   "outputs": [
    {
     "name": "stdout",
     "output_type": "stream",
     "text": [
      "Accuracy score:\n",
      " 0.8919609865085503\n",
      "Recall score:\n",
      " 0.5641025641025641\n",
      "Precision score:\n",
      " 0.8043548911277218\n",
      "F1 Score:\n",
      " 0.6631388572576864\n",
      "[0.8919609865085503, 0.5641025641025641, 0.8043548911277218, 0.6631388572576864]\n"
     ]
    }
   ],
   "source": [
    "CV_RF_error_metrics_TRAIN=error_metrics(y_train,cv_rf_y_pred_train)"
   ]
  },
  {
   "cell_type": "code",
   "execution_count": 242,
   "id": "aed4b1a0",
   "metadata": {},
   "outputs": [],
   "source": [
    "cv_RF_Train=[0.8919609865085503, 0.5641025641025641, 0.8043548911277218, 0.6631388572576864]"
   ]
  },
  {
   "cell_type": "code",
   "execution_count": 243,
   "id": "ac3c9cd0",
   "metadata": {},
   "outputs": [],
   "source": [
    "test_pred_df['CV_RandomForest']=cv_rf_y_pred_test"
   ]
  },
  {
   "cell_type": "code",
   "execution_count": 244,
   "id": "75b5c4af",
   "metadata": {},
   "outputs": [],
   "source": [
    "train_pred_df['CV_RandomForest']=cv_rf_y_pred_train"
   ]
  },
  {
   "cell_type": "code",
   "execution_count": 245,
   "id": "62384388",
   "metadata": {},
   "outputs": [
    {
     "data": {
      "text/html": [
       "<div>\n",
       "<style scoped>\n",
       "    .dataframe tbody tr th:only-of-type {\n",
       "        vertical-align: middle;\n",
       "    }\n",
       "\n",
       "    .dataframe tbody tr th {\n",
       "        vertical-align: top;\n",
       "    }\n",
       "\n",
       "    .dataframe thead th {\n",
       "        text-align: right;\n",
       "    }\n",
       "</style>\n",
       "<table border=\"1\" class=\"dataframe\">\n",
       "  <thead>\n",
       "    <tr style=\"text-align: right;\">\n",
       "      <th></th>\n",
       "      <th>LogisticRegression</th>\n",
       "      <th>DecisionTreeClassifier</th>\n",
       "      <th>KNeighborsClassifier</th>\n",
       "      <th>GaussianNB</th>\n",
       "      <th>RandomForest</th>\n",
       "      <th>Adaboost</th>\n",
       "      <th>GradientBoosting</th>\n",
       "      <th>XGBoost</th>\n",
       "      <th>CV_RandomForest</th>\n",
       "    </tr>\n",
       "  </thead>\n",
       "  <tbody>\n",
       "    <tr>\n",
       "      <th>0</th>\n",
       "      <td>0</td>\n",
       "      <td>0</td>\n",
       "      <td>0</td>\n",
       "      <td>1</td>\n",
       "      <td>0</td>\n",
       "      <td>0</td>\n",
       "      <td>0</td>\n",
       "      <td>0</td>\n",
       "      <td>0</td>\n",
       "    </tr>\n",
       "    <tr>\n",
       "      <th>1</th>\n",
       "      <td>0</td>\n",
       "      <td>0</td>\n",
       "      <td>0</td>\n",
       "      <td>1</td>\n",
       "      <td>0</td>\n",
       "      <td>0</td>\n",
       "      <td>0</td>\n",
       "      <td>0</td>\n",
       "      <td>0</td>\n",
       "    </tr>\n",
       "    <tr>\n",
       "      <th>2</th>\n",
       "      <td>0</td>\n",
       "      <td>0</td>\n",
       "      <td>1</td>\n",
       "      <td>1</td>\n",
       "      <td>1</td>\n",
       "      <td>0</td>\n",
       "      <td>0</td>\n",
       "      <td>1</td>\n",
       "      <td>0</td>\n",
       "    </tr>\n",
       "    <tr>\n",
       "      <th>3</th>\n",
       "      <td>0</td>\n",
       "      <td>0</td>\n",
       "      <td>0</td>\n",
       "      <td>1</td>\n",
       "      <td>0</td>\n",
       "      <td>0</td>\n",
       "      <td>0</td>\n",
       "      <td>0</td>\n",
       "      <td>0</td>\n",
       "    </tr>\n",
       "    <tr>\n",
       "      <th>4</th>\n",
       "      <td>0</td>\n",
       "      <td>0</td>\n",
       "      <td>0</td>\n",
       "      <td>1</td>\n",
       "      <td>0</td>\n",
       "      <td>0</td>\n",
       "      <td>0</td>\n",
       "      <td>0</td>\n",
       "      <td>0</td>\n",
       "    </tr>\n",
       "    <tr>\n",
       "      <th>...</th>\n",
       "      <td>...</td>\n",
       "      <td>...</td>\n",
       "      <td>...</td>\n",
       "      <td>...</td>\n",
       "      <td>...</td>\n",
       "      <td>...</td>\n",
       "      <td>...</td>\n",
       "      <td>...</td>\n",
       "      <td>...</td>\n",
       "    </tr>\n",
       "    <tr>\n",
       "      <th>46543</th>\n",
       "      <td>0</td>\n",
       "      <td>0</td>\n",
       "      <td>1</td>\n",
       "      <td>1</td>\n",
       "      <td>1</td>\n",
       "      <td>1</td>\n",
       "      <td>1</td>\n",
       "      <td>1</td>\n",
       "      <td>1</td>\n",
       "    </tr>\n",
       "    <tr>\n",
       "      <th>46544</th>\n",
       "      <td>0</td>\n",
       "      <td>1</td>\n",
       "      <td>1</td>\n",
       "      <td>1</td>\n",
       "      <td>1</td>\n",
       "      <td>1</td>\n",
       "      <td>1</td>\n",
       "      <td>1</td>\n",
       "      <td>1</td>\n",
       "    </tr>\n",
       "    <tr>\n",
       "      <th>46545</th>\n",
       "      <td>0</td>\n",
       "      <td>0</td>\n",
       "      <td>0</td>\n",
       "      <td>1</td>\n",
       "      <td>0</td>\n",
       "      <td>0</td>\n",
       "      <td>0</td>\n",
       "      <td>0</td>\n",
       "      <td>0</td>\n",
       "    </tr>\n",
       "    <tr>\n",
       "      <th>46546</th>\n",
       "      <td>0</td>\n",
       "      <td>0</td>\n",
       "      <td>0</td>\n",
       "      <td>1</td>\n",
       "      <td>0</td>\n",
       "      <td>0</td>\n",
       "      <td>0</td>\n",
       "      <td>0</td>\n",
       "      <td>0</td>\n",
       "    </tr>\n",
       "    <tr>\n",
       "      <th>46547</th>\n",
       "      <td>0</td>\n",
       "      <td>0</td>\n",
       "      <td>1</td>\n",
       "      <td>1</td>\n",
       "      <td>1</td>\n",
       "      <td>0</td>\n",
       "      <td>0</td>\n",
       "      <td>0</td>\n",
       "      <td>0</td>\n",
       "    </tr>\n",
       "  </tbody>\n",
       "</table>\n",
       "<p>46548 rows × 9 columns</p>\n",
       "</div>"
      ],
      "text/plain": [
       "       LogisticRegression  DecisionTreeClassifier  KNeighborsClassifier  \\\n",
       "0                       0                       0                     0   \n",
       "1                       0                       0                     0   \n",
       "2                       0                       0                     1   \n",
       "3                       0                       0                     0   \n",
       "4                       0                       0                     0   \n",
       "...                   ...                     ...                   ...   \n",
       "46543                   0                       0                     1   \n",
       "46544                   0                       1                     1   \n",
       "46545                   0                       0                     0   \n",
       "46546                   0                       0                     0   \n",
       "46547                   0                       0                     1   \n",
       "\n",
       "       GaussianNB  RandomForest  Adaboost  GradientBoosting  XGBoost  \\\n",
       "0               1             0         0                 0        0   \n",
       "1               1             0         0                 0        0   \n",
       "2               1             1         0                 0        1   \n",
       "3               1             0         0                 0        0   \n",
       "4               1             0         0                 0        0   \n",
       "...           ...           ...       ...               ...      ...   \n",
       "46543           1             1         1                 1        1   \n",
       "46544           1             1         1                 1        1   \n",
       "46545           1             0         0                 0        0   \n",
       "46546           1             0         0                 0        0   \n",
       "46547           1             1         0                 0        0   \n",
       "\n",
       "       CV_RandomForest  \n",
       "0                    0  \n",
       "1                    0  \n",
       "2                    0  \n",
       "3                    0  \n",
       "4                    0  \n",
       "...                ...  \n",
       "46543                1  \n",
       "46544                1  \n",
       "46545                0  \n",
       "46546                0  \n",
       "46547                0  \n",
       "\n",
       "[46548 rows x 9 columns]"
      ]
     },
     "execution_count": 245,
     "metadata": {},
     "output_type": "execute_result"
    }
   ],
   "source": [
    "train_pred_df"
   ]
  },
  {
   "cell_type": "code",
   "execution_count": 246,
   "id": "b9a7b60b",
   "metadata": {},
   "outputs": [
    {
     "data": {
      "text/html": [
       "<div>\n",
       "<style scoped>\n",
       "    .dataframe tbody tr th:only-of-type {\n",
       "        vertical-align: middle;\n",
       "    }\n",
       "\n",
       "    .dataframe tbody tr th {\n",
       "        vertical-align: top;\n",
       "    }\n",
       "\n",
       "    .dataframe thead th {\n",
       "        text-align: right;\n",
       "    }\n",
       "</style>\n",
       "<table border=\"1\" class=\"dataframe\">\n",
       "  <thead>\n",
       "    <tr style=\"text-align: right;\">\n",
       "      <th></th>\n",
       "      <th>LogisticRegression</th>\n",
       "      <th>DecisionTreeClassifier</th>\n",
       "      <th>KNeighborsClassifier</th>\n",
       "      <th>GaussianNB</th>\n",
       "      <th>RandomForest</th>\n",
       "      <th>Adaboost</th>\n",
       "      <th>GradientBoosting</th>\n",
       "      <th>XGBoost</th>\n",
       "      <th>CV_RandomForest</th>\n",
       "    </tr>\n",
       "  </thead>\n",
       "  <tbody>\n",
       "    <tr>\n",
       "      <th>0</th>\n",
       "      <td>0</td>\n",
       "      <td>0</td>\n",
       "      <td>0</td>\n",
       "      <td>1</td>\n",
       "      <td>0</td>\n",
       "      <td>0</td>\n",
       "      <td>0</td>\n",
       "      <td>0</td>\n",
       "      <td>0</td>\n",
       "    </tr>\n",
       "    <tr>\n",
       "      <th>1</th>\n",
       "      <td>0</td>\n",
       "      <td>0</td>\n",
       "      <td>0</td>\n",
       "      <td>1</td>\n",
       "      <td>0</td>\n",
       "      <td>0</td>\n",
       "      <td>0</td>\n",
       "      <td>0</td>\n",
       "      <td>0</td>\n",
       "    </tr>\n",
       "    <tr>\n",
       "      <th>2</th>\n",
       "      <td>0</td>\n",
       "      <td>0</td>\n",
       "      <td>0</td>\n",
       "      <td>1</td>\n",
       "      <td>0</td>\n",
       "      <td>0</td>\n",
       "      <td>0</td>\n",
       "      <td>0</td>\n",
       "      <td>0</td>\n",
       "    </tr>\n",
       "    <tr>\n",
       "      <th>3</th>\n",
       "      <td>0</td>\n",
       "      <td>0</td>\n",
       "      <td>0</td>\n",
       "      <td>1</td>\n",
       "      <td>0</td>\n",
       "      <td>0</td>\n",
       "      <td>0</td>\n",
       "      <td>0</td>\n",
       "      <td>0</td>\n",
       "    </tr>\n",
       "    <tr>\n",
       "      <th>4</th>\n",
       "      <td>0</td>\n",
       "      <td>0</td>\n",
       "      <td>0</td>\n",
       "      <td>1</td>\n",
       "      <td>0</td>\n",
       "      <td>0</td>\n",
       "      <td>0</td>\n",
       "      <td>0</td>\n",
       "      <td>0</td>\n",
       "    </tr>\n",
       "    <tr>\n",
       "      <th>...</th>\n",
       "      <td>...</td>\n",
       "      <td>...</td>\n",
       "      <td>...</td>\n",
       "      <td>...</td>\n",
       "      <td>...</td>\n",
       "      <td>...</td>\n",
       "      <td>...</td>\n",
       "      <td>...</td>\n",
       "      <td>...</td>\n",
       "    </tr>\n",
       "    <tr>\n",
       "      <th>11633</th>\n",
       "      <td>0</td>\n",
       "      <td>0</td>\n",
       "      <td>0</td>\n",
       "      <td>1</td>\n",
       "      <td>0</td>\n",
       "      <td>0</td>\n",
       "      <td>0</td>\n",
       "      <td>0</td>\n",
       "      <td>0</td>\n",
       "    </tr>\n",
       "    <tr>\n",
       "      <th>11634</th>\n",
       "      <td>0</td>\n",
       "      <td>0</td>\n",
       "      <td>0</td>\n",
       "      <td>1</td>\n",
       "      <td>0</td>\n",
       "      <td>0</td>\n",
       "      <td>0</td>\n",
       "      <td>0</td>\n",
       "      <td>0</td>\n",
       "    </tr>\n",
       "    <tr>\n",
       "      <th>11635</th>\n",
       "      <td>0</td>\n",
       "      <td>1</td>\n",
       "      <td>1</td>\n",
       "      <td>1</td>\n",
       "      <td>1</td>\n",
       "      <td>1</td>\n",
       "      <td>1</td>\n",
       "      <td>1</td>\n",
       "      <td>1</td>\n",
       "    </tr>\n",
       "    <tr>\n",
       "      <th>11636</th>\n",
       "      <td>0</td>\n",
       "      <td>1</td>\n",
       "      <td>1</td>\n",
       "      <td>1</td>\n",
       "      <td>1</td>\n",
       "      <td>1</td>\n",
       "      <td>1</td>\n",
       "      <td>1</td>\n",
       "      <td>0</td>\n",
       "    </tr>\n",
       "    <tr>\n",
       "      <th>11637</th>\n",
       "      <td>0</td>\n",
       "      <td>0</td>\n",
       "      <td>0</td>\n",
       "      <td>1</td>\n",
       "      <td>0</td>\n",
       "      <td>0</td>\n",
       "      <td>0</td>\n",
       "      <td>0</td>\n",
       "      <td>0</td>\n",
       "    </tr>\n",
       "  </tbody>\n",
       "</table>\n",
       "<p>11638 rows × 9 columns</p>\n",
       "</div>"
      ],
      "text/plain": [
       "       LogisticRegression  DecisionTreeClassifier  KNeighborsClassifier  \\\n",
       "0                       0                       0                     0   \n",
       "1                       0                       0                     0   \n",
       "2                       0                       0                     0   \n",
       "3                       0                       0                     0   \n",
       "4                       0                       0                     0   \n",
       "...                   ...                     ...                   ...   \n",
       "11633                   0                       0                     0   \n",
       "11634                   0                       0                     0   \n",
       "11635                   0                       1                     1   \n",
       "11636                   0                       1                     1   \n",
       "11637                   0                       0                     0   \n",
       "\n",
       "       GaussianNB  RandomForest  Adaboost  GradientBoosting  XGBoost  \\\n",
       "0               1             0         0                 0        0   \n",
       "1               1             0         0                 0        0   \n",
       "2               1             0         0                 0        0   \n",
       "3               1             0         0                 0        0   \n",
       "4               1             0         0                 0        0   \n",
       "...           ...           ...       ...               ...      ...   \n",
       "11633           1             0         0                 0        0   \n",
       "11634           1             0         0                 0        0   \n",
       "11635           1             1         1                 1        1   \n",
       "11636           1             1         1                 1        1   \n",
       "11637           1             0         0                 0        0   \n",
       "\n",
       "       CV_RandomForest  \n",
       "0                    0  \n",
       "1                    0  \n",
       "2                    0  \n",
       "3                    0  \n",
       "4                    0  \n",
       "...                ...  \n",
       "11633                0  \n",
       "11634                0  \n",
       "11635                1  \n",
       "11636                0  \n",
       "11637                0  \n",
       "\n",
       "[11638 rows x 9 columns]"
      ]
     },
     "execution_count": 246,
     "metadata": {},
     "output_type": "execute_result"
    }
   ],
   "source": [
    "test_pred_df"
   ]
  },
  {
   "cell_type": "code",
   "execution_count": 247,
   "id": "912e287f",
   "metadata": {},
   "outputs": [
    {
     "data": {
      "text/html": [
       "<div>\n",
       "<style scoped>\n",
       "    .dataframe tbody tr th:only-of-type {\n",
       "        vertical-align: middle;\n",
       "    }\n",
       "\n",
       "    .dataframe tbody tr th {\n",
       "        vertical-align: top;\n",
       "    }\n",
       "\n",
       "    .dataframe thead th {\n",
       "        text-align: right;\n",
       "    }\n",
       "</style>\n",
       "<table border=\"1\" class=\"dataframe\">\n",
       "  <thead>\n",
       "    <tr style=\"text-align: right;\">\n",
       "      <th></th>\n",
       "      <th>KNN_Train</th>\n",
       "      <th>kNN_Test</th>\n",
       "      <th>DT_Train</th>\n",
       "      <th>DT_Test</th>\n",
       "      <th>Logr_Train</th>\n",
       "      <th>Logr_Test</th>\n",
       "      <th>NB_Train</th>\n",
       "      <th>NB_Test</th>\n",
       "      <th>RF_Train</th>\n",
       "      <th>RF_Test</th>\n",
       "      <th>Adaboost_Train</th>\n",
       "      <th>Adaboost_Test</th>\n",
       "      <th>GradientBoost_Train</th>\n",
       "      <th>GradientBoost_Test</th>\n",
       "      <th>XGBoost_Train</th>\n",
       "      <th>XGBoost_Test</th>\n",
       "    </tr>\n",
       "  </thead>\n",
       "  <tbody>\n",
       "    <tr>\n",
       "      <th>Accuracy_Score</th>\n",
       "      <td>0.814299</td>\n",
       "      <td>0.814917</td>\n",
       "      <td>0.864871</td>\n",
       "      <td>0.865183</td>\n",
       "      <td>0.814299</td>\n",
       "      <td>0.814917</td>\n",
       "      <td>0.238549</td>\n",
       "      <td>0.238185</td>\n",
       "      <td>0.997680</td>\n",
       "      <td>0.933322</td>\n",
       "      <td>0.896558</td>\n",
       "      <td>0.892250</td>\n",
       "      <td>0.908181</td>\n",
       "      <td>0.905482</td>\n",
       "      <td>0.951147</td>\n",
       "      <td>0.919488</td>\n",
       "    </tr>\n",
       "    <tr>\n",
       "      <th>Recall_Score</th>\n",
       "      <td>0.025641</td>\n",
       "      <td>0.028715</td>\n",
       "      <td>0.498006</td>\n",
       "      <td>0.501823</td>\n",
       "      <td>0.025641</td>\n",
       "      <td>0.028715</td>\n",
       "      <td>0.980627</td>\n",
       "      <td>0.971741</td>\n",
       "      <td>0.992934</td>\n",
       "      <td>0.814494</td>\n",
       "      <td>0.646154</td>\n",
       "      <td>0.629444</td>\n",
       "      <td>0.697436</td>\n",
       "      <td>0.685050</td>\n",
       "      <td>0.853903</td>\n",
       "      <td>0.768459</td>\n",
       "    </tr>\n",
       "    <tr>\n",
       "      <th>Precision_Score</th>\n",
       "      <td>0.705329</td>\n",
       "      <td>0.732558</td>\n",
       "      <td>0.698641</td>\n",
       "      <td>0.698161</td>\n",
       "      <td>0.705329</td>\n",
       "      <td>0.732558</td>\n",
       "      <td>0.196107</td>\n",
       "      <td>0.194952</td>\n",
       "      <td>0.994748</td>\n",
       "      <td>0.828850</td>\n",
       "      <td>0.768293</td>\n",
       "      <td>0.757958</td>\n",
       "      <td>0.790800</td>\n",
       "      <td>0.786088</td>\n",
       "      <td>0.883088</td>\n",
       "      <td>0.797163</td>\n",
       "    </tr>\n",
       "    <tr>\n",
       "      <th>F1_Score</th>\n",
       "      <td>0.049483</td>\n",
       "      <td>0.055263</td>\n",
       "      <td>0.581504</td>\n",
       "      <td>0.583930</td>\n",
       "      <td>0.049483</td>\n",
       "      <td>0.055263</td>\n",
       "      <td>0.326851</td>\n",
       "      <td>0.324752</td>\n",
       "      <td>0.993841</td>\n",
       "      <td>0.821609</td>\n",
       "      <td>0.701950</td>\n",
       "      <td>0.687749</td>\n",
       "      <td>0.741189</td>\n",
       "      <td>0.732099</td>\n",
       "      <td>0.868250</td>\n",
       "      <td>0.782548</td>\n",
       "    </tr>\n",
       "  </tbody>\n",
       "</table>\n",
       "</div>"
      ],
      "text/plain": [
       "                 KNN_Train  kNN_Test  DT_Train   DT_Test  Logr_Train  \\\n",
       "Accuracy_Score    0.814299  0.814917  0.864871  0.865183    0.814299   \n",
       "Recall_Score      0.025641  0.028715  0.498006  0.501823    0.025641   \n",
       "Precision_Score   0.705329  0.732558  0.698641  0.698161    0.705329   \n",
       "F1_Score          0.049483  0.055263  0.581504  0.583930    0.049483   \n",
       "\n",
       "                 Logr_Test  NB_Train   NB_Test  RF_Train   RF_Test  \\\n",
       "Accuracy_Score    0.814917  0.238549  0.238185  0.997680  0.933322   \n",
       "Recall_Score      0.028715  0.980627  0.971741  0.992934  0.814494   \n",
       "Precision_Score   0.732558  0.196107  0.194952  0.994748  0.828850   \n",
       "F1_Score          0.055263  0.326851  0.324752  0.993841  0.821609   \n",
       "\n",
       "                 Adaboost_Train  Adaboost_Test  GradientBoost_Train  \\\n",
       "Accuracy_Score         0.896558       0.892250             0.908181   \n",
       "Recall_Score           0.646154       0.629444             0.697436   \n",
       "Precision_Score        0.768293       0.757958             0.790800   \n",
       "F1_Score               0.701950       0.687749             0.741189   \n",
       "\n",
       "                 GradientBoost_Test  XGBoost_Train  XGBoost_Test  \n",
       "Accuracy_Score             0.905482       0.951147      0.919488  \n",
       "Recall_Score               0.685050       0.853903      0.768459  \n",
       "Precision_Score            0.786088       0.883088      0.797163  \n",
       "F1_Score                   0.732099       0.868250      0.782548  "
      ]
     },
     "execution_count": 247,
     "metadata": {},
     "output_type": "execute_result"
    }
   ],
   "source": [
    "error_df"
   ]
  },
  {
   "cell_type": "code",
   "execution_count": 248,
   "id": "483b9d90",
   "metadata": {},
   "outputs": [],
   "source": [
    "error_df['CV_RandomForest_Train']=cv_RF_Train"
   ]
  },
  {
   "cell_type": "code",
   "execution_count": 249,
   "id": "51b0bfc9",
   "metadata": {},
   "outputs": [],
   "source": [
    "error_df['CV_RandomForest_Test']=cv_RF_Test"
   ]
  },
  {
   "cell_type": "code",
   "execution_count": 250,
   "id": "ffd736f3",
   "metadata": {
    "scrolled": false
   },
   "outputs": [
    {
     "data": {
      "text/html": [
       "<div>\n",
       "<style scoped>\n",
       "    .dataframe tbody tr th:only-of-type {\n",
       "        vertical-align: middle;\n",
       "    }\n",
       "\n",
       "    .dataframe tbody tr th {\n",
       "        vertical-align: top;\n",
       "    }\n",
       "\n",
       "    .dataframe thead th {\n",
       "        text-align: right;\n",
       "    }\n",
       "</style>\n",
       "<table border=\"1\" class=\"dataframe\">\n",
       "  <thead>\n",
       "    <tr style=\"text-align: right;\">\n",
       "      <th></th>\n",
       "      <th>KNN_Train</th>\n",
       "      <th>kNN_Test</th>\n",
       "      <th>DT_Train</th>\n",
       "      <th>DT_Test</th>\n",
       "      <th>Logr_Train</th>\n",
       "      <th>Logr_Test</th>\n",
       "      <th>NB_Train</th>\n",
       "      <th>NB_Test</th>\n",
       "      <th>RF_Train</th>\n",
       "      <th>RF_Test</th>\n",
       "      <th>Adaboost_Train</th>\n",
       "      <th>Adaboost_Test</th>\n",
       "      <th>GradientBoost_Train</th>\n",
       "      <th>GradientBoost_Test</th>\n",
       "      <th>XGBoost_Train</th>\n",
       "      <th>XGBoost_Test</th>\n",
       "      <th>CV_RandomForest_Train</th>\n",
       "      <th>CV_RandomForest_Test</th>\n",
       "    </tr>\n",
       "  </thead>\n",
       "  <tbody>\n",
       "    <tr>\n",
       "      <th>Accuracy_Score</th>\n",
       "      <td>0.814299</td>\n",
       "      <td>0.814917</td>\n",
       "      <td>0.864871</td>\n",
       "      <td>0.865183</td>\n",
       "      <td>0.814299</td>\n",
       "      <td>0.814917</td>\n",
       "      <td>0.238549</td>\n",
       "      <td>0.238185</td>\n",
       "      <td>0.997680</td>\n",
       "      <td>0.933322</td>\n",
       "      <td>0.896558</td>\n",
       "      <td>0.892250</td>\n",
       "      <td>0.908181</td>\n",
       "      <td>0.905482</td>\n",
       "      <td>0.951147</td>\n",
       "      <td>0.919488</td>\n",
       "      <td>0.891961</td>\n",
       "      <td>0.891218</td>\n",
       "    </tr>\n",
       "    <tr>\n",
       "      <th>Recall_Score</th>\n",
       "      <td>0.025641</td>\n",
       "      <td>0.028715</td>\n",
       "      <td>0.498006</td>\n",
       "      <td>0.501823</td>\n",
       "      <td>0.025641</td>\n",
       "      <td>0.028715</td>\n",
       "      <td>0.980627</td>\n",
       "      <td>0.971741</td>\n",
       "      <td>0.992934</td>\n",
       "      <td>0.814494</td>\n",
       "      <td>0.646154</td>\n",
       "      <td>0.629444</td>\n",
       "      <td>0.697436</td>\n",
       "      <td>0.685050</td>\n",
       "      <td>0.853903</td>\n",
       "      <td>0.768459</td>\n",
       "      <td>0.564103</td>\n",
       "      <td>0.564722</td>\n",
       "    </tr>\n",
       "    <tr>\n",
       "      <th>Precision_Score</th>\n",
       "      <td>0.705329</td>\n",
       "      <td>0.732558</td>\n",
       "      <td>0.698641</td>\n",
       "      <td>0.698161</td>\n",
       "      <td>0.705329</td>\n",
       "      <td>0.732558</td>\n",
       "      <td>0.196107</td>\n",
       "      <td>0.194952</td>\n",
       "      <td>0.994748</td>\n",
       "      <td>0.828850</td>\n",
       "      <td>0.768293</td>\n",
       "      <td>0.757958</td>\n",
       "      <td>0.790800</td>\n",
       "      <td>0.786088</td>\n",
       "      <td>0.883088</td>\n",
       "      <td>0.797163</td>\n",
       "      <td>0.804355</td>\n",
       "      <td>0.799355</td>\n",
       "    </tr>\n",
       "    <tr>\n",
       "      <th>F1_Score</th>\n",
       "      <td>0.049483</td>\n",
       "      <td>0.055263</td>\n",
       "      <td>0.581504</td>\n",
       "      <td>0.583930</td>\n",
       "      <td>0.049483</td>\n",
       "      <td>0.055263</td>\n",
       "      <td>0.326851</td>\n",
       "      <td>0.324752</td>\n",
       "      <td>0.993841</td>\n",
       "      <td>0.821609</td>\n",
       "      <td>0.701950</td>\n",
       "      <td>0.687749</td>\n",
       "      <td>0.741189</td>\n",
       "      <td>0.732099</td>\n",
       "      <td>0.868250</td>\n",
       "      <td>0.782548</td>\n",
       "      <td>0.663139</td>\n",
       "      <td>0.661859</td>\n",
       "    </tr>\n",
       "  </tbody>\n",
       "</table>\n",
       "</div>"
      ],
      "text/plain": [
       "                 KNN_Train  kNN_Test  DT_Train   DT_Test  Logr_Train  \\\n",
       "Accuracy_Score    0.814299  0.814917  0.864871  0.865183    0.814299   \n",
       "Recall_Score      0.025641  0.028715  0.498006  0.501823    0.025641   \n",
       "Precision_Score   0.705329  0.732558  0.698641  0.698161    0.705329   \n",
       "F1_Score          0.049483  0.055263  0.581504  0.583930    0.049483   \n",
       "\n",
       "                 Logr_Test  NB_Train   NB_Test  RF_Train   RF_Test  \\\n",
       "Accuracy_Score    0.814917  0.238549  0.238185  0.997680  0.933322   \n",
       "Recall_Score      0.028715  0.980627  0.971741  0.992934  0.814494   \n",
       "Precision_Score   0.732558  0.196107  0.194952  0.994748  0.828850   \n",
       "F1_Score          0.055263  0.326851  0.324752  0.993841  0.821609   \n",
       "\n",
       "                 Adaboost_Train  Adaboost_Test  GradientBoost_Train  \\\n",
       "Accuracy_Score         0.896558       0.892250             0.908181   \n",
       "Recall_Score           0.646154       0.629444             0.697436   \n",
       "Precision_Score        0.768293       0.757958             0.790800   \n",
       "F1_Score               0.701950       0.687749             0.741189   \n",
       "\n",
       "                 GradientBoost_Test  XGBoost_Train  XGBoost_Test  \\\n",
       "Accuracy_Score             0.905482       0.951147      0.919488   \n",
       "Recall_Score               0.685050       0.853903      0.768459   \n",
       "Precision_Score            0.786088       0.883088      0.797163   \n",
       "F1_Score                   0.732099       0.868250      0.782548   \n",
       "\n",
       "                 CV_RandomForest_Train  CV_RandomForest_Test  \n",
       "Accuracy_Score                0.891961              0.891218  \n",
       "Recall_Score                  0.564103              0.564722  \n",
       "Precision_Score               0.804355              0.799355  \n",
       "F1_Score                      0.663139              0.661859  "
      ]
     },
     "execution_count": 250,
     "metadata": {},
     "output_type": "execute_result"
    }
   ],
   "source": [
    "error_df"
   ]
  },
  {
   "cell_type": "code",
   "execution_count": 256,
   "id": "e3831c62",
   "metadata": {},
   "outputs": [
    {
     "data": {
      "text/plain": [
       "Accuracy_Score     0.997680\n",
       "Recall_Score       0.992934\n",
       "Precision_Score    0.994748\n",
       "F1_Score           0.993841\n",
       "dtype: float64"
      ]
     },
     "execution_count": 256,
     "metadata": {},
     "output_type": "execute_result"
    }
   ],
   "source": [
    "error_df.max(axis=1)"
   ]
  },
  {
   "cell_type": "code",
   "execution_count": null,
   "id": "7e9d3329",
   "metadata": {},
   "outputs": [],
   "source": []
  }
 ],
 "metadata": {
  "kernelspec": {
   "display_name": "Python 3 (ipykernel)",
   "language": "python",
   "name": "python3"
  },
  "language_info": {
   "codemirror_mode": {
    "name": "ipython",
    "version": 3
   },
   "file_extension": ".py",
   "mimetype": "text/x-python",
   "name": "python",
   "nbconvert_exporter": "python",
   "pygments_lexer": "ipython3",
   "version": "3.9.12"
  }
 },
 "nbformat": 4,
 "nbformat_minor": 5
}
